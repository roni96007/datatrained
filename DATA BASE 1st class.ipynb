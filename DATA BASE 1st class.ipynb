{
 "cells": [
  {
   "cell_type": "code",
   "execution_count": 1,
   "id": "e7f38b1b",
   "metadata": {},
   "outputs": [],
   "source": [
    "import sqlite3"
   ]
  },
  {
   "cell_type": "code",
   "execution_count": 2,
   "id": "9a82f9b0-7cb6-4be1-aa40-460d66a18ba4",
   "metadata": {},
   "outputs": [],
   "source": [
    "dbcon=sqlite3.connect('testdatabase.db')"
   ]
  },
  {
   "cell_type": "code",
   "execution_count": 3,
   "id": "9ea7a62e-662f-4433-9305-81281b243567",
   "metadata": {},
   "outputs": [],
   "source": [
    "cur=dbcon.cursor()"
   ]
  },
  {
   "cell_type": "code",
   "execution_count": 4,
   "id": "4e6d3a0e",
   "metadata": {
    "scrolled": true
   },
   "outputs": [
    {
     "ename": "OperationalError",
     "evalue": "table student already exists",
     "output_type": "error",
     "traceback": [
      "\u001b[1;31m---------------------------------------------------------------------------\u001b[0m",
      "\u001b[1;31mOperationalError\u001b[0m                          Traceback (most recent call last)",
      "\u001b[1;32mC:\\Users\\SHREYA~1\\AppData\\Local\\Temp/ipykernel_11104/3528975400.py\u001b[0m in \u001b[0;36m<module>\u001b[1;34m\u001b[0m\n\u001b[1;32m----> 1\u001b[1;33m \u001b[0mcur\u001b[0m\u001b[1;33m.\u001b[0m\u001b[0mexecute\u001b[0m\u001b[1;33m(\u001b[0m\u001b[1;34m'create table student(rollno int primary key,name text,marks int)'\u001b[0m\u001b[1;33m)\u001b[0m\u001b[1;33m\u001b[0m\u001b[1;33m\u001b[0m\u001b[0m\n\u001b[0m",
      "\u001b[1;31mOperationalError\u001b[0m: table student already exists"
     ]
    }
   ],
   "source": [
    "cur.execute('create table student(rollno int primary key,name text,marks int)')"
   ]
  },
  {
   "cell_type": "code",
   "execution_count": 6,
   "id": "7d78edd7",
   "metadata": {
    "scrolled": true
   },
   "outputs": [
    {
     "data": {
      "text/plain": [
       "<sqlite3.Cursor at 0x19f3dbe4dc0>"
      ]
     },
     "execution_count": 6,
     "metadata": {},
     "output_type": "execute_result"
    }
   ],
   "source": [
    "cur.execute('insert into student(rollno,name,marks) values(001,\"Shreyasi\",80)')"
   ]
  },
  {
   "cell_type": "code",
   "execution_count": 7,
   "id": "767e025b",
   "metadata": {},
   "outputs": [
    {
     "ename": "SyntaxError",
     "evalue": "EOL while scanning string literal (Temp/ipykernel_11104/2450764318.py, line 1)",
     "output_type": "error",
     "traceback": [
      "\u001b[1;36m  File \u001b[1;32m\"C:\\Users\\SHREYA~1\\AppData\\Local\\Temp/ipykernel_11104/2450764318.py\"\u001b[1;36m, line \u001b[1;32m1\u001b[0m\n\u001b[1;33m    cur.execute('insert into student(rollno,name,marks) values(002,\"Rajdeep\",70)\u001b[0m\n\u001b[1;37m                                                                                ^\u001b[0m\n\u001b[1;31mSyntaxError\u001b[0m\u001b[1;31m:\u001b[0m EOL while scanning string literal\n"
     ]
    }
   ],
   "source": [
    "cur.execute('insert into student(rollno,name,marks) values(002,\"Rajdeep\",70)"
   ]
  },
  {
   "cell_type": "code",
   "execution_count": null,
   "id": "76360998",
   "metadata": {},
   "outputs": [],
   "source": [
    "cur.execute('insert into student(rollno,name,marks) values(003,\"Saikat\",90)')"
   ]
  },
  {
   "cell_type": "code",
   "execution_count": null,
   "id": "57f43873",
   "metadata": {},
   "outputs": [],
   "source": [
    "cur.execute('insert into student(rollno,name,marks) values(004,\"Shreetama\",60)')"
   ]
  },
  {
   "cell_type": "code",
   "execution_count": null,
   "id": "b5937a51",
   "metadata": {},
   "outputs": [],
   "source": [
    "cur.execute('insert into student(rollno,name,marks) values(005,\"Mohuya\",75)')"
   ]
  },
  {
   "cell_type": "code",
   "execution_count": null,
   "id": "8be692cc",
   "metadata": {},
   "outputs": [],
   "source": [
    "cur.execute('insert into student(rollno,name,marks) values(006,\"Rishita\",50)')"
   ]
  },
  {
   "cell_type": "code",
   "execution_count": null,
   "id": "4f4a3873",
   "metadata": {},
   "outputs": [],
   "source": [
    "cur.execute('insert into student values(007,\"roni\",40)')"
   ]
  },
  {
   "cell_type": "code",
   "execution_count": null,
   "id": "fa3c44ae",
   "metadata": {},
   "outputs": [],
   "source": [
    "cur.execute('insert into student values(008,\"Debraj\",70)')"
   ]
  },
  {
   "cell_type": "code",
   "execution_count": null,
   "id": "1b383872",
   "metadata": {},
   "outputs": [],
   "source": [
    "cur.execute('insert into student values(009,\"Sayan\",90)')"
   ]
  },
  {
   "cell_type": "code",
   "execution_count": null,
   "id": "d77fde86",
   "metadata": {},
   "outputs": [],
   "source": [
    "result=cur.execute('select * from Student')\n",
    "for i in result:\n",
    "    print(i)"
   ]
  },
  {
   "cell_type": "code",
   "execution_count": null,
   "id": "226facf6",
   "metadata": {
    "scrolled": true
   },
   "outputs": [],
   "source": [
    "result=cur.execute('select name from Student')\n",
    "\n",
    "for i in result:\n",
    "    print(i)"
   ]
  },
  {
   "cell_type": "code",
   "execution_count": null,
   "id": "510332c5",
   "metadata": {},
   "outputs": [],
   "source": [
    "result=cur.execute('select rollno from Student')\n",
    "\n",
    "for i in result:\n",
    "    print(i)"
   ]
  },
  {
   "cell_type": "code",
   "execution_count": null,
   "id": "e1252560",
   "metadata": {},
   "outputs": [],
   "source": [
    "result=cur.execute('select marks from Student')\n",
    "\n",
    "for i in result:\n",
    "    print(i)"
   ]
  },
  {
   "cell_type": "code",
   "execution_count": null,
   "id": "91e2e172",
   "metadata": {
    "scrolled": true
   },
   "outputs": [],
   "source": [
    "result=cur.execute('select name,marks from Student')\n",
    "\n",
    "for i in result:\n",
    "    print(i)"
   ]
  },
  {
   "cell_type": "code",
   "execution_count": null,
   "id": "efb8a853",
   "metadata": {},
   "outputs": [],
   "source": [
    "result=cur.execute('select rollno,marks from Student')\n",
    "\n",
    "for i in result:\n",
    "    print(i)"
   ]
  },
  {
   "cell_type": "code",
   "execution_count": null,
   "id": "1d48704a",
   "metadata": {},
   "outputs": [],
   "source": [
    "result=cur.execute('select * from Student where rollno=001')\n",
    "\n",
    "for i in result:\n",
    "    print(i)"
   ]
  },
  {
   "cell_type": "code",
   "execution_count": null,
   "id": "de3c4b75",
   "metadata": {},
   "outputs": [],
   "source": [
    "result=cur.execute('select name from Student where rollno=001')\n",
    "\n",
    "for i in result:\n",
    "    print(i)"
   ]
  },
  {
   "cell_type": "code",
   "execution_count": null,
   "id": "35db8b29",
   "metadata": {},
   "outputs": [],
   "source": [
    "result=cur.execute('select marks from Student where rollno=001')\n",
    "\n",
    "for i in result:\n",
    "    print(i)"
   ]
  },
  {
   "cell_type": "code",
   "execution_count": null,
   "id": "eb4ab36e",
   "metadata": {
    "scrolled": true
   },
   "outputs": [],
   "source": [
    "result=cur.execute('select name,marks from Student where rollno=005')\n",
    "\n",
    "for i in result:\n",
    "    print(i)"
   ]
  },
  {
   "cell_type": "code",
   "execution_count": null,
   "id": "cb37f4a1",
   "metadata": {},
   "outputs": [],
   "source": [
    "results=cur.execute('select * from Student where name=\"Rajdeep\"')\n",
    "\n",
    "results.fetchone()"
   ]
  },
  {
   "cell_type": "code",
   "execution_count": null,
   "id": "9af5de9b",
   "metadata": {},
   "outputs": [],
   "source": [
    "result=cur.execute('select * from Student where name=\"Rajdeep\"')\n",
    "\n",
    "for i in result:\n",
    "    print(i)"
   ]
  },
  {
   "cell_type": "code",
   "execution_count": null,
   "id": "a9783601",
   "metadata": {},
   "outputs": [],
   "source": [
    "result=cur.execute('select rollno from Student where name=\"Rishita\"')\n",
    "\n",
    "for i in result:\n",
    "    print(i)"
   ]
  },
  {
   "cell_type": "code",
   "execution_count": null,
   "id": "62bd8723",
   "metadata": {},
   "outputs": [],
   "source": [
    "results=cur.execute('select marks from Student where name=\"Rajdeep\"')\n",
    "\n",
    "results.fetchone()"
   ]
  },
  {
   "cell_type": "code",
   "execution_count": null,
   "id": "d432cb5c",
   "metadata": {},
   "outputs": [],
   "source": [
    "result=cur.execute('select * from Student where name=\"Saikat\"')\n",
    "result.fetchall()"
   ]
  },
  {
   "cell_type": "code",
   "execution_count": null,
   "id": "86be666f",
   "metadata": {},
   "outputs": [],
   "source": [
    "result=cur.execute('select name from Student where name=\"Saikat\"')\n",
    "result.fetchall()"
   ]
  },
  {
   "cell_type": "code",
   "execution_count": null,
   "id": "dd622374",
   "metadata": {
    "scrolled": true
   },
   "outputs": [],
   "source": [
    "result=cur.execute('select rollno,marks from Student where name=\"Saikat\"')\n",
    "result.fetchall()"
   ]
  },
  {
   "cell_type": "code",
   "execution_count": null,
   "id": "a439dcbc",
   "metadata": {},
   "outputs": [],
   "source": [
    "print(cur.rowcount, \"record(s)Inserted\")"
   ]
  },
  {
   "cell_type": "code",
   "execution_count": 5,
   "id": "5fdc623d",
   "metadata": {},
   "outputs": [
    {
     "data": {
      "text/plain": [
       "[]"
      ]
     },
     "execution_count": 5,
     "metadata": {},
     "output_type": "execute_result"
    }
   ],
   "source": [
    "result=cur.execute('select * from student where marks between 20 and 90')\n",
    "result.fetchall()"
   ]
  },
  {
   "cell_type": "code",
   "execution_count": null,
   "id": "b5edc065",
   "metadata": {},
   "outputs": [],
   "source": []
  }
 ],
 "metadata": {
  "kernelspec": {
   "display_name": "Python 3 (ipykernel)",
   "language": "python",
   "name": "python3"
  },
  "language_info": {
   "codemirror_mode": {
    "name": "ipython",
    "version": 3
   },
   "file_extension": ".py",
   "mimetype": "text/x-python",
   "name": "python",
   "nbconvert_exporter": "python",
   "pygments_lexer": "ipython3",
   "version": "3.9.7"
  }
 },
 "nbformat": 4,
 "nbformat_minor": 5
}
