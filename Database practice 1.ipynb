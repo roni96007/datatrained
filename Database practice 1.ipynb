{
 "cells": [
  {
   "cell_type": "code",
   "execution_count": 9,
   "id": "78601789",
   "metadata": {},
   "outputs": [],
   "source": [
    "import sqlite3"
   ]
  },
  {
   "cell_type": "code",
   "execution_count": 10,
   "id": "cfd2a688",
   "metadata": {},
   "outputs": [],
   "source": [
    "db=sqlite3.connect('empdatabase.db')"
   ]
  },
  {
   "cell_type": "code",
   "execution_count": 11,
   "id": "edca3bfd",
   "metadata": {},
   "outputs": [],
   "source": [
    "cur=db.cursor()"
   ]
  },
  {
   "cell_type": "code",
   "execution_count": 12,
   "id": "2f5a4d86",
   "metadata": {},
   "outputs": [
    {
     "ename": "IntegrityError",
     "evalue": "UNIQUE constraint failed: employee.empcode",
     "output_type": "error",
     "traceback": [
      "\u001b[1;31m---------------------------------------------------------------------------\u001b[0m",
      "\u001b[1;31mIntegrityError\u001b[0m                            Traceback (most recent call last)",
      "\u001b[1;32mC:\\Users\\SHREYA~1\\AppData\\Local\\Temp/ipykernel_10864/2065909910.py\u001b[0m in \u001b[0;36m<module>\u001b[1;34m\u001b[0m\n\u001b[1;32m----> 1\u001b[1;33m \u001b[0mcur\u001b[0m\u001b[1;33m.\u001b[0m\u001b[0mexecute\u001b[0m\u001b[1;33m(\u001b[0m\u001b[1;34m'insert into employee(empcode,name,branch,salary) values(101,\"jhon\",\"Kolkata\",50000.00)'\u001b[0m\u001b[1;33m)\u001b[0m\u001b[1;33m\u001b[0m\u001b[1;33m\u001b[0m\u001b[0m\n\u001b[0m",
      "\u001b[1;31mIntegrityError\u001b[0m: UNIQUE constraint failed: employee.empcode"
     ]
    }
   ],
   "source": [
    "cur.execute('insert into employee(empcode,name,branch,salary) values(101,\"jhon\",\"Kolkata\",50000.00)')"
   ]
  },
  {
   "cell_type": "code",
   "execution_count": null,
   "id": "3f844f38",
   "metadata": {},
   "outputs": [],
   "source": [
    "cur.execute('insert into employee(empcode,name,branch,salary) values(102,\"Richard\",\"Durgapur\",45000.00)')"
   ]
  },
  {
   "cell_type": "code",
   "execution_count": null,
   "id": "49f8ecda",
   "metadata": {},
   "outputs": [],
   "source": [
    "cur.execute('insert into employee(empcode,name,branch,salary) values(103,\"David\",\"Mumbai\",40000.00)')"
   ]
  },
  {
   "cell_type": "code",
   "execution_count": null,
   "id": "877270aa",
   "metadata": {},
   "outputs": [],
   "source": [
    "cur.execute('insert into employee(empcode,name,branch,salary) values(104,\"jeams\",\"bangalore\",20000.00)')"
   ]
  },
  {
   "cell_type": "code",
   "execution_count": null,
   "id": "ca17fb38",
   "metadata": {},
   "outputs": [],
   "source": [
    "cur.execute('insert into employee(empcode,name,branch,salary) values(105,\"jonyshingh\",\"usa\",100000.00)')"
   ]
  },
  {
   "cell_type": "code",
   "execution_count": null,
   "id": "e9fd06f2",
   "metadata": {},
   "outputs": [],
   "source": [
    "cur.execute('insert into employee(empcode,name,branch,salary) values(106,\"jash\",\"pune\",60000.00)')"
   ]
  },
  {
   "cell_type": "code",
   "execution_count": null,
   "id": "9f332759",
   "metadata": {},
   "outputs": [],
   "source": [
    "cur.execute('insert into employee(empcode,name,branch,salary) values(107,\"joli\",\"chennai\",70000.00)')"
   ]
  },
  {
   "cell_type": "code",
   "execution_count": null,
   "id": "e7986989",
   "metadata": {},
   "outputs": [],
   "source": [
    "cur.execute('insert into employee(empcode,name,branch,salary) values(108,\"joky\",\"kashmir\",90000.00)')"
   ]
  },
  {
   "cell_type": "code",
   "execution_count": 31,
   "id": "0d6a2bbc",
   "metadata": {},
   "outputs": [
    {
     "name": "stdout",
     "output_type": "stream",
     "text": [
      "-1 Records Inserted\n"
     ]
    }
   ],
   "source": [
    "print(cur.rowcount, \"Records Inserted\")"
   ]
  },
  {
   "cell_type": "code",
   "execution_count": 13,
   "id": "d6981b18",
   "metadata": {},
   "outputs": [
    {
     "name": "stdout",
     "output_type": "stream",
     "text": [
      "(101, 'jhon', 'Kolkata', 50000.0)\n",
      "(102, 'Richard', 'Durgapur', 45000.0)\n",
      "(103, 'David', 'Mumbai', 40000.0)\n",
      "(104, 'jeams', 'bangalore', 20000.0)\n",
      "(105, 'jonyshingh', 'usa', 100000.0)\n",
      "(106, 'jash', 'pune', 60000.0)\n",
      "(107, 'joli', 'chennai', 70000.0)\n"
     ]
    }
   ],
   "source": [
    "result=cur.execute('select * from employee')\n",
    "for i in result:\n",
    "    print(i)"
   ]
  },
  {
   "cell_type": "code",
   "execution_count": 14,
   "id": "c76e5385",
   "metadata": {},
   "outputs": [
    {
     "name": "stdout",
     "output_type": "stream",
     "text": [
      "('jhon',)\n",
      "('Richard',)\n",
      "('David',)\n",
      "('jeams',)\n",
      "('jonyshingh',)\n",
      "('jash',)\n",
      "('joli',)\n"
     ]
    }
   ],
   "source": [
    "result=cur.execute('select name from employee')\n",
    "for i in result:\n",
    "    print(i)"
   ]
  },
  {
   "cell_type": "code",
   "execution_count": 15,
   "id": "87d31d15",
   "metadata": {},
   "outputs": [
    {
     "name": "stdout",
     "output_type": "stream",
     "text": [
      "(101,)\n",
      "(102,)\n",
      "(103,)\n",
      "(104,)\n",
      "(105,)\n",
      "(106,)\n",
      "(107,)\n"
     ]
    }
   ],
   "source": [
    "result=cur.execute('select empcode from employee')\n",
    "for i in result:\n",
    "    print(i)"
   ]
  },
  {
   "cell_type": "code",
   "execution_count": 16,
   "id": "43d47b50",
   "metadata": {},
   "outputs": [
    {
     "name": "stdout",
     "output_type": "stream",
     "text": [
      "('Kolkata',)\n",
      "('Durgapur',)\n",
      "('Mumbai',)\n",
      "('bangalore',)\n",
      "('usa',)\n",
      "('pune',)\n",
      "('chennai',)\n"
     ]
    }
   ],
   "source": [
    "result=cur.execute('select branch from employee')\n",
    "for i in result:\n",
    "    print(i)"
   ]
  },
  {
   "cell_type": "code",
   "execution_count": 17,
   "id": "a44efc53",
   "metadata": {},
   "outputs": [
    {
     "name": "stdout",
     "output_type": "stream",
     "text": [
      "(104,)\n"
     ]
    }
   ],
   "source": [
    "result=cur.execute('select empcode from employee where name=\"jeams\"')\n",
    "for i in result:\n",
    "    print(i)"
   ]
  },
  {
   "cell_type": "code",
   "execution_count": 20,
   "id": "68f3ef11",
   "metadata": {},
   "outputs": [
    {
     "data": {
      "text/plain": [
       "[(104, 'bangalore')]"
      ]
     },
     "execution_count": 20,
     "metadata": {},
     "output_type": "execute_result"
    }
   ],
   "source": [
    "result=cur.execute('select empcode,branch from employee where name=\"jeams\"')\n",
    "result.fetchall()"
   ]
  },
  {
   "cell_type": "code",
   "execution_count": 26,
   "id": "f0ce7bc7",
   "metadata": {},
   "outputs": [
    {
     "data": {
      "text/plain": [
       "(104, 'jeams', 'bangalore', 20000.0)"
      ]
     },
     "execution_count": 26,
     "metadata": {},
     "output_type": "execute_result"
    }
   ],
   "source": [
    "result=cur.execute('select * from employee where name=\"jeams\"')\n",
    "result.fetchone()"
   ]
  },
  {
   "cell_type": "code",
   "execution_count": 27,
   "id": "94019c27",
   "metadata": {},
   "outputs": [
    {
     "data": {
      "text/plain": [
       "[(107, 'chennai', 70000.0)]"
      ]
     },
     "execution_count": 27,
     "metadata": {},
     "output_type": "execute_result"
    }
   ],
   "source": [
    "result=cur.execute('select empcode,branch,salary from employee where name=\"joli\"')\n",
    "result.fetchall()"
   ]
  },
  {
   "cell_type": "code",
   "execution_count": 30,
   "id": "b0ea1872",
   "metadata": {},
   "outputs": [
    {
     "data": {
      "text/plain": [
       "(101, 'jhon', 'Kolkata', 50000.0)"
      ]
     },
     "execution_count": 30,
     "metadata": {},
     "output_type": "execute_result"
    }
   ],
   "source": [
    "result=cur.execute('select * from employee where salary between 20000 and 70000')\n",
    "result.fetchone()"
   ]
  },
  {
   "cell_type": "code",
   "execution_count": 24,
   "id": "6eec9c13",
   "metadata": {},
   "outputs": [
    {
     "data": {
      "text/plain": [
       "[(101, 'jhon', 'Kolkata', 50000.0),\n",
       " (102, 'Richard', 'Durgapur', 45000.0),\n",
       " (103, 'David', 'Mumbai', 40000.0),\n",
       " (104, 'jeams', 'bangalore', 20000.0),\n",
       " (105, 'jonyshingh', 'usa', 100000.0),\n",
       " (106, 'jash', 'pune', 60000.0),\n",
       " (107, 'joli', 'chennai', 70000.0)]"
      ]
     },
     "execution_count": 24,
     "metadata": {},
     "output_type": "execute_result"
    }
   ],
   "source": [
    "result=cur.execute('select * from employee')\n",
    "result.fetchall()"
   ]
  },
  {
   "cell_type": "code",
   "execution_count": null,
   "id": "5cc0cfc6",
   "metadata": {},
   "outputs": [],
   "source": []
  },
  {
   "cell_type": "code",
   "execution_count": null,
   "id": "dc614419",
   "metadata": {},
   "outputs": [],
   "source": []
  }
 ],
 "metadata": {
  "kernelspec": {
   "display_name": "Python 3 (ipykernel)",
   "language": "python",
   "name": "python3"
  },
  "language_info": {
   "codemirror_mode": {
    "name": "ipython",
    "version": 3
   },
   "file_extension": ".py",
   "mimetype": "text/x-python",
   "name": "python",
   "nbconvert_exporter": "python",
   "pygments_lexer": "ipython3",
   "version": "3.9.7"
  }
 },
 "nbformat": 4,
 "nbformat_minor": 5
}
