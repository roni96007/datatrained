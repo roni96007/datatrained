{
 "cells": [
  {
   "cell_type": "code",
   "execution_count": 1,
   "id": "dd0d42d7",
   "metadata": {},
   "outputs": [
    {
     "ename": "ZeroDivisionError",
     "evalue": "division by zero",
     "output_type": "error",
     "traceback": [
      "\u001b[1;31m---------------------------------------------------------------------------\u001b[0m",
      "\u001b[1;31mZeroDivisionError\u001b[0m                         Traceback (most recent call last)",
      "\u001b[1;32mC:\\Users\\SHREYA~1\\AppData\\Local\\Temp/ipykernel_9000/530406163.py\u001b[0m in \u001b[0;36m<module>\u001b[1;34m\u001b[0m\n\u001b[1;32m----> 1\u001b[1;33m \u001b[1;36m10\u001b[0m\u001b[1;33m/\u001b[0m\u001b[1;36m0\u001b[0m\u001b[1;33m\u001b[0m\u001b[1;33m\u001b[0m\u001b[0m\n\u001b[0m",
      "\u001b[1;31mZeroDivisionError\u001b[0m: division by zero"
     ]
    }
   ],
   "source": [
    "10/0"
   ]
  },
  {
   "cell_type": "code",
   "execution_count": 42,
   "id": "cf6f8390",
   "metadata": {},
   "outputs": [
    {
     "name": "stdout",
     "output_type": "stream",
     "text": [
      "you cant write this : can only concatenate str (not \"int\") to str\n"
     ]
    }
   ],
   "source": [
    "try:\n",
    "    '9'+8\n",
    "except TypeError as err2:\n",
    "    print('you cant write this :',err2)"
   ]
  },
  {
   "cell_type": "code",
   "execution_count": 3,
   "id": "1a42feb8",
   "metadata": {},
   "outputs": [
    {
     "ename": "TypeError",
     "evalue": "unsupported operand type(s) for +: 'int' and 'str'",
     "output_type": "error",
     "traceback": [
      "\u001b[1;31m---------------------------------------------------------------------------\u001b[0m",
      "\u001b[1;31mTypeError\u001b[0m                                 Traceback (most recent call last)",
      "\u001b[1;32mC:\\Users\\SHREYA~1\\AppData\\Local\\Temp/ipykernel_9000/3319325456.py\u001b[0m in \u001b[0;36m<module>\u001b[1;34m\u001b[0m\n\u001b[1;32m----> 1\u001b[1;33m \u001b[1;36m8\u001b[0m\u001b[1;33m+\u001b[0m\u001b[1;34m'8'\u001b[0m\u001b[1;33m+\u001b[0m\u001b[1;36m9\u001b[0m\u001b[1;33m\u001b[0m\u001b[1;33m\u001b[0m\u001b[0m\n\u001b[0m",
      "\u001b[1;31mTypeError\u001b[0m: unsupported operand type(s) for +: 'int' and 'str'"
     ]
    }
   ],
   "source": [
    "8+'8'+9"
   ]
  },
  {
   "cell_type": "code",
   "execution_count": 28,
   "id": "f3c3c35b",
   "metadata": {},
   "outputs": [
    {
     "name": "stdout",
     "output_type": "stream",
     "text": [
      "object is not defined : name 'number' is not defined\n"
     ]
    }
   ],
   "source": [
    "try:\n",
    "    number+9\n",
    "except NameError as err2:\n",
    "    print('object is not defined :',err2)"
   ]
  },
  {
   "cell_type": "code",
   "execution_count": 39,
   "id": "aacb882c",
   "metadata": {},
   "outputs": [
    {
     "name": "stdout",
     "output_type": "stream",
     "text": [
      "String is Not defined name 'number' is not defined\n"
     ]
    }
   ],
   "source": [
    "try: \n",
    "    'number'+number\n",
    "except NameError as err4:\n",
    "    print(\"String is Not defined\",err4)"
   ]
  },
  {
   "cell_type": "code",
   "execution_count": null,
   "id": "7279c3f8",
   "metadata": {},
   "outputs": [],
   "source": []
  },
  {
   "cell_type": "markdown",
   "id": "a2439276",
   "metadata": {},
   "source": [
    "# EXCEPTION HANDLING"
   ]
  },
  {
   "cell_type": "code",
   "execution_count": 14,
   "id": "968fc73c",
   "metadata": {},
   "outputs": [
    {
     "name": "stdout",
     "output_type": "stream",
     "text": [
      "Exception Working:  division by zero\n"
     ]
    }
   ],
   "source": [
    "try:\n",
    "    10/0\n",
    "except ZeroDivisionError as err:\n",
    "    print(\"Exception Working: \",err)"
   ]
  },
  {
   "cell_type": "code",
   "execution_count": 23,
   "id": "1a9f6126",
   "metadata": {},
   "outputs": [
    {
     "name": "stdout",
     "output_type": "stream",
     "text": [
      "enter any number10\n",
      "Enter any number0\n",
      "Can't divide by zero:  division by zero\n"
     ]
    }
   ],
   "source": [
    "a=int(input(\"enter any number\"))\n",
    "b=int(input(\"Enter any number\"))\n",
    "try:\n",
    "    c=a/b \n",
    "    print(c)\n",
    "except ZeroDivisionError as err1:\n",
    "    print(\"Can't divide by zero: \",err1)"
   ]
  },
  {
   "cell_type": "code",
   "execution_count": 54,
   "id": "8ebdee69",
   "metadata": {},
   "outputs": [],
   "source": [
    "def divfunc():\n",
    "\n",
    "    a=int(input(\"enter any number\"))\n",
    "    b=int(input(\"Enter any number\"))\n",
    "    c=a/b\n",
    "    print(c)"
   ]
  },
  {
   "cell_type": "code",
   "execution_count": 60,
   "id": "4d146e87",
   "metadata": {},
   "outputs": [
    {
     "name": "stdout",
     "output_type": "stream",
     "text": [
      "enter any number10\n",
      "Enter any number0\n",
      "Can't divide by zero: division by zero\n"
     ]
    }
   ],
   "source": [
    "try:\n",
    "    divfunc()\n",
    "except ZeroDivisionError as err:\n",
    "    print(\"Can't divide by zero:\",err)"
   ]
  },
  {
   "cell_type": "code",
   "execution_count": 76,
   "id": "df42b088",
   "metadata": {},
   "outputs": [],
   "source": [
    "def func2(a,b):\n",
    "    try:    \n",
    "        c=a/b\n",
    "    except ZeroDivisionError:\n",
    "        print(\"Can't divide by zero:\")\n",
    "    else:\n",
    "        print(\"divided result:\",c)\n",
    "    finally:\n",
    "        print(\"excicuting the result\")"
   ]
  },
  {
   "cell_type": "code",
   "execution_count": 77,
   "id": "e668dac1",
   "metadata": {
    "scrolled": true
   },
   "outputs": [
    {
     "name": "stdout",
     "output_type": "stream",
     "text": [
      "Can't divide by zero:\n",
      "excicuting the result\n"
     ]
    }
   ],
   "source": [
    "func2(20,0)"
   ]
  },
  {
   "cell_type": "code",
   "execution_count": 78,
   "id": "82b78721",
   "metadata": {},
   "outputs": [
    {
     "name": "stdout",
     "output_type": "stream",
     "text": [
      "divided result: 4.0\n",
      "excicuting the result\n"
     ]
    }
   ],
   "source": [
    "func2(20,5)"
   ]
  }
 ],
 "metadata": {
  "kernelspec": {
   "display_name": "Python 3 (ipykernel)",
   "language": "python",
   "name": "python3"
  },
  "language_info": {
   "codemirror_mode": {
    "name": "ipython",
    "version": 3
   },
   "file_extension": ".py",
   "mimetype": "text/x-python",
   "name": "python",
   "nbconvert_exporter": "python",
   "pygments_lexer": "ipython3",
   "version": "3.9.7"
  }
 },
 "nbformat": 4,
 "nbformat_minor": 5
}
