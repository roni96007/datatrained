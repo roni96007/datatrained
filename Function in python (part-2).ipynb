{
 "cells": [
  {
   "cell_type": "markdown",
   "id": "23392de5",
   "metadata": {},
   "source": [
    "#let use lambda anonymous function by using lambda,we would not have had to define and name the function farenheight and celcius"
   ]
  },
  {
   "cell_type": "markdown",
   "id": "379544fb",
   "metadata": {},
   "source": [
    "#lambda with farenheight"
   ]
  },
  {
   "cell_type": "code",
   "execution_count": 2,
   "id": "d653579e",
   "metadata": {},
   "outputs": [
    {
     "data": {
      "text/plain": [
       "86.0"
      ]
     },
     "execution_count": 2,
     "metadata": {},
     "output_type": "execute_result"
    }
   ],
   "source": [
    "f= lambda x: (9/5)*x +32\n",
    "f (30)"
   ]
  },
  {
   "cell_type": "code",
   "execution_count": 14,
   "id": "3953aa9a",
   "metadata": {},
   "outputs": [
    {
     "data": {
      "text/plain": [
       "186.8"
      ]
     },
     "execution_count": 14,
     "metadata": {},
     "output_type": "execute_result"
    }
   ],
   "source": [
    "c= lambda x: (x-32)*(5/9)\n",
    "f(86)"
   ]
  },
  {
   "cell_type": "markdown",
   "id": "9a960635",
   "metadata": {},
   "source": [
    "#map in lambda ----- on list"
   ]
  },
  {
   "cell_type": "code",
   "execution_count": 11,
   "id": "fbe8c4ab",
   "metadata": {},
   "outputs": [
    {
     "name": "stdout",
     "output_type": "stream",
     "text": [
      "[20, 24, 28, 32]\n"
     ]
    }
   ],
   "source": [
    "ourlist =[10,12,14,16]\n",
    "newlist=map(lambda x: x*2,(ourlist))\n",
    "print(list (newlist))"
   ]
  },
  {
   "cell_type": "code",
   "execution_count": 5,
   "id": "12532752",
   "metadata": {},
   "outputs": [
    {
     "data": {
      "text/plain": [
       "[20, 24, 28, 32]"
      ]
     },
     "execution_count": 5,
     "metadata": {},
     "output_type": "execute_result"
    }
   ],
   "source": [
    "list (map(lambda x: x*2,ourlist))"
   ]
  },
  {
   "cell_type": "code",
   "execution_count": 58,
   "id": "cee15715",
   "metadata": {},
   "outputs": [],
   "source": [
    "t=[30.2,12.2,10.2,2.3]"
   ]
  },
  {
   "cell_type": "code",
   "execution_count": 59,
   "id": "b985f216",
   "metadata": {},
   "outputs": [
    {
     "name": "stdout",
     "output_type": "stream",
     "text": [
      "[86.36, 53.96, 50.36, 36.14]\n"
     ]
    }
   ],
   "source": [
    "f=map (lambda x:(9/5)*x +32,t)\n",
    "print(list (f))"
   ]
  },
  {
   "cell_type": "code",
   "execution_count": 71,
   "id": "46f9c415",
   "metadata": {
    "scrolled": true
   },
   "outputs": [
    {
     "name": "stdout",
     "output_type": "stream",
     "text": [
      "[86.36, 53.96, 50.36, 36.14]\n"
     ]
    }
   ],
   "source": [
    "f=list (map (lambda x:(9/5)*x +32,t))\n",
    "print(f)"
   ]
  },
  {
   "cell_type": "code",
   "execution_count": 86,
   "id": "44a4f8b2",
   "metadata": {},
   "outputs": [
    {
     "name": "stdout",
     "output_type": "stream",
     "text": [
      "[30.2, 12.200000000000001, 10.2, 2.3000000000000003]\n"
     ]
    }
   ],
   "source": [
    "c1=list(map(lambda x:(5/9)*(x-32),f))\n",
    "print(c1)"
   ]
  },
  {
   "cell_type": "code",
   "execution_count": 63,
   "id": "fdef721a",
   "metadata": {},
   "outputs": [],
   "source": [
    "t1=[100,200,450,350,250]"
   ]
  },
  {
   "cell_type": "code",
   "execution_count": 87,
   "id": "b6291841",
   "metadata": {},
   "outputs": [
    {
     "name": "stdout",
     "output_type": "stream",
     "text": [
      "[37.77777777777778, 93.33333333333334, 232.22222222222223, 176.66666666666669, 121.11111111111111]\n"
     ]
    }
   ],
   "source": [
    "c2=list(map(lambda x:(5/9)*(x-32),t1))\n",
    "print(c2)"
   ]
  },
  {
   "cell_type": "code",
   "execution_count": 117,
   "id": "ae683674",
   "metadata": {},
   "outputs": [
    {
     "data": {
      "text/plain": [
       "[30.2, 12.2, 10.2, 2.3]"
      ]
     },
     "execution_count": 117,
     "metadata": {},
     "output_type": "execute_result"
    }
   ],
   "source": [
    "newlist=[round(x,2) for x in c1]\n",
    "newlist"
   ]
  },
  {
   "cell_type": "code",
   "execution_count": 112,
   "id": "94a9025b",
   "metadata": {},
   "outputs": [
    {
     "data": {
      "text/plain": [
       "['37.778', '93.333', '232.222', '176.667', '121.111']"
      ]
     },
     "execution_count": 112,
     "metadata": {},
     "output_type": "execute_result"
    }
   ],
   "source": [
    "newlist2 = ['%.3f' % i for i in c2]\n",
    "newlist2"
   ]
  },
  {
   "cell_type": "code",
   "execution_count": 111,
   "id": "a55fe885",
   "metadata": {},
   "outputs": [
    {
     "data": {
      "text/plain": [
       "['86.4', '54.0', '50.4', '36.1']"
      ]
     },
     "execution_count": 111,
     "metadata": {},
     "output_type": "execute_result"
    }
   ],
   "source": [
    "newlist3=[('%.1f') %j for j in f]\n",
    "newlist3"
   ]
  },
  {
   "cell_type": "markdown",
   "id": "d727e3e4",
   "metadata": {},
   "source": [
    "# filter in lambda"
   ]
  },
  {
   "cell_type": "code",
   "execution_count": 130,
   "id": "d9943a7a",
   "metadata": {},
   "outputs": [
    {
     "name": "stdout",
     "output_type": "stream",
     "text": [
      "[20, 15, 40, 50]\n"
     ]
    }
   ],
   "source": [
    "newlist4=[20,6,15,40,73,50]\n",
    "k=list(filter(lambda x:x%5==0 ,newlist4)) #divide by 5\n",
    "print(k)"
   ]
  },
  {
   "cell_type": "code",
   "execution_count": 131,
   "id": "6f9985f1",
   "metadata": {},
   "outputs": [
    {
     "name": "stdout",
     "output_type": "stream",
     "text": [
      "[6, 73]\n"
     ]
    }
   ],
   "source": [
    "newlist4=[20,6,15,40,73,50]\n",
    "k=list(filter(lambda x:x%5,newlist4)) #can't divide by 5\n",
    "print(k)"
   ]
  },
  {
   "cell_type": "code",
   "execution_count": 132,
   "id": "88620e7a",
   "metadata": {},
   "outputs": [
    {
     "name": "stdout",
     "output_type": "stream",
     "text": [
      "[10, 20, 40, 50, 70, 80, 100]\n"
     ]
    }
   ],
   "source": [
    "newlist5=[10,20,30,40,50,60,70,80,90,100]\n",
    "k1=list(filter(lambda x:x%3,newlist5))\n",
    "print(k1)"
   ]
  },
  {
   "cell_type": "code",
   "execution_count": 133,
   "id": "50e73a48",
   "metadata": {},
   "outputs": [
    {
     "name": "stdout",
     "output_type": "stream",
     "text": [
      "[30, 60, 90]\n"
     ]
    }
   ],
   "source": [
    "k2=list(filter(lambda x:x%3==0,newlist5))\n",
    "print(k2)"
   ]
  },
  {
   "cell_type": "code",
   "execution_count": 135,
   "id": "18570dae",
   "metadata": {
    "scrolled": true
   },
   "outputs": [
    {
     "name": "stdout",
     "output_type": "stream",
     "text": [
      "[78, 96, 58, 36, 24, 48, 78]\n"
     ]
    }
   ],
   "source": [
    "newlist6=[45,78,96,58,41,25,87,36,65,35,25,24,48,78]\n",
    "k3=list(filter(lambda x:x%2 == 0, newlist6))\n",
    "print(k3)"
   ]
  },
  {
   "cell_type": "code",
   "execution_count": 142,
   "id": "d1b77f2f",
   "metadata": {},
   "outputs": [
    {
     "name": "stdout",
     "output_type": "stream",
     "text": [
      "[78, 96, 58, 87, 65, 78]\n"
     ]
    }
   ],
   "source": [
    "k5=list(filter (lambda x:x>50,newlist6))\n",
    "print(k5)"
   ]
  },
  {
   "cell_type": "code",
   "execution_count": 138,
   "id": "d171210b",
   "metadata": {},
   "outputs": [
    {
     "name": "stdout",
     "output_type": "stream",
     "text": [
      "[45, 41, 25, 87, 65, 35, 25]\n"
     ]
    }
   ],
   "source": [
    "k4=list(filter(lambda x:x%2, newlist6))\n",
    "print(k4)"
   ]
  },
  {
   "cell_type": "code",
   "execution_count": 137,
   "id": "bdca95cb",
   "metadata": {},
   "outputs": [
    {
     "data": {
      "text/plain": [
       "[0, 2, 4, 6, 8, 10, 12, 14, 16, 18]"
      ]
     },
     "execution_count": 137,
     "metadata": {},
     "output_type": "execute_result"
    }
   ],
   "source": [
    "even = lambda x:x%2==0\n",
    "list(filter(even, range(20)))"
   ]
  },
  {
   "cell_type": "code",
   "execution_count": 139,
   "id": "06cd88d7",
   "metadata": {},
   "outputs": [
    {
     "data": {
      "text/plain": [
       "[1, 3, 5, 7, 9, 11, 13, 15, 17, 19]"
      ]
     },
     "execution_count": 139,
     "metadata": {},
     "output_type": "execute_result"
    }
   ],
   "source": [
    "odd= lambda x:x%2\n",
    "list(filter(odd, range(20)))"
   ]
  }
 ],
 "metadata": {
  "kernelspec": {
   "display_name": "Python 3 (ipykernel)",
   "language": "python",
   "name": "python3"
  },
  "language_info": {
   "codemirror_mode": {
    "name": "ipython",
    "version": 3
   },
   "file_extension": ".py",
   "mimetype": "text/x-python",
   "name": "python",
   "nbconvert_exporter": "python",
   "pygments_lexer": "ipython3",
   "version": "3.9.7"
  }
 },
 "nbformat": 4,
 "nbformat_minor": 5
}
