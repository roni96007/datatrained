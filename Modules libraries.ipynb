{
 "cells": [
  {
   "cell_type": "code",
   "execution_count": 1,
   "id": "7b9753f8",
   "metadata": {},
   "outputs": [],
   "source": [
    "import sys"
   ]
  },
  {
   "cell_type": "code",
   "execution_count": 2,
   "id": "f8406e7f",
   "metadata": {},
   "outputs": [
    {
     "data": {
      "text/plain": [
       "['C:\\\\Users\\\\Shreyasi  Saha',\n",
       " 'C:\\\\Users\\\\Shreyasi  Saha\\\\anaconda3\\\\python39.zip',\n",
       " 'C:\\\\Users\\\\Shreyasi  Saha\\\\anaconda3\\\\DLLs',\n",
       " 'C:\\\\Users\\\\Shreyasi  Saha\\\\anaconda3\\\\lib',\n",
       " 'C:\\\\Users\\\\Shreyasi  Saha\\\\anaconda3',\n",
       " '',\n",
       " 'C:\\\\Users\\\\Shreyasi  Saha\\\\anaconda3\\\\lib\\\\site-packages',\n",
       " 'C:\\\\Users\\\\Shreyasi  Saha\\\\anaconda3\\\\lib\\\\site-packages\\\\locket-0.2.1-py3.9.egg',\n",
       " 'C:\\\\Users\\\\Shreyasi  Saha\\\\anaconda3\\\\lib\\\\site-packages\\\\win32',\n",
       " 'C:\\\\Users\\\\Shreyasi  Saha\\\\anaconda3\\\\lib\\\\site-packages\\\\win32\\\\lib',\n",
       " 'C:\\\\Users\\\\Shreyasi  Saha\\\\anaconda3\\\\lib\\\\site-packages\\\\Pythonwin',\n",
       " 'C:\\\\Users\\\\Shreyasi  Saha\\\\anaconda3\\\\lib\\\\site-packages\\\\IPython\\\\extensions',\n",
       " 'C:\\\\Users\\\\Shreyasi  Saha\\\\.ipython']"
      ]
     },
     "execution_count": 2,
     "metadata": {},
     "output_type": "execute_result"
    }
   ],
   "source": [
    "sys.path"
   ]
  },
  {
   "cell_type": "code",
   "execution_count": 3,
   "id": "70c46d2d",
   "metadata": {},
   "outputs": [],
   "source": [
    "import keyword"
   ]
  },
  {
   "cell_type": "code",
   "execution_count": 4,
   "id": "eff6e513",
   "metadata": {},
   "outputs": [
    {
     "name": "stdout",
     "output_type": "stream",
     "text": [
      "['False', 'None', 'True', '__peg_parser__', 'and', 'as', 'assert', 'async', 'await', 'break', 'class', 'continue', 'def', 'del', 'elif', 'else', 'except', 'finally', 'for', 'from', 'global', 'if', 'import', 'in', 'is', 'lambda', 'nonlocal', 'not', 'or', 'pass', 'raise', 'return', 'try', 'while', 'with', 'yield']\n"
     ]
    }
   ],
   "source": [
    "print (keyword.kwlist)"
   ]
  },
  {
   "cell_type": "code",
   "execution_count": 5,
   "id": "54e97c5c",
   "metadata": {},
   "outputs": [],
   "source": [
    "import os"
   ]
  },
  {
   "cell_type": "code",
   "execution_count": 6,
   "id": "f3aca9dc",
   "metadata": {},
   "outputs": [
    {
     "data": {
      "text/plain": [
       "'C:\\\\Users\\\\Shreyasi  Saha'"
      ]
     },
     "execution_count": 6,
     "metadata": {},
     "output_type": "execute_result"
    }
   ],
   "source": [
    "#to get current working directory\n",
    "os.getcwd()"
   ]
  },
  {
   "cell_type": "code",
   "execution_count": 7,
   "id": "29accb48",
   "metadata": {},
   "outputs": [
    {
     "data": {
      "text/plain": [
       "['.android',\n",
       " '.conda',\n",
       " '.condarc',\n",
       " '.continuum',\n",
       " '.Icecream Screen Recorder',\n",
       " '.ipynb',\n",
       " '.ipynb_checkpoints',\n",
       " '.ipython',\n",
       " '.jupyter',\n",
       " '.matplotlib',\n",
       " '.spyder-py3',\n",
       " '3D Objects',\n",
       " 'anaconda3',\n",
       " 'AppData',\n",
       " 'Application Data',\n",
       " 'area of rect.ipynb',\n",
       " 'basic python.ipynb',\n",
       " 'Contacts',\n",
       " 'Cookies',\n",
       " 'Desktop',\n",
       " 'dictionary function.ipynb',\n",
       " 'Documents',\n",
       " 'Downloads',\n",
       " 'Favorites',\n",
       " 'Function in python (part-2).ipynb',\n",
       " 'functions in python.ipynb',\n",
       " 'Google Drive',\n",
       " 'if else construct.ipynb',\n",
       " 'input fn.ipynb',\n",
       " 'IntelGraphicsProfiles',\n",
       " 'Jedi',\n",
       " 'len fn practice.ipynb',\n",
       " 'len fn.ipynb',\n",
       " 'Links',\n",
       " 'list comprehension.ipynb',\n",
       " 'list practice 2.ipynb',\n",
       " 'list practice.ipynb',\n",
       " 'list practice1.ipynb',\n",
       " 'Local Settings',\n",
       " 'log',\n",
       " 'loop function 1.ipynb',\n",
       " 'Modules libraries.ipynb',\n",
       " 'Music',\n",
       " 'My Documents',\n",
       " 'NetHood',\n",
       " 'NTUSER.DAT',\n",
       " 'ntuser.dat.LOG1',\n",
       " 'ntuser.dat.LOG2',\n",
       " 'NTUSER.DAT{1c2b59c6-c5f5-11eb-bacb-000d3a96488e}.TM.blf',\n",
       " 'NTUSER.DAT{1c2b59c6-c5f5-11eb-bacb-000d3a96488e}.TMContainer00000000000000000001.regtrans-ms',\n",
       " 'NTUSER.DAT{1c2b59c6-c5f5-11eb-bacb-000d3a96488e}.TMContainer00000000000000000002.regtrans-ms',\n",
       " 'ntuser.ini',\n",
       " 'OneDrive',\n",
       " 'oops in python.ipynb',\n",
       " 'Pictures',\n",
       " 'Practice 2 (1).ipynb',\n",
       " 'practice 3.ipynb',\n",
       " 'practice 4.ipynb',\n",
       " 'practice 6 list.ipynb',\n",
       " 'Practice class 1.ipynb',\n",
       " 'PrintHood',\n",
       " 'range fn.ipynb',\n",
       " 'Recent',\n",
       " 'sample prog.ipynb',\n",
       " 'Saved Games',\n",
       " 'Searches',\n",
       " 'SendTo',\n",
       " 'sets fn practice.ipynb',\n",
       " 'Start Menu',\n",
       " 'string fn.ipynb',\n",
       " 'Templates',\n",
       " 'Tracing',\n",
       " 'Untitled Folder',\n",
       " 'Videos']"
      ]
     },
     "execution_count": 7,
     "metadata": {},
     "output_type": "execute_result"
    }
   ],
   "source": [
    "os.listdir()"
   ]
  },
  {
   "cell_type": "code",
   "execution_count": 8,
   "id": "bdd7e26a",
   "metadata": {},
   "outputs": [],
   "source": [
    "import os"
   ]
  },
  {
   "cell_type": "code",
   "execution_count": 9,
   "id": "0dfe5770",
   "metadata": {},
   "outputs": [
    {
     "data": {
      "text/plain": [
       "'C:\\\\Users\\\\Public'"
      ]
     },
     "execution_count": 9,
     "metadata": {},
     "output_type": "execute_result"
    }
   ],
   "source": [
    "#changing directory\n",
    "#we can change current working directory chdir() method\n",
    "os.chdir('C:\\\\Users\\\\Public')\n",
    "os.getcwd()"
   ]
  },
  {
   "cell_type": "code",
   "execution_count": 10,
   "id": "ccefdd35",
   "metadata": {},
   "outputs": [],
   "source": [
    "import math"
   ]
  },
  {
   "cell_type": "code",
   "execution_count": 11,
   "id": "ff5e84bc",
   "metadata": {},
   "outputs": [
    {
     "data": {
      "text/plain": [
       "3.141592653589793"
      ]
     },
     "execution_count": 11,
     "metadata": {},
     "output_type": "execute_result"
    }
   ],
   "source": [
    "math.pi"
   ]
  },
  {
   "cell_type": "code",
   "execution_count": 12,
   "id": "868c582d",
   "metadata": {},
   "outputs": [
    {
     "data": {
      "text/plain": [
       "8.0"
      ]
     },
     "execution_count": 12,
     "metadata": {},
     "output_type": "execute_result"
    }
   ],
   "source": [
    "math.sqrt(64)"
   ]
  },
  {
   "cell_type": "code",
   "execution_count": 13,
   "id": "a6f682bb",
   "metadata": {},
   "outputs": [
    {
     "data": {
      "text/plain": [
       "64.0"
      ]
     },
     "execution_count": 13,
     "metadata": {},
     "output_type": "execute_result"
    }
   ],
   "source": [
    "math.pow(4,3)"
   ]
  },
  {
   "cell_type": "code",
   "execution_count": 14,
   "id": "97443610",
   "metadata": {},
   "outputs": [
    {
     "data": {
      "text/plain": [
       "3.141592653589793"
      ]
     },
     "execution_count": 14,
     "metadata": {},
     "output_type": "execute_result"
    }
   ],
   "source": [
    "import math as mt\n",
    "mt.pi"
   ]
  },
  {
   "cell_type": "code",
   "execution_count": 15,
   "id": "65731edb",
   "metadata": {},
   "outputs": [
    {
     "data": {
      "text/plain": [
       "9.0"
      ]
     },
     "execution_count": 15,
     "metadata": {},
     "output_type": "execute_result"
    }
   ],
   "source": [
    "mt.sqrt(81)"
   ]
  },
  {
   "cell_type": "code",
   "execution_count": 16,
   "id": "b4c0fadb",
   "metadata": {},
   "outputs": [
    {
     "data": {
      "text/plain": [
       "10000000000.0"
      ]
     },
     "execution_count": 16,
     "metadata": {},
     "output_type": "execute_result"
    }
   ],
   "source": [
    "mt.pow(10,10)"
   ]
  },
  {
   "cell_type": "code",
   "execution_count": 17,
   "id": "0ab9a93d",
   "metadata": {},
   "outputs": [],
   "source": [
    "import math as ss"
   ]
  },
  {
   "cell_type": "code",
   "execution_count": 18,
   "id": "62f5d0ee",
   "metadata": {},
   "outputs": [
    {
     "data": {
      "text/plain": [
       "64.0"
      ]
     },
     "execution_count": 18,
     "metadata": {},
     "output_type": "execute_result"
    }
   ],
   "source": [
    "ss.pow(4,3)"
   ]
  },
  {
   "cell_type": "code",
   "execution_count": 19,
   "id": "ea84fc49",
   "metadata": {},
   "outputs": [
    {
     "data": {
      "text/plain": [
       "3.141592653589793"
      ]
     },
     "execution_count": 19,
     "metadata": {},
     "output_type": "execute_result"
    }
   ],
   "source": [
    "ss.pi"
   ]
  },
  {
   "cell_type": "code",
   "execution_count": 20,
   "id": "9c7fecda",
   "metadata": {},
   "outputs": [
    {
     "data": {
      "text/plain": [
       "8.0"
      ]
     },
     "execution_count": 20,
     "metadata": {},
     "output_type": "execute_result"
    }
   ],
   "source": [
    "ss.sqrt(64)"
   ]
  },
  {
   "cell_type": "code",
   "execution_count": 21,
   "id": "2dfbb4d0",
   "metadata": {},
   "outputs": [],
   "source": [
    "import math as rd"
   ]
  },
  {
   "cell_type": "code",
   "execution_count": 22,
   "id": "874a88d8",
   "metadata": {},
   "outputs": [
    {
     "data": {
      "text/plain": [
       "3.141592653589793"
      ]
     },
     "execution_count": 22,
     "metadata": {},
     "output_type": "execute_result"
    }
   ],
   "source": [
    "rd.pi"
   ]
  },
  {
   "cell_type": "code",
   "execution_count": 23,
   "id": "2143c8a9",
   "metadata": {},
   "outputs": [],
   "source": [
    "from math import sqrt"
   ]
  },
  {
   "cell_type": "code",
   "execution_count": 24,
   "id": "1f8eab33",
   "metadata": {},
   "outputs": [
    {
     "data": {
      "text/plain": [
       "10.0"
      ]
     },
     "execution_count": 24,
     "metadata": {},
     "output_type": "execute_result"
    }
   ],
   "source": [
    "sqrt(100)"
   ]
  },
  {
   "cell_type": "code",
   "execution_count": 25,
   "id": "f9d7f255",
   "metadata": {},
   "outputs": [],
   "source": [
    "from math import pi"
   ]
  },
  {
   "cell_type": "code",
   "execution_count": 26,
   "id": "a3d4cbaa",
   "metadata": {},
   "outputs": [
    {
     "data": {
      "text/plain": [
       "3.141592653589793"
      ]
     },
     "execution_count": 26,
     "metadata": {},
     "output_type": "execute_result"
    }
   ],
   "source": [
    "pi"
   ]
  },
  {
   "cell_type": "code",
   "execution_count": 27,
   "id": "40cdcb7b",
   "metadata": {},
   "outputs": [],
   "source": [
    "from math import pow"
   ]
  },
  {
   "cell_type": "code",
   "execution_count": 28,
   "id": "572b5be5",
   "metadata": {},
   "outputs": [
    {
     "data": {
      "text/plain": [
       "64.0"
      ]
     },
     "execution_count": 28,
     "metadata": {},
     "output_type": "execute_result"
    }
   ],
   "source": [
    "pow(8,2)"
   ]
  },
  {
   "cell_type": "code",
   "execution_count": 29,
   "id": "76a051f5",
   "metadata": {},
   "outputs": [
    {
     "data": {
      "text/plain": [
       "100.0"
      ]
     },
     "execution_count": 29,
     "metadata": {},
     "output_type": "execute_result"
    }
   ],
   "source": [
    "pow(10,2)"
   ]
  },
  {
   "cell_type": "markdown",
   "id": "29edc9c9",
   "metadata": {},
   "source": [
    "# area of circle"
   ]
  },
  {
   "cell_type": "code",
   "execution_count": 36,
   "id": "dec66a82",
   "metadata": {},
   "outputs": [
    {
     "name": "stdout",
     "output_type": "stream",
     "text": [
      "enter value:6\n",
      "113.09733552923255\n"
     ]
    }
   ],
   "source": [
    "import math\n",
    "r=int(input(\"enter value:\"))\n",
    "def areacircle(r):\n",
    "    area=math.pi*(r**2)\n",
    "    print(area)\n",
    "\n",
    "areacircle(r)"
   ]
  },
  {
   "cell_type": "code",
   "execution_count": 37,
   "id": "4d529092",
   "metadata": {},
   "outputs": [
    {
     "name": "stdout",
     "output_type": "stream",
     "text": [
      "enter radius value  8\n",
      "201.06192982974676\n"
     ]
    }
   ],
   "source": [
    "from math import pi\n",
    "from math import pow\n",
    "\n",
    "r=int(input(\"enter radius value  \"))\n",
    "def areaofcircle(r):\n",
    "    area=pi*(pow(r,2))\n",
    "    print(area)\n",
    "areaofcircle(r)"
   ]
  },
  {
   "cell_type": "code",
   "execution_count": 38,
   "id": "24b8478c",
   "metadata": {},
   "outputs": [
    {
     "data": {
      "text/plain": [
       "dict_keys(['__name__', '__doc__', '__package__', '__loader__', '__spec__', 'acos', 'acosh', 'asin', 'asinh', 'atan', 'atan2', 'atanh', 'ceil', 'copysign', 'cos', 'cosh', 'degrees', 'dist', 'erf', 'erfc', 'exp', 'expm1', 'fabs', 'factorial', 'floor', 'fmod', 'frexp', 'fsum', 'gamma', 'gcd', 'hypot', 'isclose', 'isfinite', 'isinf', 'isnan', 'isqrt', 'lcm', 'ldexp', 'lgamma', 'log', 'log1p', 'log10', 'log2', 'modf', 'pow', 'radians', 'remainder', 'sin', 'sinh', 'sqrt', 'tan', 'tanh', 'trunc', 'prod', 'perm', 'comb', 'nextafter', 'ulp', 'pi', 'e', 'tau', 'inf', 'nan'])"
      ]
     },
     "execution_count": 38,
     "metadata": {},
     "output_type": "execute_result"
    }
   ],
   "source": [
    "math.__dict__.keys()"
   ]
  },
  {
   "cell_type": "markdown",
   "id": "b01e8bc0",
   "metadata": {},
   "source": [
    "Get Current Date & time"
   ]
  },
  {
   "cell_type": "code",
   "execution_count": 89,
   "id": "7fabe067",
   "metadata": {},
   "outputs": [
    {
     "data": {
      "text/plain": [
       "datetime.datetime(2022, 6, 25, 18, 31, 18, 106495)"
      ]
     },
     "execution_count": 89,
     "metadata": {},
     "output_type": "execute_result"
    }
   ],
   "source": [
    "import datetime\n",
    "d1=datetime.datetime.now()\n",
    "d1"
   ]
  },
  {
   "cell_type": "code",
   "execution_count": 92,
   "id": "c81372e7",
   "metadata": {},
   "outputs": [
    {
     "data": {
      "text/plain": [
       "datetime.date(2022, 6, 25)"
      ]
     },
     "execution_count": 92,
     "metadata": {},
     "output_type": "execute_result"
    }
   ],
   "source": [
    "d2=datetime.date.today()\n",
    "d2"
   ]
  },
  {
   "cell_type": "code",
   "execution_count": 100,
   "id": "1c63ade9",
   "metadata": {},
   "outputs": [
    {
     "data": {
      "text/plain": [
       "datetime.date(2022, 6, 25)"
      ]
     },
     "execution_count": 100,
     "metadata": {},
     "output_type": "execute_result"
    }
   ],
   "source": [
    "from datetime import date\n",
    "d4=date.today()\n",
    "d4"
   ]
  },
  {
   "cell_type": "code",
   "execution_count": 101,
   "id": "45d9e2b1",
   "metadata": {},
   "outputs": [
    {
     "data": {
      "text/plain": [
       "datetime.date(2022, 6, 26)"
      ]
     },
     "execution_count": 101,
     "metadata": {},
     "output_type": "execute_result"
    }
   ],
   "source": [
    "from datetime import date\n",
    "d5=date(2022,6,26)\n",
    "d5"
   ]
  },
  {
   "cell_type": "code",
   "execution_count": 102,
   "id": "3ebbb93d",
   "metadata": {},
   "outputs": [
    {
     "name": "stdout",
     "output_type": "stream",
     "text": [
      "year: 2022\n",
      "month: 6\n",
      "day: 25\n"
     ]
    }
   ],
   "source": [
    "print(\"year:\",d4.year)\n",
    "print(\"month:\",d4.month)\n",
    "print(\"day:\",d4.day)"
   ]
  },
  {
   "cell_type": "code",
   "execution_count": 103,
   "id": "6412cd07",
   "metadata": {},
   "outputs": [],
   "source": [
    "#a time object instantiated from thw time class"
   ]
  },
  {
   "cell_type": "code",
   "execution_count": 108,
   "id": "c7e5770a",
   "metadata": {},
   "outputs": [
    {
     "name": "stdout",
     "output_type": "stream",
     "text": [
      "00:00:00\n",
      "20:06:24\n"
     ]
    }
   ],
   "source": [
    "from datetime import time\n",
    "a=time()\n",
    "print (a)\n",
    "\n",
    "b=time(20,6,24)\n",
    "print (b)\n"
   ]
  },
  {
   "cell_type": "code",
   "execution_count": 111,
   "id": "ef6491c2",
   "metadata": {},
   "outputs": [
    {
     "name": "stdout",
     "output_type": "stream",
     "text": [
      "hours: 20\n",
      "minute: 6\n",
      "second: 24\n"
     ]
    }
   ],
   "source": [
    "print(\"hours:\",b.hour)\n",
    "print(\"minute:\",b.minute)\n",
    "print(\"second:\",b.second)"
   ]
  },
  {
   "cell_type": "code",
   "execution_count": 116,
   "id": "1b6429ad",
   "metadata": {},
   "outputs": [
    {
     "data": {
      "text/plain": [
       "(2022, 7, 14, 23, 8, 50)"
      ]
     },
     "execution_count": 116,
     "metadata": {},
     "output_type": "execute_result"
    }
   ],
   "source": [
    "from datetime import datetime\n",
    "d5=(2022,7,14,23,8,50)\n",
    "d5"
   ]
  },
  {
   "cell_type": "code",
   "execution_count": 119,
   "id": "2e639acd",
   "metadata": {},
   "outputs": [
    {
     "name": "stdout",
     "output_type": "stream",
     "text": [
      "year 2022\n",
      "month 7\n",
      "day 14\n",
      "hours: 23\n",
      "minute: 8\n",
      "second: 50\n"
     ]
    }
   ],
   "source": [
    "d5=datetime(2022,7,14,23,8,50)\n",
    "print(\"year\",d5.year)\n",
    "print(\"month\",d5.month)\n",
    "print(\"day\",d5.day)\n",
    "print(\"hours:\",d5.hour)\n",
    "print(\"minute:\",d5.minute)\n",
    "print(\"second:\",d5.second)"
   ]
  },
  {
   "cell_type": "code",
   "execution_count": null,
   "id": "2f995420",
   "metadata": {},
   "outputs": [],
   "source": []
  },
  {
   "cell_type": "code",
   "execution_count": null,
   "id": "d7d2480d",
   "metadata": {},
   "outputs": [],
   "source": []
  },
  {
   "cell_type": "code",
   "execution_count": null,
   "id": "3eb67530",
   "metadata": {},
   "outputs": [],
   "source": []
  },
  {
   "cell_type": "code",
   "execution_count": null,
   "id": "22759d6b",
   "metadata": {},
   "outputs": [],
   "source": []
  }
 ],
 "metadata": {
  "kernelspec": {
   "display_name": "Python 3 (ipykernel)",
   "language": "python",
   "name": "python3"
  },
  "language_info": {
   "codemirror_mode": {
    "name": "ipython",
    "version": 3
   },
   "file_extension": ".py",
   "mimetype": "text/x-python",
   "name": "python",
   "nbconvert_exporter": "python",
   "pygments_lexer": "ipython3",
   "version": "3.9.7"
  }
 },
 "nbformat": 4,
 "nbformat_minor": 5
}
