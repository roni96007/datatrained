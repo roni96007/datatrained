{
 "cells": [
  {
   "cell_type": "markdown",
   "id": "61dd3247",
   "metadata": {},
   "source": [
    "# PANDA"
   ]
  },
  {
   "cell_type": "code",
   "execution_count": 1,
   "id": "043932f8",
   "metadata": {},
   "outputs": [],
   "source": [
    "import pandas as pd"
   ]
  },
  {
   "cell_type": "code",
   "execution_count": 2,
   "id": "1b9e6635",
   "metadata": {},
   "outputs": [],
   "source": [
    "import numpy as np"
   ]
  },
  {
   "cell_type": "code",
   "execution_count": 3,
   "id": "235d52d3",
   "metadata": {},
   "outputs": [],
   "source": [
    "p=pd.Series([2,4,6,8,10,12])"
   ]
  },
  {
   "cell_type": "code",
   "execution_count": 4,
   "id": "974346c5",
   "metadata": {},
   "outputs": [
    {
     "data": {
      "text/plain": [
       "0     2\n",
       "1     4\n",
       "2     6\n",
       "3     8\n",
       "4    10\n",
       "5    12\n",
       "dtype: int64"
      ]
     },
     "execution_count": 4,
     "metadata": {},
     "output_type": "execute_result"
    }
   ],
   "source": [
    "p"
   ]
  },
  {
   "cell_type": "code",
   "execution_count": 5,
   "id": "0d56dd68",
   "metadata": {},
   "outputs": [],
   "source": [
    "p=pd.Series([\"abc\",\"bcd\",\"cde\",\"def\"])"
   ]
  },
  {
   "cell_type": "code",
   "execution_count": 6,
   "id": "5ac59ad7",
   "metadata": {},
   "outputs": [
    {
     "data": {
      "text/plain": [
       "0    abc\n",
       "1    bcd\n",
       "2    cde\n",
       "3    def\n",
       "dtype: object"
      ]
     },
     "execution_count": 6,
     "metadata": {},
     "output_type": "execute_result"
    }
   ],
   "source": [
    "p"
   ]
  },
  {
   "cell_type": "code",
   "execution_count": 7,
   "id": "e4665364",
   "metadata": {},
   "outputs": [],
   "source": [
    "p=pd.Series([2,4,6,8,10,12],index=[1,2,3,4,5,6])"
   ]
  },
  {
   "cell_type": "code",
   "execution_count": 8,
   "id": "d8ef8e95",
   "metadata": {},
   "outputs": [
    {
     "data": {
      "text/plain": [
       "1     2\n",
       "2     4\n",
       "3     6\n",
       "4     8\n",
       "5    10\n",
       "6    12\n",
       "dtype: int64"
      ]
     },
     "execution_count": 8,
     "metadata": {},
     "output_type": "execute_result"
    }
   ],
   "source": [
    "p"
   ]
  },
  {
   "cell_type": "code",
   "execution_count": 9,
   "id": "c68a1b6d",
   "metadata": {},
   "outputs": [],
   "source": [
    "p=pd.Series([2,4,6,8,10,12],index=[1,2,3,4,5,6],dtype=float)"
   ]
  },
  {
   "cell_type": "code",
   "execution_count": 10,
   "id": "2250e563",
   "metadata": {},
   "outputs": [
    {
     "data": {
      "text/plain": [
       "1     2.0\n",
       "2     4.0\n",
       "3     6.0\n",
       "4     8.0\n",
       "5    10.0\n",
       "6    12.0\n",
       "dtype: float64"
      ]
     },
     "execution_count": 10,
     "metadata": {},
     "output_type": "execute_result"
    }
   ],
   "source": [
    "p"
   ]
  },
  {
   "cell_type": "code",
   "execution_count": 11,
   "id": "76c6f237",
   "metadata": {},
   "outputs": [
    {
     "name": "stdout",
     "output_type": "stream",
     "text": [
      "10\n"
     ]
    }
   ],
   "source": [
    "p=pd.Series([2,4,6,8,10,12],index=[1,2,3,4,5,6])\n",
    "print(p[5])"
   ]
  },
  {
   "cell_type": "code",
   "execution_count": 12,
   "id": "05bd41ff",
   "metadata": {},
   "outputs": [],
   "source": [
    "data=np.array([2,4,6,8,10,12])"
   ]
  },
  {
   "cell_type": "code",
   "execution_count": 13,
   "id": "6b6a090c",
   "metadata": {},
   "outputs": [
    {
     "data": {
      "text/plain": [
       "array([ 2,  4,  6,  8, 10, 12])"
      ]
     },
     "execution_count": 13,
     "metadata": {},
     "output_type": "execute_result"
    }
   ],
   "source": [
    "data"
   ]
  },
  {
   "cell_type": "code",
   "execution_count": 14,
   "id": "f4ce6990",
   "metadata": {},
   "outputs": [],
   "source": [
    "a=pd.Series(data)"
   ]
  },
  {
   "cell_type": "code",
   "execution_count": 15,
   "id": "ef62fbbf",
   "metadata": {},
   "outputs": [
    {
     "data": {
      "text/plain": [
       "0     2\n",
       "1     4\n",
       "2     6\n",
       "3     8\n",
       "4    10\n",
       "5    12\n",
       "dtype: int32"
      ]
     },
     "execution_count": 15,
     "metadata": {},
     "output_type": "execute_result"
    }
   ],
   "source": [
    "a"
   ]
  },
  {
   "cell_type": "code",
   "execution_count": 16,
   "id": "1db22663",
   "metadata": {},
   "outputs": [
    {
     "name": "stdout",
     "output_type": "stream",
     "text": [
      "0    2\n",
      "1    4\n",
      "2    6\n",
      "dtype: int64\n"
     ]
    }
   ],
   "source": [
    "p=pd.Series([2,4,6,8,10,12])\n",
    "print(p[0:3])"
   ]
  },
  {
   "cell_type": "code",
   "execution_count": 17,
   "id": "c0d6a08b",
   "metadata": {},
   "outputs": [
    {
     "data": {
      "text/plain": [
       "12"
      ]
     },
     "execution_count": 17,
     "metadata": {},
     "output_type": "execute_result"
    }
   ],
   "source": [
    "p[5]"
   ]
  },
  {
   "cell_type": "code",
   "execution_count": 18,
   "id": "14e0c521",
   "metadata": {},
   "outputs": [
    {
     "data": {
      "text/plain": [
       "1    4\n",
       "2    6\n",
       "3    8\n",
       "dtype: int64"
      ]
     },
     "execution_count": 18,
     "metadata": {},
     "output_type": "execute_result"
    }
   ],
   "source": [
    "p[1:4]"
   ]
  },
  {
   "cell_type": "code",
   "execution_count": 19,
   "id": "62b64fdf",
   "metadata": {},
   "outputs": [
    {
     "name": "stdout",
     "output_type": "stream",
     "text": [
      "name    sash\n",
      "id       102\n",
      "dtype: object\n"
     ]
    }
   ],
   "source": [
    "demodict={\"name\":\"sash\",\"id\":102}\n",
    "s1=pd.Series(demodict)\n",
    "print(s1)"
   ]
  },
  {
   "cell_type": "code",
   "execution_count": 20,
   "id": "2db3eb5b",
   "metadata": {},
   "outputs": [
    {
     "name": "stdout",
     "output_type": "stream",
     "text": [
      "name        kalpi\n",
      "id            103\n",
      "place     kolkata\n",
      "salary      20000\n",
      "dtype: object\n"
     ]
    }
   ],
   "source": [
    "demodict1={\"name\":\"kalpi\",\"id\":103,\"place\":\"kolkata\",\"salary\":20000}\n",
    "s2=pd.Series(demodict1)\n",
    "print(s2)"
   ]
  },
  {
   "cell_type": "markdown",
   "id": "a629d7e2",
   "metadata": {},
   "source": [
    "# PANDAS DATAFRAME"
   ]
  },
  {
   "cell_type": "code",
   "execution_count": 21,
   "id": "9750c550",
   "metadata": {},
   "outputs": [
    {
     "name": "stdout",
     "output_type": "stream",
     "text": [
      "     0    1    2    3    4    5\n",
      "0   10   20   30   40   50   60\n",
      "1  101  102  103  104  105  106\n"
     ]
    }
   ],
   "source": [
    "s=pd.DataFrame([[10,20,30,40,50,60],[101,102,103,104,105,106]])\n",
    "print(s)"
   ]
  },
  {
   "cell_type": "code",
   "execution_count": 22,
   "id": "f461e077",
   "metadata": {
    "scrolled": true
   },
   "outputs": [
    {
     "name": "stdout",
     "output_type": "stream",
     "text": [
      "      0     1          2\n",
      "0  name  roll      place\n",
      "1  kish    20  malashwar\n"
     ]
    }
   ],
   "source": [
    "data1=pd.DataFrame([[\"name\",\"roll\",\"place\"],[\"kish\",20,\"malashwar\"]])\n",
    "s1=(data1)\n",
    "print(s1)"
   ]
  },
  {
   "cell_type": "code",
   "execution_count": 23,
   "id": "37fec362",
   "metadata": {},
   "outputs": [
    {
     "name": "stdout",
     "output_type": "stream",
     "text": [
      "      name  roll      place\n",
      "0    KRISH    20    kolkata\n",
      "1    shrey    20   Saltlake\n",
      "2  Rajdeep    25  malashwar\n"
     ]
    }
   ],
   "source": [
    "data2=[[\"KRISH\",20,\"kolkata\"],[\"shrey\",20,\"Saltlake\"],[\"Rajdeep\",25,\"malashwar\"]]\n",
    "s2=pd.DataFrame(data2,columns=[\"name\",\"roll\",\"place\"])\n",
    "print(s2)"
   ]
  },
  {
   "cell_type": "code",
   "execution_count": 24,
   "id": "1a3882db",
   "metadata": {},
   "outputs": [
    {
     "name": "stdout",
     "output_type": "stream",
     "text": [
      "      name  roll      place\n",
      "0    KRISH  20.0    kolkata\n",
      "1    shrey  20.0   Saltlake\n",
      "2  Rajdeep  25.0  malashwar\n"
     ]
    },
    {
     "name": "stderr",
     "output_type": "stream",
     "text": [
      "C:\\Users\\Shreyasi  Saha\\anaconda3\\lib\\site-packages\\IPython\\core\\interactiveshell.py:3444: FutureWarning: Could not cast to float64, falling back to object. This behavior is deprecated. In a future version, when a dtype is passed to 'DataFrame', either all columns will be cast to that dtype, or a TypeError will be raised\n",
      "  exec(code_obj, self.user_global_ns, self.user_ns)\n"
     ]
    }
   ],
   "source": [
    "data3=[[\"KRISH\",20,\"kolkata\"],[\"shrey\",20,\"Saltlake\"],[\"Rajdeep\",25,\"malashwar\"]]\n",
    "s4=pd.DataFrame(data3,columns=[\"name\",\"roll\",\"place\"],dtype=float)\n",
    "print(s4)"
   ]
  },
  {
   "cell_type": "code",
   "execution_count": 25,
   "id": "df405e8b",
   "metadata": {},
   "outputs": [
    {
     "name": "stdout",
     "output_type": "stream",
     "text": [
      "    name   id    place  salary\n",
      "0  kalpi  103  kolkata   20000\n",
      "1   keem  105  kashmir   50000\n"
     ]
    }
   ],
   "source": [
    "demodict2=({\"name\":\"kalpi\",\"id\":103,\"place\":\"kolkata\",\"salary\":20000},{\"name\":\"keem\",\"id\":105,\"place\":\"kashmir\",\"salary\":50000})\n",
    "s3=pd.DataFrame(demodict2)\n",
    "print(s3)"
   ]
  },
  {
   "cell_type": "code",
   "execution_count": 26,
   "id": "0cf8cbb9",
   "metadata": {},
   "outputs": [
    {
     "name": "stdout",
     "output_type": "stream",
     "text": [
      "    name  idno\n",
      "0  kalpi    20\n",
      "1   keem    21\n",
      "2  mishe    22\n"
     ]
    }
   ],
   "source": [
    "demodict3={\"name\":[\"kalpi\",\"keem\",\"mishe\"],\"idno\":[20,21,22]}\n",
    "s5=pd.DataFrame(demodict3)\n",
    "print(s5)"
   ]
  },
  {
   "cell_type": "code",
   "execution_count": 27,
   "id": "47123314",
   "metadata": {},
   "outputs": [
    {
     "name": "stdout",
     "output_type": "stream",
     "text": [
      "       a   b         c\n",
      "0  fishe  22       NaN\n",
      "1  meate  35  himachal\n"
     ]
    }
   ],
   "source": [
    "demodict4=[{'a':\"fishe\",\"b\":22},{\"a\":\"meate\",\"b\":35,\"c\":\"himachal\"}]\n",
    "b=pd.DataFrame(demodict4)\n",
    "print(b)"
   ]
  },
  {
   "cell_type": "code",
   "execution_count": 28,
   "id": "ed5ddf44",
   "metadata": {
    "scrolled": true
   },
   "outputs": [
    {
     "name": "stdout",
     "output_type": "stream",
     "text": [
      "       a     b         c\n",
      "0  fishe  22.0       NaN\n",
      "1  meate  35.0  himachal\n"
     ]
    },
    {
     "name": "stderr",
     "output_type": "stream",
     "text": [
      "C:\\Users\\Shreyasi  Saha\\anaconda3\\lib\\site-packages\\IPython\\core\\interactiveshell.py:3444: FutureWarning: Could not cast to float64, falling back to object. This behavior is deprecated. In a future version, when a dtype is passed to 'DataFrame', either all columns will be cast to that dtype, or a TypeError will be raised\n",
      "  exec(code_obj, self.user_global_ns, self.user_ns)\n"
     ]
    }
   ],
   "source": [
    "demodict5=[{'a':\"fishe\",\"b\":22},{\"a\":\"meate\",\"b\":35,\"c\":\"himachal\"}]\n",
    "c=pd.DataFrame(demodict5,dtype=float)\n",
    "print(c)"
   ]
  },
  {
   "cell_type": "code",
   "execution_count": 29,
   "id": "fdeb57e4",
   "metadata": {},
   "outputs": [
    {
     "name": "stdout",
     "output_type": "stream",
     "text": [
      "            a     b         c\n",
      "first   fishe  22.0       NaN\n",
      "second  meate  35.0  himachal\n"
     ]
    },
    {
     "name": "stderr",
     "output_type": "stream",
     "text": [
      "C:\\Users\\Shreyasi  Saha\\anaconda3\\lib\\site-packages\\IPython\\core\\interactiveshell.py:3444: FutureWarning: Could not cast to float64, falling back to object. This behavior is deprecated. In a future version, when a dtype is passed to 'DataFrame', either all columns will be cast to that dtype, or a TypeError will be raised\n",
      "  exec(code_obj, self.user_global_ns, self.user_ns)\n"
     ]
    }
   ],
   "source": [
    "demodict5=[{'a':\"fishe\",\"b\":22},{\"a\":\"meate\",\"b\":35,\"c\":\"himachal\"}]\n",
    "c=pd.DataFrame(demodict5,index=[\"first\",\"second\"],dtype=float)\n",
    "print(c)"
   ]
  },
  {
   "cell_type": "code",
   "execution_count": 30,
   "id": "8208d896",
   "metadata": {},
   "outputs": [
    {
     "name": "stdout",
     "output_type": "stream",
     "text": [
      "            a   b\n",
      "first   fishe  22\n",
      "second  meate  35\n"
     ]
    }
   ],
   "source": [
    "demodict6=[{'a':\"fishe\",\"b\":22},{\"a\":\"meate\",\"b\":35,\"c\":\"himachal\"}]\n",
    "c1=pd.DataFrame(demodict6,index=[\"first\",\"second\"],columns=['a','b'])\n",
    "print(c1)"
   ]
  },
  {
   "cell_type": "code",
   "execution_count": 35,
   "id": "e42d32ec",
   "metadata": {},
   "outputs": [
    {
     "name": "stdout",
     "output_type": "stream",
     "text": [
      "          a         b         c         d\n",
      "0 -0.284495 -0.543963 -2.065001  1.173692\n",
      "1 -1.965808 -0.429736 -1.277571 -3.094914\n",
      "2 -0.948014 -0.546685 -1.055566  1.554560\n",
      "3 -0.348770  0.204351  0.347436  0.611323\n",
      "4  0.171237 -0.001907 -1.187860 -1.012267\n",
      "5  0.843276  0.068979  1.673743  2.904100\n"
     ]
    }
   ],
   "source": [
    "df=pd.DataFrame(np.random.randn(6,4),columns=[\"a\",\"b\",\"c\",\"d\"])\n",
    "print(df)"
   ]
  },
  {
   "cell_type": "code",
   "execution_count": 36,
   "id": "3efb09e9",
   "metadata": {},
   "outputs": [
    {
     "name": "stdout",
     "output_type": "stream",
     "text": [
      "          0         1         2         3\n",
      "0  0.051927  0.424142  0.614002  0.669602\n",
      "1  0.710154  0.755389 -1.936652 -0.655441\n",
      "2  0.852921  0.926420  1.594863 -0.995111\n",
      "3  0.461636  0.543470  2.830306  1.488322\n",
      "4 -0.050572  0.107005  0.687248 -1.058292\n",
      "5 -1.301109 -1.416569  0.496861 -0.071292\n"
     ]
    }
   ],
   "source": [
    "df=pd.DataFrame(np.random.randn(6,4))\n",
    "print(df)"
   ]
  },
  {
   "cell_type": "code",
   "execution_count": 39,
   "id": "e4adf2a9",
   "metadata": {},
   "outputs": [
    {
     "data": {
      "text/plain": [
       "0    0.669602\n",
       "1   -0.655441\n",
       "2   -0.995111\n",
       "3    1.488322\n",
       "4   -1.058292\n",
       "5   -0.071292\n",
       "Name: 3, dtype: float64"
      ]
     },
     "execution_count": 39,
     "metadata": {},
     "output_type": "execute_result"
    }
   ],
   "source": [
    "df.loc[:,3]"
   ]
  },
  {
   "cell_type": "code",
   "execution_count": null,
   "id": "0e1af23c",
   "metadata": {},
   "outputs": [],
   "source": [
    "df.loc[:,[\"c\",\"d\"]]"
   ]
  },
  {
   "cell_type": "code",
   "execution_count": null,
   "id": "62a5114a",
   "metadata": {},
   "outputs": [],
   "source": [
    "df1=pd.DataFrame(np.random.randn(7,4),columns=[1,2,3,4])\n",
    "print(df1)"
   ]
  },
  {
   "cell_type": "code",
   "execution_count": 34,
   "id": "7faa8aaa",
   "metadata": {},
   "outputs": [
    {
     "ename": "NameError",
     "evalue": "name 'df1' is not defined",
     "output_type": "error",
     "traceback": [
      "\u001b[1;31m---------------------------------------------------------------------------\u001b[0m",
      "\u001b[1;31mNameError\u001b[0m                                 Traceback (most recent call last)",
      "\u001b[1;32mC:\\Users\\SHREYA~1\\AppData\\Local\\Temp/ipykernel_1584/589107810.py\u001b[0m in \u001b[0;36m<module>\u001b[1;34m\u001b[0m\n\u001b[1;32m----> 1\u001b[1;33m \u001b[0mdf1\u001b[0m\u001b[1;33m.\u001b[0m\u001b[0miloc\u001b[0m\u001b[1;33m[\u001b[0m\u001b[1;33m:\u001b[0m\u001b[1;33m,\u001b[0m\u001b[1;36m0\u001b[0m\u001b[1;33m:\u001b[0m\u001b[1;36m3\u001b[0m\u001b[1;33m]\u001b[0m\u001b[1;33m\u001b[0m\u001b[1;33m\u001b[0m\u001b[0m\n\u001b[0m",
      "\u001b[1;31mNameError\u001b[0m: name 'df1' is not defined"
     ]
    }
   ],
   "source": [
    "df1.iloc[:,0:3]"
   ]
  },
  {
   "cell_type": "code",
   "execution_count": null,
   "id": "bb1610b8",
   "metadata": {},
   "outputs": [],
   "source": [
    "df1.iloc[1:5,0:3]"
   ]
  },
  {
   "cell_type": "code",
   "execution_count": null,
   "id": "b22439a5",
   "metadata": {},
   "outputs": [],
   "source": [
    "df1.iloc[0:2,:]"
   ]
  },
  {
   "cell_type": "code",
   "execution_count": null,
   "id": "1cc95cc8",
   "metadata": {},
   "outputs": [],
   "source": [
    "df1.iloc[3:4,2:3]"
   ]
  },
  {
   "cell_type": "markdown",
   "id": "f15f396f",
   "metadata": {},
   "source": [
    "NEGATIVE INDEX"
   ]
  },
  {
   "cell_type": "code",
   "execution_count": null,
   "id": "693f7b0d",
   "metadata": {},
   "outputs": [],
   "source": [
    "df1=pd.DataFrame(np.random.randn(7,4),columns=[1,2,3,4])\n",
    "print(df1)"
   ]
  },
  {
   "cell_type": "code",
   "execution_count": null,
   "id": "cde0170b",
   "metadata": {},
   "outputs": [],
   "source": [
    "df1.iloc[:,-3]"
   ]
  },
  {
   "cell_type": "code",
   "execution_count": null,
   "id": "9cca3493",
   "metadata": {},
   "outputs": [],
   "source": [
    "df1.iloc[:-5,:]"
   ]
  },
  {
   "cell_type": "code",
   "execution_count": null,
   "id": "a6a06f7e",
   "metadata": {},
   "outputs": [],
   "source": [
    "df1.iloc[:-5,:-3]"
   ]
  },
  {
   "cell_type": "code",
   "execution_count": null,
   "id": "0b5da872",
   "metadata": {},
   "outputs": [],
   "source": [
    "df1.iloc[1:5,:-3]"
   ]
  },
  {
   "cell_type": "code",
   "execution_count": null,
   "id": "11c04f34",
   "metadata": {},
   "outputs": [],
   "source": [
    "df1.iloc[:,-4:]"
   ]
  }
 ],
 "metadata": {
  "kernelspec": {
   "display_name": "Python 3 (ipykernel)",
   "language": "python",
   "name": "python3"
  },
  "language_info": {
   "codemirror_mode": {
    "name": "ipython",
    "version": 3
   },
   "file_extension": ".py",
   "mimetype": "text/x-python",
   "name": "python",
   "nbconvert_exporter": "python",
   "pygments_lexer": "ipython3",
   "version": "3.9.7"
  }
 },
 "nbformat": 4,
 "nbformat_minor": 5
}
