{
 "cells": [
  {
   "cell_type": "code",
   "execution_count": 1,
   "id": "af918918",
   "metadata": {},
   "outputs": [
    {
     "name": "stdout",
     "output_type": "stream",
     "text": [
      "Hello Rajdeep\n"
     ]
    }
   ],
   "source": [
    "print('Hello Rajdeep')"
   ]
  },
  {
   "cell_type": "code",
   "execution_count": 3,
   "id": "626ea613",
   "metadata": {},
   "outputs": [
    {
     "name": "stdout",
     "output_type": "stream",
     "text": [
      "Hello Shreyasi\n"
     ]
    }
   ],
   "source": [
    "print(\"Hello Shreyasi\")\n"
   ]
  },
  {
   "cell_type": "code",
   "execution_count": 4,
   "id": "f20a3af2",
   "metadata": {},
   "outputs": [
    {
     "name": "stdout",
     "output_type": "stream",
     "text": [
      "Father's Name\n"
     ]
    }
   ],
   "source": [
    "print(\"Father's Name\")"
   ]
  },
  {
   "cell_type": "code",
   "execution_count": 5,
   "id": "15378cbf",
   "metadata": {},
   "outputs": [
    {
     "name": "stdout",
     "output_type": "stream",
     "text": [
      "10\n"
     ]
    }
   ],
   "source": [
    "x = 10\n",
    "print(x)"
   ]
  },
  {
   "cell_type": "code",
   "execution_count": 6,
   "id": "bc1051ab",
   "metadata": {},
   "outputs": [
    {
     "name": "stdout",
     "output_type": "stream",
     "text": [
      "x\n"
     ]
    }
   ],
   "source": [
    "print('x')"
   ]
  },
  {
   "cell_type": "code",
   "execution_count": 2,
   "id": "c3ad1008",
   "metadata": {},
   "outputs": [
    {
     "name": "stdout",
     "output_type": "stream",
     "text": [
      "value of x+y+z= 795\n",
      "value of x+y-z= 465\n",
      "multiplication of x,y,z= 15959625\n"
     ]
    }
   ],
   "source": [
    "x=365\n",
    "y=265\n",
    "z=165\n",
    "print('value of x+y+z=',x+y+z)\n",
    "print('value of x+y-z=',x+y-z)\n",
    "print('multiplication of x,y,z=',x*y*z)"
   ]
  },
  {
   "cell_type": "code",
   "execution_count": null,
   "id": "39dc3a6f",
   "metadata": {},
   "outputs": [],
   "source": []
  }
 ],
 "metadata": {
  "kernelspec": {
   "display_name": "Python 3 (ipykernel)",
   "language": "python",
   "name": "python3"
  },
  "language_info": {
   "codemirror_mode": {
    "name": "ipython",
    "version": 3
   },
   "file_extension": ".py",
   "mimetype": "text/x-python",
   "name": "python",
   "nbconvert_exporter": "python",
   "pygments_lexer": "ipython3",
   "version": "3.9.7"
  }
 },
 "nbformat": 4,
 "nbformat_minor": 5
}
