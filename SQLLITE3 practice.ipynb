{
 "cells": [
  {
   "cell_type": "code",
   "execution_count": 8,
   "id": "41d178f5",
   "metadata": {},
   "outputs": [],
   "source": [
    "import sqlite3"
   ]
  },
  {
   "cell_type": "code",
   "execution_count": 9,
   "id": "6f8d5b3a",
   "metadata": {},
   "outputs": [],
   "source": [
    "db=sqlite3.connect(\"E:/mysqlite/workfile.db\")"
   ]
  },
  {
   "cell_type": "code",
   "execution_count": 10,
   "id": "654c2635",
   "metadata": {},
   "outputs": [],
   "source": [
    "cur=db.cursor()"
   ]
  },
  {
   "cell_type": "code",
   "execution_count": 12,
   "id": "e5d68918",
   "metadata": {},
   "outputs": [
    {
     "ename": "OperationalError",
     "evalue": "table workfile already exists",
     "output_type": "error",
     "traceback": [
      "\u001b[1;31m---------------------------------------------------------------------------\u001b[0m",
      "\u001b[1;31mOperationalError\u001b[0m                          Traceback (most recent call last)",
      "\u001b[1;32mC:\\Users\\SHREYA~1\\AppData\\Local\\Temp/ipykernel_14812/2150926825.py\u001b[0m in \u001b[0;36m<module>\u001b[1;34m\u001b[0m\n\u001b[1;32m----> 1\u001b[1;33m \u001b[0mcur\u001b[0m\u001b[1;33m.\u001b[0m\u001b[0mexecute\u001b[0m\u001b[1;33m(\u001b[0m\u001b[1;34m'create table workfile(wkcode int,wkname text,wkbranch text,wkmarks int)'\u001b[0m\u001b[1;33m)\u001b[0m\u001b[1;33m\u001b[0m\u001b[1;33m\u001b[0m\u001b[0m\n\u001b[0m",
      "\u001b[1;31mOperationalError\u001b[0m: table workfile already exists"
     ]
    }
   ],
   "source": [
    "cur.execute('create table workfile(wkcode int,wkname text,wkbranch text,wkmarks int)')"
   ]
  },
  {
   "cell_type": "code",
   "execution_count": 16,
   "id": "c358ea1d",
   "metadata": {},
   "outputs": [
    {
     "name": "stdout",
     "output_type": "stream",
     "text": [
      "7 Rows Insert\n"
     ]
    }
   ],
   "source": [
    "with open(\"E:/mysqlite/workfile.csv\",\"r\")as file:\n",
    "    total_records=0\n",
    "    for rows in file:\n",
    "        cur.execute('insert into workfile values (?,?,?,?)',rows.split(\",\"))\n",
    "        db.commit()\n",
    "        total_records+=1\n",
    "print(total_records, \"Rows Insert\")    "
   ]
  },
  {
   "cell_type": "code",
   "execution_count": 19,
   "id": "43cdcabd",
   "metadata": {},
   "outputs": [
    {
     "data": {
      "text/plain": [
       "[(102, 'Richard', 'Durgapur', 45),\n",
       " (103, 'David', 'Mumbai', 40),\n",
       " (104, 'jeams', 'bangalore', 20),\n",
       " (105, 'jonys', 'usa', 10),\n",
       " (106, 'jash', 'pune', 60),\n",
       " (107, 'joli', 'chennai', 70),\n",
       " (108, 'joky', 'kashmir', 90)]"
      ]
     },
     "execution_count": 19,
     "metadata": {},
     "output_type": "execute_result"
    }
   ],
   "source": [
    "result=cur.execute(\"select * from workfile\")\n",
    "result.fetchall()"
   ]
  },
  {
   "cell_type": "code",
   "execution_count": null,
   "id": "92a40f99",
   "metadata": {},
   "outputs": [],
   "source": []
  },
  {
   "cell_type": "code",
   "execution_count": null,
   "id": "b6802640",
   "metadata": {},
   "outputs": [],
   "source": []
  }
 ],
 "metadata": {
  "kernelspec": {
   "display_name": "Python 3 (ipykernel)",
   "language": "python",
   "name": "python3"
  },
  "language_info": {
   "codemirror_mode": {
    "name": "ipython",
    "version": 3
   },
   "file_extension": ".py",
   "mimetype": "text/x-python",
   "name": "python",
   "nbconvert_exporter": "python",
   "pygments_lexer": "ipython3",
   "version": "3.9.7"
  }
 },
 "nbformat": 4,
 "nbformat_minor": 5
}
