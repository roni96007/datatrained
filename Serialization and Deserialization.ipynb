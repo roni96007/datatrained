{
 "cells": [
  {
   "cell_type": "markdown",
   "id": "8cf93f21",
   "metadata": {},
   "source": [
    "# Pickle in python/Serialization "
   ]
  },
  {
   "cell_type": "code",
   "execution_count": 4,
   "id": "b2e4b270",
   "metadata": {},
   "outputs": [],
   "source": [
    "flower_dict = {1:'Rose',2:'Lily',3:'Tulip',4:'Sunflower',5:'Lotus'}"
   ]
  },
  {
   "cell_type": "code",
   "execution_count": 5,
   "id": "8088a4ff",
   "metadata": {},
   "outputs": [
    {
     "data": {
      "text/plain": [
       "{1: 'Rose', 2: 'Lily', 3: 'Tulip', 4: 'Sunflower', 5: 'Lotus'}"
      ]
     },
     "execution_count": 5,
     "metadata": {},
     "output_type": "execute_result"
    }
   ],
   "source": [
    "flower_dict"
   ]
  },
  {
   "cell_type": "code",
   "execution_count": 6,
   "id": "425afb84",
   "metadata": {},
   "outputs": [
    {
     "ename": "FileExistsError",
     "evalue": "[WinError 183] Cannot create a file when that file already exists: 'E:\\\\serialization'",
     "output_type": "error",
     "traceback": [
      "\u001b[1;31m---------------------------------------------------------------------------\u001b[0m",
      "\u001b[1;31mFileExistsError\u001b[0m                           Traceback (most recent call last)",
      "\u001b[1;32mC:\\Users\\SHREYA~1\\AppData\\Local\\Temp/ipykernel_6444/3359297818.py\u001b[0m in \u001b[0;36m<module>\u001b[1;34m\u001b[0m\n\u001b[0;32m      1\u001b[0m \u001b[1;32mimport\u001b[0m \u001b[0mos\u001b[0m\u001b[1;33m\u001b[0m\u001b[1;33m\u001b[0m\u001b[0m\n\u001b[0;32m      2\u001b[0m \u001b[1;33m\u001b[0m\u001b[0m\n\u001b[1;32m----> 3\u001b[1;33m \u001b[0mos\u001b[0m\u001b[1;33m.\u001b[0m\u001b[0mmkdir\u001b[0m\u001b[1;33m(\u001b[0m\u001b[1;34m\"E:\\\\serialization\"\u001b[0m\u001b[1;33m)\u001b[0m \u001b[1;31m#make a directory\u001b[0m\u001b[1;33m\u001b[0m\u001b[1;33m\u001b[0m\u001b[0m\n\u001b[0m",
      "\u001b[1;31mFileExistsError\u001b[0m: [WinError 183] Cannot create a file when that file already exists: 'E:\\\\serialization'"
     ]
    }
   ],
   "source": [
    "import os\n",
    "\n",
    "os.mkdir(\"E:\\\\serialization\") #make a directory"
   ]
  },
  {
   "cell_type": "code",
   "execution_count": null,
   "id": "afcceb93",
   "metadata": {},
   "outputs": [],
   "source": [
    "outfile=open(\"E:\\\\serialization\\\\flower.obj\",'wb') #create a object file in write binary mode"
   ]
  },
  {
   "cell_type": "code",
   "execution_count": null,
   "id": "7b964101",
   "metadata": {},
   "outputs": [],
   "source": [
    "import pickle # call pickle library"
   ]
  },
  {
   "cell_type": "code",
   "execution_count": null,
   "id": "d108af2c",
   "metadata": {},
   "outputs": [],
   "source": [
    "#pickling a dictionary into write binary mode\n",
    "#dump method serialize\n",
    "pickle.dump(flower_dict,outfile)\n",
    "outfile.close() #serialization"
   ]
  },
  {
   "cell_type": "code",
   "execution_count": null,
   "id": "377d0ad3",
   "metadata": {},
   "outputs": [],
   "source": [
    "infile=open('E:\\\\serialization\\\\flower.obj','rb')  #open the object file in read binary mode"
   ]
  },
  {
   "cell_type": "code",
   "execution_count": null,
   "id": "280c8888",
   "metadata": {},
   "outputs": [],
   "source": [
    "new_dict=pickle.load(infile)   #unpickle #de-serialization using load method"
   ]
  },
  {
   "cell_type": "code",
   "execution_count": null,
   "id": "bf9b69c7",
   "metadata": {},
   "outputs": [],
   "source": [
    "new_dict"
   ]
  },
  {
   "cell_type": "code",
   "execution_count": null,
   "id": "3c3696cf",
   "metadata": {},
   "outputs": [],
   "source": [
    "print(flower_dict==new_dict)"
   ]
  },
  {
   "cell_type": "code",
   "execution_count": null,
   "id": "8519077a",
   "metadata": {},
   "outputs": [],
   "source": [
    "print(type(flower_dict))\n",
    "print(type(new_dict))"
   ]
  },
  {
   "cell_type": "code",
   "execution_count": null,
   "id": "3328fcc0",
   "metadata": {},
   "outputs": [],
   "source": [
    "student_dict={10:'jhon',20:'jack',30:'jeams',40:'jims',50:'jash'}"
   ]
  },
  {
   "cell_type": "code",
   "execution_count": null,
   "id": "a2fbf627",
   "metadata": {},
   "outputs": [],
   "source": [
    "student_dict"
   ]
  },
  {
   "cell_type": "code",
   "execution_count": null,
   "id": "8e28d89d",
   "metadata": {},
   "outputs": [],
   "source": [
    "outfile1=open('e:\\\\serialization\\\\student.obj','wb')"
   ]
  },
  {
   "cell_type": "code",
   "execution_count": null,
   "id": "edada452",
   "metadata": {},
   "outputs": [],
   "source": [
    "import pickle\n",
    "\n",
    "pickle.dump(student_dict,outfile1)\n",
    "outfile1.close()"
   ]
  },
  {
   "cell_type": "code",
   "execution_count": null,
   "id": "e2383701",
   "metadata": {},
   "outputs": [],
   "source": [
    "infile1=open('e:\\\\serialization\\\\student.obj','rb')\n",
    "new_dict1=pickle.load(infile1)"
   ]
  },
  {
   "cell_type": "code",
   "execution_count": null,
   "id": "42dbe481",
   "metadata": {},
   "outputs": [],
   "source": [
    "new_dict1"
   ]
  }
 ],
 "metadata": {
  "kernelspec": {
   "display_name": "Python 3 (ipykernel)",
   "language": "python",
   "name": "python3"
  },
  "language_info": {
   "codemirror_mode": {
    "name": "ipython",
    "version": 3
   },
   "file_extension": ".py",
   "mimetype": "text/x-python",
   "name": "python",
   "nbconvert_exporter": "python",
   "pygments_lexer": "ipython3",
   "version": "3.9.7"
  }
 },
 "nbformat": 4,
 "nbformat_minor": 5
}
