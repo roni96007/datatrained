{
 "cells": [
  {
   "cell_type": "markdown",
   "id": "a638b7c9",
   "metadata": {},
   "source": [
    "# WEB API- Application Programming Interface"
   ]
  },
  {
   "cell_type": "raw",
   "id": "61e601f2",
   "metadata": {},
   "source": [
    "Web API is a interface for building HTTP services that can be accessed from any client including browsers and mobile\n",
    "\n",
    "devices.\n",
    "\n",
    "API has a set of functions that allow data scientists to access specific features or data of an application or other services. API\n",
    "\n",
    "works over the web which can be accessed using HTTP protocol.\n",
    "\n",
    "When we want to receive data from an API, we need to make a request. Requests are used all over the web.\n",
    "\n",
    "Consider the process of logging into an app such as Medium. You are given the option to login using Google or Facebook. In this instance, the Medium app is getting access to your Google or Facebook user data through an API developed by those companies. APIs are also helpful because they are a straightforward avenue for accessing large amounts of structured data from various services and platforms."
   ]
  },
  {
   "cell_type": "raw",
   "id": "fcf06d7c",
   "metadata": {},
   "source": [
    "Status Code\n",
    "200- Everything Went Okay & the result has been Returned(if any)\n",
    "404- Forbidden/The resourse is tried to access wasn't found on the server."
   ]
  },
  {
   "cell_type": "markdown",
   "id": "14fb59c9",
   "metadata": {},
   "source": [
    "Making API Requests In python"
   ]
  },
  {
   "cell_type": "code",
   "execution_count": 1,
   "id": "b3bb4d23",
   "metadata": {},
   "outputs": [],
   "source": [
    "import requests"
   ]
  },
  {
   "cell_type": "code",
   "execution_count": 3,
   "id": "b56fc66d",
   "metadata": {},
   "outputs": [],
   "source": [
    "response=requests.get('https://en.wikipedia.org/wiki/Data_science')"
   ]
  },
  {
   "cell_type": "code",
   "execution_count": 4,
   "id": "5a038740",
   "metadata": {},
   "outputs": [
    {
     "data": {
      "text/plain": [
       "200"
      ]
     },
     "execution_count": 4,
     "metadata": {},
     "output_type": "execute_result"
    }
   ],
   "source": [
    "response.status_code"
   ]
  },
  {
   "cell_type": "code",
   "execution_count": 5,
   "id": "7977dc69",
   "metadata": {},
   "outputs": [
    {
     "data": {
      "text/plain": [
       "200"
      ]
     },
     "execution_count": 5,
     "metadata": {},
     "output_type": "execute_result"
    }
   ],
   "source": [
    "response=requests.get('http://educircle.in/')\n",
    "response.status_code"
   ]
  },
  {
   "cell_type": "code",
   "execution_count": 8,
   "id": "6ad4c269",
   "metadata": {},
   "outputs": [
    {
     "data": {
      "text/plain": [
       "404"
      ]
     },
     "execution_count": 8,
     "metadata": {},
     "output_type": "execute_result"
    }
   ],
   "source": [
    "response=requests.get('http://educircle.in/get-quote.html')\n",
    "response.status_code"
   ]
  },
  {
   "cell_type": "code",
   "execution_count": 9,
   "id": "53624a59",
   "metadata": {},
   "outputs": [
    {
     "data": {
      "text/plain": [
       "200"
      ]
     },
     "execution_count": 9,
     "metadata": {},
     "output_type": "execute_result"
    }
   ],
   "source": [
    "response=requests.get('https://www.facebook.com/ShreyasSaha.1999')\n",
    "response.status_code"
   ]
  },
  {
   "cell_type": "code",
   "execution_count": 10,
   "id": "1f1b8212",
   "metadata": {},
   "outputs": [
    {
     "data": {
      "text/plain": [
       "404"
      ]
     },
     "execution_count": 10,
     "metadata": {},
     "output_type": "execute_result"
    }
   ],
   "source": [
    "response=requests.get('https://www.facebook.com/ShreyasSaha.1998')\n",
    "response.status_code"
   ]
  },
  {
   "cell_type": "code",
   "execution_count": 11,
   "id": "c65d897c",
   "metadata": {},
   "outputs": [
    {
     "data": {
      "text/plain": [
       "200"
      ]
     },
     "execution_count": 11,
     "metadata": {},
     "output_type": "execute_result"
    }
   ],
   "source": [
    "Ds1=response=requests.get('https://github.com/dsrscientist/dataset1/blob/master/empl.csv')\n",
    "response.status_code"
   ]
  },
  {
   "cell_type": "code",
   "execution_count": null,
   "id": "268fe21c",
   "metadata": {},
   "outputs": [],
   "source": []
  },
  {
   "cell_type": "code",
   "execution_count": null,
   "id": "efbaf218",
   "metadata": {},
   "outputs": [],
   "source": []
  }
 ],
 "metadata": {
  "kernelspec": {
   "display_name": "Python 3 (ipykernel)",
   "language": "python",
   "name": "python3"
  },
  "language_info": {
   "codemirror_mode": {
    "name": "ipython",
    "version": 3
   },
   "file_extension": ".py",
   "mimetype": "text/x-python",
   "name": "python",
   "nbconvert_exporter": "python",
   "pygments_lexer": "ipython3",
   "version": "3.9.7"
  }
 },
 "nbformat": 4,
 "nbformat_minor": 5
}
