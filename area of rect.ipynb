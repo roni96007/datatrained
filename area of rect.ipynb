{
 "cells": [
  {
   "cell_type": "markdown",
   "id": "0999787f",
   "metadata": {},
   "source": [
    "# area of rectangle with input fuction"
   ]
  },
  {
   "cell_type": "code",
   "execution_count": null,
   "id": "749b1b40",
   "metadata": {},
   "outputs": [],
   "source": [
    "l=int(input(\"enter any lenghth\"))\n",
    "print(\"Length is =-\",l)\n",
    "b=int(input(\"enter any breadth\"))\n",
    "print(\"Breadth is =\",b)\n",
    "areaofrectangle=l*b\n",
    "print(\"The Area of Rectangle is\" ,areaofrectangle)"
   ]
  },
  {
   "cell_type": "code",
   "execution_count": null,
   "id": "4f925696",
   "metadata": {},
   "outputs": [],
   "source": []
  }
 ],
 "metadata": {
  "kernelspec": {
   "display_name": "Python 3 (ipykernel)",
   "language": "python",
   "name": "python3"
  },
  "language_info": {
   "codemirror_mode": {
    "name": "ipython",
    "version": 3
   },
   "file_extension": ".py",
   "mimetype": "text/x-python",
   "name": "python",
   "nbconvert_exporter": "python",
   "pygments_lexer": "ipython3",
   "version": "3.9.7"
  }
 },
 "nbformat": 4,
 "nbformat_minor": 5
}
