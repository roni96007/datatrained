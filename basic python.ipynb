{
 "cells": [
  {
   "cell_type": "code",
   "execution_count": 4,
   "id": "07f3da9d",
   "metadata": {},
   "outputs": [],
   "source": [
    "Name=\"Shreyasi\"\n"
   ]
  },
  {
   "cell_type": "code",
   "execution_count": 5,
   "id": "bdf55b86",
   "metadata": {},
   "outputs": [
    {
     "data": {
      "text/plain": [
       "'Shreyasi'"
      ]
     },
     "execution_count": 5,
     "metadata": {},
     "output_type": "execute_result"
    }
   ],
   "source": [
    "Name"
   ]
  },
  {
   "cell_type": "code",
   "execution_count": 10,
   "id": "56e17b23",
   "metadata": {},
   "outputs": [
    {
     "ename": "NameError",
     "evalue": "name 'shreyasi' is not defined",
     "output_type": "error",
     "traceback": [
      "\u001b[1;31m---------------------------------------------------------------------------\u001b[0m",
      "\u001b[1;31mNameError\u001b[0m                                 Traceback (most recent call last)",
      "\u001b[1;32mC:\\Users\\SHREYA~1\\AppData\\Local\\Temp/ipykernel_2628/4138010115.py\u001b[0m in \u001b[0;36m<module>\u001b[1;34m\u001b[0m\n\u001b[1;32m----> 1\u001b[1;33m \u001b[0mlen\u001b[0m\u001b[1;33m(\u001b[0m\u001b[0mshreyasi\u001b[0m\u001b[1;33m)\u001b[0m\u001b[1;33m\u001b[0m\u001b[1;33m\u001b[0m\u001b[0m\n\u001b[0m",
      "\u001b[1;31mNameError\u001b[0m: name 'shreyasi' is not defined"
     ]
    }
   ],
   "source": [
    "len(shreyasi)"
   ]
  },
  {
   "cell_type": "code",
   "execution_count": 13,
   "id": "85301b8f",
   "metadata": {},
   "outputs": [
    {
     "data": {
      "text/plain": [
       "8"
      ]
     },
     "execution_count": 13,
     "metadata": {},
     "output_type": "execute_result"
    }
   ],
   "source": [
    "len(\"shreyasi\")"
   ]
  },
  {
   "cell_type": "code",
   "execution_count": 14,
   "id": "839b97d2",
   "metadata": {},
   "outputs": [
    {
     "data": {
      "text/plain": [
       "4"
      ]
     },
     "execution_count": 14,
     "metadata": {},
     "output_type": "execute_result"
    }
   ],
   "source": [
    "len('Name')"
   ]
  },
  {
   "cell_type": "code",
   "execution_count": 17,
   "id": "813d9e41",
   "metadata": {},
   "outputs": [
    {
     "data": {
      "text/plain": [
       "8"
      ]
     },
     "execution_count": 17,
     "metadata": {},
     "output_type": "execute_result"
    }
   ],
   "source": [
    "Name=\"shreyasi\"\n",
    "len(Name)"
   ]
  },
  {
   "cell_type": "code",
   "execution_count": 19,
   "id": "e8680562",
   "metadata": {},
   "outputs": [
    {
     "data": {
      "text/plain": [
       "7"
      ]
     },
     "execution_count": 19,
     "metadata": {},
     "output_type": "execute_result"
    }
   ],
   "source": [
    "len('rajdeep')"
   ]
  },
  {
   "cell_type": "code",
   "execution_count": 20,
   "id": "99ebc112",
   "metadata": {},
   "outputs": [
    {
     "data": {
      "text/plain": [
       "6"
      ]
     },
     "execution_count": 20,
     "metadata": {},
     "output_type": "execute_result"
    }
   ],
   "source": [
    "len('Mamoni')"
   ]
  },
  {
   "cell_type": "code",
   "execution_count": 22,
   "id": "48f17dce",
   "metadata": {},
   "outputs": [
    {
     "data": {
      "text/plain": [
       "'shreyasisaha'"
      ]
     },
     "execution_count": 22,
     "metadata": {},
     "output_type": "execute_result"
    }
   ],
   "source": [
    "'shreyasi'+'saha'"
   ]
  },
  {
   "cell_type": "code",
   "execution_count": 31,
   "id": "fd10cf7b",
   "metadata": {},
   "outputs": [
    {
     "data": {
      "text/plain": [
       "'shreyasi saha'"
      ]
     },
     "execution_count": 31,
     "metadata": {},
     "output_type": "execute_result"
    }
   ],
   "source": [
    "'shreyasi ' + 'saha'"
   ]
  },
  {
   "cell_type": "code",
   "execution_count": 37,
   "id": "de752d8e",
   "metadata": {},
   "outputs": [
    {
     "data": {
      "text/plain": [
       "8"
      ]
     },
     "execution_count": 37,
     "metadata": {},
     "output_type": "execute_result"
    }
   ],
   "source": [
    "name1 = \"shreyasi\"\n",
    "len(name1)"
   ]
  },
  {
   "cell_type": "code",
   "execution_count": 33,
   "id": "ae5f5153",
   "metadata": {},
   "outputs": [
    {
     "data": {
      "text/plain": [
       "4"
      ]
     },
     "execution_count": 33,
     "metadata": {},
     "output_type": "execute_result"
    }
   ],
   "source": [
    "len('name')"
   ]
  },
  {
   "cell_type": "code",
   "execution_count": 36,
   "id": "7f5b1d39",
   "metadata": {},
   "outputs": [
    {
     "data": {
      "text/plain": [
       "5"
      ]
     },
     "execution_count": 36,
     "metadata": {},
     "output_type": "execute_result"
    }
   ],
   "source": [
    "len('name1')"
   ]
  },
  {
   "cell_type": "code",
   "execution_count": 38,
   "id": "e14ec4e5",
   "metadata": {},
   "outputs": [
    {
     "data": {
      "text/plain": [
       "str"
      ]
     },
     "execution_count": 38,
     "metadata": {},
     "output_type": "execute_result"
    }
   ],
   "source": [
    "type(name1)"
   ]
  },
  {
   "cell_type": "code",
   "execution_count": null,
   "id": "d3283ce8",
   "metadata": {},
   "outputs": [],
   "source": []
  }
 ],
 "metadata": {
  "kernelspec": {
   "display_name": "Python 3 (ipykernel)",
   "language": "python",
   "name": "python3"
  },
  "language_info": {
   "codemirror_mode": {
    "name": "ipython",
    "version": 3
   },
   "file_extension": ".py",
   "mimetype": "text/x-python",
   "name": "python",
   "nbconvert_exporter": "python",
   "pygments_lexer": "ipython3",
   "version": "3.9.7"
  }
 },
 "nbformat": 4,
 "nbformat_minor": 5
}
