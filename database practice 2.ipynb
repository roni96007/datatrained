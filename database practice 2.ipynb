{
 "cells": [
  {
   "cell_type": "code",
   "execution_count": 1,
   "id": "ea54db58",
   "metadata": {},
   "outputs": [],
   "source": [
    "import sqlite3"
   ]
  },
  {
   "cell_type": "code",
   "execution_count": 2,
   "id": "5474ae32",
   "metadata": {},
   "outputs": [],
   "source": [
    "dbms=sqlite3.connect(\"student2.db\")"
   ]
  },
  {
   "cell_type": "code",
   "execution_count": 3,
   "id": "abdd0384",
   "metadata": {},
   "outputs": [],
   "source": [
    "cur=dbms.cursor()"
   ]
  },
  {
   "cell_type": "code",
   "execution_count": 177,
   "id": "de1bd296",
   "metadata": {},
   "outputs": [
    {
     "ename": "OperationalError",
     "evalue": "table student2 already exists",
     "output_type": "error",
     "traceback": [
      "\u001b[1;31m---------------------------------------------------------------------------\u001b[0m",
      "\u001b[1;31mOperationalError\u001b[0m                          Traceback (most recent call last)",
      "\u001b[1;32mC:\\Users\\SHREYA~1\\AppData\\Local\\Temp/ipykernel_7520/3906674989.py\u001b[0m in \u001b[0;36m<module>\u001b[1;34m\u001b[0m\n\u001b[1;32m----> 1\u001b[1;33m \u001b[0mcur\u001b[0m\u001b[1;33m.\u001b[0m\u001b[0mexecute\u001b[0m\u001b[1;33m(\u001b[0m\u001b[1;34m'create table student2(rollno int primary key,name text,marks int)'\u001b[0m\u001b[1;33m)\u001b[0m\u001b[1;33m\u001b[0m\u001b[1;33m\u001b[0m\u001b[0m\n\u001b[0m\u001b[0;32m      2\u001b[0m \u001b[0mdbms\u001b[0m\u001b[1;33m.\u001b[0m\u001b[0mcommit\u001b[0m\u001b[1;33m(\u001b[0m\u001b[1;33m)\u001b[0m\u001b[1;33m\u001b[0m\u001b[1;33m\u001b[0m\u001b[0m\n",
      "\u001b[1;31mOperationalError\u001b[0m: table student2 already exists"
     ]
    }
   ],
   "source": [
    "cur.execute('create table student2(rollno int primary key,name text,marks int)')\n",
    "dbms.commit()"
   ]
  },
  {
   "cell_type": "code",
   "execution_count": 7,
   "id": "d083e081",
   "metadata": {},
   "outputs": [
    {
     "ename": "IntegrityError",
     "evalue": "UNIQUE constraint failed: student2.rollno",
     "output_type": "error",
     "traceback": [
      "\u001b[1;31m---------------------------------------------------------------------------\u001b[0m",
      "\u001b[1;31mIntegrityError\u001b[0m                            Traceback (most recent call last)",
      "\u001b[1;32mC:\\Users\\SHREYA~1\\AppData\\Local\\Temp/ipykernel_7520/1121856140.py\u001b[0m in \u001b[0;36m<module>\u001b[1;34m\u001b[0m\n\u001b[1;32m----> 1\u001b[1;33m \u001b[0mcur\u001b[0m\u001b[1;33m.\u001b[0m\u001b[0mexecute\u001b[0m\u001b[1;33m(\u001b[0m\u001b[1;34m'insert into student2 values(001,\"shrey\",20),(002,\"pri\",60),(003,\"rish\",50),(004,\"kjp\",30)'\u001b[0m\u001b[1;33m)\u001b[0m\u001b[1;33m\u001b[0m\u001b[1;33m\u001b[0m\u001b[0m\n\u001b[0m\u001b[0;32m      2\u001b[0m \u001b[0mdbms\u001b[0m\u001b[1;33m.\u001b[0m\u001b[0mcommit\u001b[0m\u001b[1;33m(\u001b[0m\u001b[1;33m)\u001b[0m\u001b[1;33m\u001b[0m\u001b[1;33m\u001b[0m\u001b[0m\n",
      "\u001b[1;31mIntegrityError\u001b[0m: UNIQUE constraint failed: student2.rollno"
     ]
    }
   ],
   "source": [
    "cur.execute('insert into student2 values(001,\"shrey\",20),(002,\"pri\",60),(003,\"rish\",50),(004,\"kjp\",30)')\n",
    "dbms.commit()"
   ]
  },
  {
   "cell_type": "code",
   "execution_count": 17,
   "id": "bcd67ac2",
   "metadata": {},
   "outputs": [
    {
     "name": "stdout",
     "output_type": "stream",
     "text": [
      "(1, 'shrey', 20)\n",
      "(2, 'pri', 60)\n",
      "(3, 'rish', 50)\n",
      "(4, 'kjp', 30)\n",
      "(5, 'rajdeep', 80)\n",
      "(6, 'roni', 50)\n",
      "(7, 'rishi', 90)\n",
      "(8, 'piu', 70)\n",
      "(9, 'deep', 80)\n",
      "(10, 'oni', 50)\n",
      "(11, 'shiv', 90)\n",
      "(12, 'pisi', 70)\n"
     ]
    }
   ],
   "source": [
    "result=cur.execute('select * from student2')\n",
    "for res in result:\n",
    "    print(res)"
   ]
  },
  {
   "cell_type": "code",
   "execution_count": 13,
   "id": "af7ec424",
   "metadata": {},
   "outputs": [
    {
     "ename": "IntegrityError",
     "evalue": "UNIQUE constraint failed: student2.rollno",
     "output_type": "error",
     "traceback": [
      "\u001b[1;31m---------------------------------------------------------------------------\u001b[0m",
      "\u001b[1;31mIntegrityError\u001b[0m                            Traceback (most recent call last)",
      "\u001b[1;32mC:\\Users\\SHREYA~1\\AppData\\Local\\Temp/ipykernel_7520/1671978130.py\u001b[0m in \u001b[0;36m<module>\u001b[1;34m\u001b[0m\n\u001b[1;32m----> 1\u001b[1;33m \u001b[0mcur\u001b[0m\u001b[1;33m.\u001b[0m\u001b[0mexecute\u001b[0m\u001b[1;33m(\u001b[0m\u001b[1;34m'insert into student2 values(005,\"rajdeep\",80),(006,\"roni\",50),(007,\"rishi\",90),(008,\"piu\",70)'\u001b[0m\u001b[1;33m)\u001b[0m\u001b[1;33m\u001b[0m\u001b[1;33m\u001b[0m\u001b[0m\n\u001b[0m\u001b[0;32m      2\u001b[0m \u001b[0mdbms\u001b[0m\u001b[1;33m.\u001b[0m\u001b[0mcommit\u001b[0m\u001b[1;33m(\u001b[0m\u001b[1;33m)\u001b[0m\u001b[1;33m\u001b[0m\u001b[1;33m\u001b[0m\u001b[0m\n",
      "\u001b[1;31mIntegrityError\u001b[0m: UNIQUE constraint failed: student2.rollno"
     ]
    }
   ],
   "source": [
    "cur.execute('insert into student2 values(005,\"rajdeep\",80),(006,\"roni\",50),(007,\"rishi\",90),(008,\"piu\",70)')\n",
    "dbms.commit()"
   ]
  },
  {
   "cell_type": "code",
   "execution_count": 16,
   "id": "31a187d3",
   "metadata": {
    "scrolled": false
   },
   "outputs": [
    {
     "ename": "IntegrityError",
     "evalue": "UNIQUE constraint failed: student2.rollno",
     "output_type": "error",
     "traceback": [
      "\u001b[1;31m---------------------------------------------------------------------------\u001b[0m",
      "\u001b[1;31mIntegrityError\u001b[0m                            Traceback (most recent call last)",
      "\u001b[1;32mC:\\Users\\SHREYA~1\\AppData\\Local\\Temp/ipykernel_7520/189473191.py\u001b[0m in \u001b[0;36m<module>\u001b[1;34m\u001b[0m\n\u001b[1;32m----> 1\u001b[1;33m \u001b[0mcur\u001b[0m\u001b[1;33m.\u001b[0m\u001b[0mexecute\u001b[0m\u001b[1;33m(\u001b[0m\u001b[1;34m'insert into student2 values(009,\"deep\",80),(010,\"oni\",50),(011,\"shiv\",90),(012,\"pisi\",70)'\u001b[0m\u001b[1;33m)\u001b[0m\u001b[1;33m\u001b[0m\u001b[1;33m\u001b[0m\u001b[0m\n\u001b[0m\u001b[0;32m      2\u001b[0m \u001b[0mdbms\u001b[0m\u001b[1;33m.\u001b[0m\u001b[0mcommit\u001b[0m\u001b[1;33m(\u001b[0m\u001b[1;33m)\u001b[0m\u001b[1;33m\u001b[0m\u001b[1;33m\u001b[0m\u001b[0m\n",
      "\u001b[1;31mIntegrityError\u001b[0m: UNIQUE constraint failed: student2.rollno"
     ]
    }
   ],
   "source": [
    "cur.execute('insert into student2 values(009,\"deep\",80),(010,\"oni\",50),(011,\"shiv\",90),(012,\"pisi\",70)')\n",
    "dbms.commit()"
   ]
  },
  {
   "cell_type": "code",
   "execution_count": 21,
   "id": "eed6c564",
   "metadata": {},
   "outputs": [],
   "source": [
    "import os"
   ]
  },
  {
   "cell_type": "code",
   "execution_count": 22,
   "id": "127f22c1",
   "metadata": {},
   "outputs": [],
   "source": [
    "import sqlite3"
   ]
  },
  {
   "cell_type": "code",
   "execution_count": 24,
   "id": "a7c0791c",
   "metadata": {},
   "outputs": [],
   "source": [
    "os.mkdir(\"E:/mysqlite\")"
   ]
  },
  {
   "cell_type": "code",
   "execution_count": 178,
   "id": "cdeefc9b",
   "metadata": {},
   "outputs": [],
   "source": [
    "db=sqlite3.connect(\"E:/mysqlite/employee1.db\")"
   ]
  },
  {
   "cell_type": "code",
   "execution_count": 179,
   "id": "3a74f3fe",
   "metadata": {},
   "outputs": [],
   "source": [
    "cur=db.cursor()"
   ]
  },
  {
   "cell_type": "code",
   "execution_count": 180,
   "id": "dec83391",
   "metadata": {},
   "outputs": [],
   "source": [
    "cur.execute('create table employee(empcode int primary key,name text,branch text,salary float)')\n",
    "db.commit()"
   ]
  },
  {
   "cell_type": "code",
   "execution_count": 185,
   "id": "c63d2896",
   "metadata": {},
   "outputs": [
    {
     "ename": "IntegrityError",
     "evalue": "UNIQUE constraint failed: employee.empcode",
     "output_type": "error",
     "traceback": [
      "\u001b[1;31m---------------------------------------------------------------------------\u001b[0m",
      "\u001b[1;31mIntegrityError\u001b[0m                            Traceback (most recent call last)",
      "\u001b[1;32mC:\\Users\\SHREYA~1\\AppData\\Local\\Temp/ipykernel_7520/829519241.py\u001b[0m in \u001b[0;36m<module>\u001b[1;34m\u001b[0m\n\u001b[1;32m----> 1\u001b[1;33m \u001b[0mcur\u001b[0m\u001b[1;33m.\u001b[0m\u001b[0mexecute\u001b[0m\u001b[1;33m(\u001b[0m\u001b[1;34m'insert into employee values (101, \"jhon\", \"Kolkata\", 50000.0),(102, \"Richard\", \"Durgapur\", 45000.0),(103, \"David\", \"Mumbai\", 40000.0),(104, \"jeams\", \"bangalore\", 20000.0),(105, \"jonyshingh\", \"usa\", 100000.0),(106, \"jash\", \"pune\", 60000.0),(107, \"joli\", \"chennai\", 70000.0)'\u001b[0m\u001b[1;33m)\u001b[0m\u001b[1;33m\u001b[0m\u001b[1;33m\u001b[0m\u001b[0m\n\u001b[0m\u001b[0;32m      2\u001b[0m \u001b[0mdb\u001b[0m\u001b[1;33m.\u001b[0m\u001b[0mcommit\u001b[0m\u001b[1;33m(\u001b[0m\u001b[1;33m)\u001b[0m\u001b[1;33m\u001b[0m\u001b[1;33m\u001b[0m\u001b[0m\n",
      "\u001b[1;31mIntegrityError\u001b[0m: UNIQUE constraint failed: employee.empcode"
     ]
    }
   ],
   "source": [
    "cur.execute('insert into employee values (101, \"jhon\", \"Kolkata\", 50000.0),(102, \"Richard\", \"Durgapur\", 45000.0),(103, \"David\", \"Mumbai\", 40000.0),(104, \"jeams\", \"bangalore\", 20000.0),(105, \"jonyshingh\", \"usa\", 100000.0),(106, \"jash\", \"pune\", 60000.0),(107, \"joli\", \"chennai\", 70000.0)')\n",
    "db.commit()"
   ]
  },
  {
   "cell_type": "code",
   "execution_count": 193,
   "id": "315818b0",
   "metadata": {},
   "outputs": [
    {
     "name": "stdout",
     "output_type": "stream",
     "text": [
      "(101, 'jhon', 'Kolkata', 50000.0)\n",
      "(102, 'Richard', 'Durgapur', 45000.0)\n",
      "(103, 'David', 'Mumbai', 40000.0)\n",
      "(104, 'jeams', 'bangalore', 20000.0)\n",
      "(105, 'jonyshingh', 'usa', 100000.0)\n",
      "(106, 'jash', 'pune', 60000.0)\n",
      "(107, 'joli', 'chennai', 70000.0)\n",
      "(108, 'jho', 'Kolkata', 50000.0)\n",
      "(109, 'Ricd', 'Durgapur', 45000.0)\n",
      "(110, 'keshab', 'london', 80000.0)\n",
      "(111, 'kish', 'france', 60000.0)\n",
      "(112, 'jho', 'Kolkata', 50000.0)\n",
      "(1113, 'Ricd', 'Durgapur', 45000.0)\n",
      "(113, 'jhoN', 'Kolkata', 50000.0)\n",
      "(114, 'RiCHIE', 'Durgapur', 45000.0)\n",
      "(115, 'keshab', 'london', 80000.0)\n",
      "(116, 'kesto', 'Kolkata', 50000.0)\n"
     ]
    }
   ],
   "source": [
    "result=cur.execute('select * from employee')\n",
    "for res in result:\n",
    "    print(res)"
   ]
  },
  {
   "cell_type": "code",
   "execution_count": 187,
   "id": "bcde3d57",
   "metadata": {},
   "outputs": [
    {
     "data": {
      "text/plain": [
       "[(101, 'jhon', 'Kolkata', 50000.0),\n",
       " (102, 'Richard', 'Durgapur', 45000.0),\n",
       " (103, 'David', 'Mumbai', 40000.0),\n",
       " (104, 'jeams', 'bangalore', 20000.0),\n",
       " (105, 'jonyshingh', 'usa', 100000.0),\n",
       " (106, 'jash', 'pune', 60000.0),\n",
       " (107, 'joli', 'chennai', 70000.0)]"
      ]
     },
     "execution_count": 187,
     "metadata": {},
     "output_type": "execute_result"
    }
   ],
   "source": [
    "result=cur.execute('select * from employee')\n",
    "result.fetchall()"
   ]
  },
  {
   "cell_type": "code",
   "execution_count": 188,
   "id": "7a2ca314",
   "metadata": {},
   "outputs": [],
   "source": [
    "cur.execute('insert into employee values (108, \"jho\", \"Kolkata\", 50000.0),(109, \"Ricd\", \"Durgapur\", 45000.0),(110,\"keshab\",\"london\",80000.0),(111,\"kish\",\"france\",60000.0)')\n",
    "db.commit()"
   ]
  },
  {
   "cell_type": "code",
   "execution_count": 189,
   "id": "bf4468a2",
   "metadata": {},
   "outputs": [
    {
     "name": "stdout",
     "output_type": "stream",
     "text": [
      "2 RECORDS INSERTED\n"
     ]
    }
   ],
   "source": [
    "cur.execute('insert into employee values (112, \"jho\", \"Kolkata\", 50000.0),(1113, \"Ricd\", \"Durgapur\", 45000.0)')\n",
    "db.commit()\n",
    "\n",
    "print(cur.rowcount, \"RECORDS INSERTED\")"
   ]
  },
  {
   "cell_type": "code",
   "execution_count": 190,
   "id": "008b11bd",
   "metadata": {},
   "outputs": [
    {
     "name": "stdout",
     "output_type": "stream",
     "text": [
      "3 ROW INSERTED\n"
     ]
    }
   ],
   "source": [
    "cur.execute('insert into employee values (113, \"jhoN\", \"Kolkata\", 50000.0),(114, \"RiCHIE\", \"Durgapur\", 45000.0),(115,\"keshab\",\"london\",80000.0)')\n",
    "db.commit()\n",
    "\n",
    "print(cur.rowcount, \"ROW INSERTED\")"
   ]
  },
  {
   "cell_type": "code",
   "execution_count": 191,
   "id": "ae63448a",
   "metadata": {},
   "outputs": [
    {
     "name": "stdout",
     "output_type": "stream",
     "text": [
      "1 Rows Insert\n"
     ]
    }
   ],
   "source": [
    "cur.execute('insert into employee values (116, \"kesto\", \"Kolkata\", 50000.0)')\n",
    "print(cur.rowcount, \"Rows Insert\")\n",
    "db.commit()"
   ]
  },
  {
   "cell_type": "code",
   "execution_count": 192,
   "id": "cabc624f",
   "metadata": {},
   "outputs": [
    {
     "name": "stdout",
     "output_type": "stream",
     "text": [
      "(101,)\n",
      "(105,)\n",
      "(106,)\n",
      "(107,)\n",
      "(108,)\n",
      "(110,)\n",
      "(111,)\n",
      "(112,)\n",
      "(113,)\n",
      "(115,)\n",
      "(116,)\n"
     ]
    }
   ],
   "source": [
    "result=cur.execute('select empcode from employee where salary between 50000.0 and 100000.0')\n",
    "for res in result:\n",
    "    print(res)"
   ]
  },
  {
   "cell_type": "code",
   "execution_count": 56,
   "id": "fa58e2d2",
   "metadata": {},
   "outputs": [
    {
     "name": "stdout",
     "output_type": "stream",
     "text": [
      "(101,)\n",
      "(108,)\n",
      "(112,)\n",
      "(113,)\n",
      "(116,)\n"
     ]
    }
   ],
   "source": [
    "result=cur.execute('select empcode from employee where salary is 50000.0')\n",
    "for res in result:\n",
    "    print(res)"
   ]
  },
  {
   "cell_type": "code",
   "execution_count": 64,
   "id": "b6dbc9cd",
   "metadata": {},
   "outputs": [
    {
     "data": {
      "text/plain": [
       "[(102, 'Richard', 'Durgapur', 45000.0),\n",
       " (109, 'Ricd', 'Durgapur', 45000.0),\n",
       " (1113, 'Ricd', 'Durgapur', 45000.0),\n",
       " (114, 'RiCHIE', 'Durgapur', 45000.0)]"
      ]
     },
     "execution_count": 64,
     "metadata": {},
     "output_type": "execute_result"
    }
   ],
   "source": [
    "result=cur.execute('select * from employee where branch is (\"Durgapur\")')\n",
    "result.fetchall()"
   ]
  },
  {
   "cell_type": "code",
   "execution_count": 67,
   "id": "e00359e7",
   "metadata": {},
   "outputs": [
    {
     "data": {
      "text/plain": [
       "[(101, 'jhon', 'Kolkata', 50000.0),\n",
       " (108, 'jho', 'Kolkata', 50000.0),\n",
       " (112, 'jho', 'Kolkata', 50000.0),\n",
       " (113, 'jhoN', 'Kolkata', 50000.0),\n",
       " (116, 'kesto', 'Kolkata', 50000.0)]"
      ]
     },
     "execution_count": 67,
     "metadata": {},
     "output_type": "execute_result"
    }
   ],
   "source": [
    "result=cur.execute('select * from employee where salary is 50000.0')\n",
    "result.fetchall()"
   ]
  },
  {
   "cell_type": "code",
   "execution_count": 65,
   "id": "77cb302b",
   "metadata": {},
   "outputs": [
    {
     "data": {
      "text/plain": [
       "[(101, 'jhon', 'Kolkata', 50000.0),\n",
       " (102, 'Richard', 'Durgapur', 45000.0),\n",
       " (103, 'David', 'Mumbai', 40000.0),\n",
       " (104, 'jeams', 'bangalore', 20000.0),\n",
       " (105, 'jonyshingh', 'usa', 100000.0)]"
      ]
     },
     "execution_count": 65,
     "metadata": {},
     "output_type": "execute_result"
    }
   ],
   "source": [
    "result=cur.execute('select * from employee limit 5')\n",
    "result.fetchall()"
   ]
  },
  {
   "cell_type": "code",
   "execution_count": 71,
   "id": "2e87a952",
   "metadata": {},
   "outputs": [
    {
     "data": {
      "text/plain": [
       "[(101, 'jhon', 'Kolkata', 50000.0),\n",
       " (102, 'Richard', 'Durgapur', 45000.0),\n",
       " (103, 'David', 'Mumbai', 40000.0),\n",
       " (104, 'jeams', 'bangalore', 20000.0),\n",
       " (108, 'jho', 'Kolkata', 50000.0),\n",
       " (109, 'Ricd', 'Durgapur', 45000.0),\n",
       " (112, 'jho', 'Kolkata', 50000.0),\n",
       " (1113, 'Ricd', 'Durgapur', 45000.0),\n",
       " (113, 'jhoN', 'Kolkata', 50000.0),\n",
       " (114, 'RiCHIE', 'Durgapur', 45000.0),\n",
       " (116, 'kesto', 'Kolkata', 50000.0)]"
      ]
     },
     "execution_count": 71,
     "metadata": {},
     "output_type": "execute_result"
    }
   ],
   "source": [
    "result=cur.execute('select * from employee where salary<=50000.0')\n",
    "result.fetchall()"
   ]
  },
  {
   "cell_type": "code",
   "execution_count": 70,
   "id": "d780bcc5",
   "metadata": {},
   "outputs": [
    {
     "data": {
      "text/plain": [
       "[(101, 'jhon', 'Kolkata', 50000.0),\n",
       " (105, 'jonyshingh', 'usa', 100000.0),\n",
       " (106, 'jash', 'pune', 60000.0),\n",
       " (107, 'joli', 'chennai', 70000.0),\n",
       " (108, 'jho', 'Kolkata', 50000.0),\n",
       " (110, 'keshab', 'london', 80000.0),\n",
       " (111, 'kish', 'france', 60000.0),\n",
       " (112, 'jho', 'Kolkata', 50000.0),\n",
       " (113, 'jhoN', 'Kolkata', 50000.0),\n",
       " (115, 'keshab', 'london', 80000.0),\n",
       " (116, 'kesto', 'Kolkata', 50000.0)]"
      ]
     },
     "execution_count": 70,
     "metadata": {},
     "output_type": "execute_result"
    }
   ],
   "source": [
    "result=cur.execute('select * from employee where salary>=50000.0')\n",
    "result.fetchall()"
   ]
  },
  {
   "cell_type": "code",
   "execution_count": 75,
   "id": "2e5b7d25",
   "metadata": {},
   "outputs": [
    {
     "data": {
      "text/plain": [
       "[(102, 'Richard', 'Durgapur', 45000.0),\n",
       " (109, 'Ricd', 'Durgapur', 45000.0),\n",
       " (1113, 'Ricd', 'Durgapur', 45000.0),\n",
       " (114, 'RiCHIE', 'Durgapur', 45000.0),\n",
       " (101, 'jhon', 'Kolkata', 50000.0),\n",
       " (108, 'jho', 'Kolkata', 50000.0),\n",
       " (112, 'jho', 'Kolkata', 50000.0),\n",
       " (113, 'jhoN', 'Kolkata', 50000.0),\n",
       " (116, 'kesto', 'Kolkata', 50000.0),\n",
       " (103, 'David', 'Mumbai', 40000.0),\n",
       " (104, 'jeams', 'bangalore', 20000.0),\n",
       " (107, 'joli', 'chennai', 70000.0),\n",
       " (111, 'kish', 'france', 60000.0),\n",
       " (110, 'keshab', 'london', 80000.0),\n",
       " (115, 'keshab', 'london', 80000.0),\n",
       " (106, 'jash', 'pune', 60000.0),\n",
       " (105, 'jonyshingh', 'usa', 100000.0)]"
      ]
     },
     "execution_count": 75,
     "metadata": {},
     "output_type": "execute_result"
    }
   ],
   "source": [
    "result=cur.execute('select * from employee order by branch asc')\n",
    "result.fetchall()"
   ]
  },
  {
   "cell_type": "code",
   "execution_count": 76,
   "id": "ebacbd0a",
   "metadata": {},
   "outputs": [
    {
     "data": {
      "text/plain": [
       "[(103, 'David', 'Mumbai', 40000.0),\n",
       " (114, 'RiCHIE', 'Durgapur', 45000.0),\n",
       " (109, 'Ricd', 'Durgapur', 45000.0),\n",
       " (1113, 'Ricd', 'Durgapur', 45000.0),\n",
       " (102, 'Richard', 'Durgapur', 45000.0),\n",
       " (106, 'jash', 'pune', 60000.0),\n",
       " (104, 'jeams', 'bangalore', 20000.0),\n",
       " (108, 'jho', 'Kolkata', 50000.0),\n",
       " (112, 'jho', 'Kolkata', 50000.0),\n",
       " (113, 'jhoN', 'Kolkata', 50000.0),\n",
       " (101, 'jhon', 'Kolkata', 50000.0),\n",
       " (107, 'joli', 'chennai', 70000.0),\n",
       " (105, 'jonyshingh', 'usa', 100000.0),\n",
       " (110, 'keshab', 'london', 80000.0),\n",
       " (115, 'keshab', 'london', 80000.0),\n",
       " (116, 'kesto', 'Kolkata', 50000.0),\n",
       " (111, 'kish', 'france', 60000.0)]"
      ]
     },
     "execution_count": 76,
     "metadata": {},
     "output_type": "execute_result"
    }
   ],
   "source": [
    "result=cur.execute('select * from employee order by name asc')\n",
    "result.fetchall()"
   ]
  },
  {
   "cell_type": "code",
   "execution_count": 78,
   "id": "b9b2d9d9",
   "metadata": {},
   "outputs": [
    {
     "data": {
      "text/plain": [
       "[(111, 'kish', 'france', 60000.0),\n",
       " (116, 'kesto', 'Kolkata', 50000.0),\n",
       " (110, 'keshab', 'london', 80000.0),\n",
       " (115, 'keshab', 'london', 80000.0),\n",
       " (105, 'jonyshingh', 'usa', 100000.0),\n",
       " (107, 'joli', 'chennai', 70000.0),\n",
       " (101, 'jhon', 'Kolkata', 50000.0),\n",
       " (113, 'jhoN', 'Kolkata', 50000.0),\n",
       " (108, 'jho', 'Kolkata', 50000.0),\n",
       " (112, 'jho', 'Kolkata', 50000.0),\n",
       " (104, 'jeams', 'bangalore', 20000.0),\n",
       " (106, 'jash', 'pune', 60000.0),\n",
       " (102, 'Richard', 'Durgapur', 45000.0),\n",
       " (109, 'Ricd', 'Durgapur', 45000.0),\n",
       " (1113, 'Ricd', 'Durgapur', 45000.0),\n",
       " (114, 'RiCHIE', 'Durgapur', 45000.0),\n",
       " (103, 'David', 'Mumbai', 40000.0)]"
      ]
     },
     "execution_count": 78,
     "metadata": {},
     "output_type": "execute_result"
    }
   ],
   "source": [
    "result=cur.execute('select * from employee order by name desc')\n",
    "result.fetchall()"
   ]
  },
  {
   "cell_type": "code",
   "execution_count": 79,
   "id": "95a78567",
   "metadata": {
    "scrolled": true
   },
   "outputs": [
    {
     "data": {
      "text/plain": [
       "[(105, 'jonyshingh', 'usa', 100000.0),\n",
       " (110, 'keshab', 'london', 80000.0),\n",
       " (115, 'keshab', 'london', 80000.0),\n",
       " (107, 'joli', 'chennai', 70000.0),\n",
       " (106, 'jash', 'pune', 60000.0),\n",
       " (111, 'kish', 'france', 60000.0),\n",
       " (101, 'jhon', 'Kolkata', 50000.0),\n",
       " (108, 'jho', 'Kolkata', 50000.0),\n",
       " (112, 'jho', 'Kolkata', 50000.0),\n",
       " (113, 'jhoN', 'Kolkata', 50000.0),\n",
       " (116, 'kesto', 'Kolkata', 50000.0),\n",
       " (102, 'Richard', 'Durgapur', 45000.0),\n",
       " (109, 'Ricd', 'Durgapur', 45000.0),\n",
       " (1113, 'Ricd', 'Durgapur', 45000.0),\n",
       " (114, 'RiCHIE', 'Durgapur', 45000.0),\n",
       " (103, 'David', 'Mumbai', 40000.0),\n",
       " (104, 'jeams', 'bangalore', 20000.0)]"
      ]
     },
     "execution_count": 79,
     "metadata": {},
     "output_type": "execute_result"
    }
   ],
   "source": [
    "result=cur.execute('select * from employee order by salary desc')\n",
    "result.fetchall()"
   ]
  },
  {
   "cell_type": "markdown",
   "id": "a3073f4b",
   "metadata": {},
   "source": [
    "AND OPERATOR"
   ]
  },
  {
   "cell_type": "code",
   "execution_count": 80,
   "id": "b9713947",
   "metadata": {},
   "outputs": [
    {
     "data": {
      "text/plain": [
       "[(113, 'jhoN', 'Kolkata', 50000.0)]"
      ]
     },
     "execution_count": 80,
     "metadata": {},
     "output_type": "execute_result"
    }
   ],
   "source": [
    "result=cur.execute('select * from employee where name=\"jhoN\" and salary=50000.0')\n",
    "result.fetchall()"
   ]
  },
  {
   "cell_type": "markdown",
   "id": "2f308ae6",
   "metadata": {},
   "source": [
    "OR OPERATOR"
   ]
  },
  {
   "cell_type": "code",
   "execution_count": 89,
   "id": "52787ded",
   "metadata": {},
   "outputs": [
    {
     "data": {
      "text/plain": [
       "[(110, 'keshab', 'london', 80000.0),\n",
       " (113, 'jhoN', 'Kolkata', 50000.0),\n",
       " (115, 'keshab', 'london', 80000.0)]"
      ]
     },
     "execution_count": 89,
     "metadata": {},
     "output_type": "execute_result"
    }
   ],
   "source": [
    "result=cur.execute('select * from employee where name=\"jhoN\" or salary=80000.0')\n",
    "result.fetchall()"
   ]
  },
  {
   "cell_type": "code",
   "execution_count": 90,
   "id": "8a08d34a",
   "metadata": {
    "scrolled": true
   },
   "outputs": [
    {
     "data": {
      "text/plain": [
       "[(102, 'Richard', 'Durgapur', 45000.0),\n",
       " (109, 'Ricd', 'Durgapur', 45000.0),\n",
       " (110, 'keshab', 'london', 80000.0),\n",
       " (1113, 'Ricd', 'Durgapur', 45000.0),\n",
       " (114, 'RiCHIE', 'Durgapur', 45000.0),\n",
       " (115, 'keshab', 'london', 80000.0)]"
      ]
     },
     "execution_count": 90,
     "metadata": {},
     "output_type": "execute_result"
    }
   ],
   "source": [
    "result=cur.execute('select * from employee where branch=\"Durgapur\" or salary=80000.0')\n",
    "result.fetchall()"
   ]
  },
  {
   "cell_type": "markdown",
   "id": "061d8c55",
   "metadata": {},
   "source": [
    "AGGREGATE FUNCTIONS\n",
    "\n",
    "MIN -Find Minimum\n",
    "\n",
    "MAX -Find Maximum\n",
    "\n",
    "SUM -Find Sum\n",
    "\n",
    "AVG -Find Avarage\n",
    "\n",
    "COUNT- Count Number of rows"
   ]
  },
  {
   "cell_type": "code",
   "execution_count": 91,
   "id": "98a037fa",
   "metadata": {},
   "outputs": [
    {
     "data": {
      "text/plain": [
       "[(20000.0,)]"
      ]
     },
     "execution_count": 91,
     "metadata": {},
     "output_type": "execute_result"
    }
   ],
   "source": [
    "result=cur.execute('select min(salary) from employee')\n",
    "result.fetchall()"
   ]
  },
  {
   "cell_type": "code",
   "execution_count": 92,
   "id": "3ebb982e",
   "metadata": {},
   "outputs": [
    {
     "data": {
      "text/plain": [
       "[(100000.0,)]"
      ]
     },
     "execution_count": 92,
     "metadata": {},
     "output_type": "execute_result"
    }
   ],
   "source": [
    "result=cur.execute('select max(salary) from employee')\n",
    "result.fetchall()"
   ]
  },
  {
   "cell_type": "code",
   "execution_count": 93,
   "id": "22a3f346",
   "metadata": {},
   "outputs": [
    {
     "data": {
      "text/plain": [
       "[(55294.117647058825,)]"
      ]
     },
     "execution_count": 93,
     "metadata": {},
     "output_type": "execute_result"
    }
   ],
   "source": [
    "result=cur.execute('select avg(salary) from employee')\n",
    "result.fetchall()"
   ]
  },
  {
   "cell_type": "code",
   "execution_count": 94,
   "id": "cd2f9b61",
   "metadata": {},
   "outputs": [
    {
     "data": {
      "text/plain": [
       "[(940000.0,)]"
      ]
     },
     "execution_count": 94,
     "metadata": {},
     "output_type": "execute_result"
    }
   ],
   "source": [
    "result=cur.execute('select sum(salary) from employee')\n",
    "result.fetchall()"
   ]
  },
  {
   "cell_type": "code",
   "execution_count": 96,
   "id": "5332b571",
   "metadata": {},
   "outputs": [
    {
     "data": {
      "text/plain": [
       "[(17,)]"
      ]
     },
     "execution_count": 96,
     "metadata": {},
     "output_type": "execute_result"
    }
   ],
   "source": [
    "result=cur.execute('select count(empcode) from employee')\n",
    "result.fetchall()"
   ]
  },
  {
   "cell_type": "code",
   "execution_count": 97,
   "id": "4faf5d1d",
   "metadata": {},
   "outputs": [
    {
     "data": {
      "text/plain": [
       "[(1113,)]"
      ]
     },
     "execution_count": 97,
     "metadata": {},
     "output_type": "execute_result"
    }
   ],
   "source": [
    "result=cur.execute('select max(empcode) from employee')\n",
    "result.fetchall()"
   ]
  },
  {
   "cell_type": "code",
   "execution_count": 100,
   "id": "6f385a40",
   "metadata": {},
   "outputs": [
    {
     "data": {
      "text/plain": [
       "[]"
      ]
     },
     "execution_count": 100,
     "metadata": {},
     "output_type": "execute_result"
    }
   ],
   "source": [
    "result=cur.execute('select * from employee where salary is null')\n",
    "result.fetchall()"
   ]
  },
  {
   "cell_type": "code",
   "execution_count": 102,
   "id": "c553de54",
   "metadata": {},
   "outputs": [
    {
     "data": {
      "text/plain": [
       "[(101, 'jhon', 'Kolkata', 50000.0),\n",
       " (102, 'Richard', 'Durgapur', 45000.0),\n",
       " (103, 'David', 'Mumbai', 40000.0),\n",
       " (104, 'jeams', 'bangalore', 20000.0),\n",
       " (105, 'jonyshingh', 'usa', 100000.0),\n",
       " (106, 'jash', 'pune', 60000.0),\n",
       " (107, 'joli', 'chennai', 70000.0),\n",
       " (108, 'jho', 'Kolkata', 50000.0),\n",
       " (109, 'Ricd', 'Durgapur', 45000.0),\n",
       " (110, 'keshab', 'london', 80000.0),\n",
       " (111, 'kish', 'france', 60000.0),\n",
       " (112, 'jho', 'Kolkata', 50000.0),\n",
       " (1113, 'Ricd', 'Durgapur', 45000.0),\n",
       " (113, 'jhoN', 'Kolkata', 50000.0),\n",
       " (114, 'RiCHIE', 'Durgapur', 45000.0),\n",
       " (115, 'keshab', 'london', 80000.0),\n",
       " (116, 'kesto', 'Kolkata', 50000.0)]"
      ]
     },
     "execution_count": 102,
     "metadata": {},
     "output_type": "execute_result"
    }
   ],
   "source": [
    "result=cur.execute('select * from employee where salary is not null')\n",
    "result.fetchall()"
   ]
  },
  {
   "cell_type": "markdown",
   "id": "1a93eba9",
   "metadata": {},
   "source": [
    "LIKE OPERATOR"
   ]
  },
  {
   "cell_type": "code",
   "execution_count": 104,
   "id": "e45ff1a3",
   "metadata": {
    "scrolled": true
   },
   "outputs": [
    {
     "data": {
      "text/plain": [
       "[(101, 'jhon', 'Kolkata', 50000.0),\n",
       " (104, 'jeams', 'bangalore', 20000.0),\n",
       " (105, 'jonyshingh', 'usa', 100000.0),\n",
       " (106, 'jash', 'pune', 60000.0),\n",
       " (107, 'joli', 'chennai', 70000.0),\n",
       " (108, 'jho', 'Kolkata', 50000.0),\n",
       " (112, 'jho', 'Kolkata', 50000.0),\n",
       " (113, 'jhoN', 'Kolkata', 50000.0)]"
      ]
     },
     "execution_count": 104,
     "metadata": {},
     "output_type": "execute_result"
    }
   ],
   "source": [
    "result=cur.execute('select * from employee where name like \"j%\" ')\n",
    "result.fetchall()"
   ]
  },
  {
   "cell_type": "code",
   "execution_count": 105,
   "id": "3b70877c",
   "metadata": {},
   "outputs": [
    {
     "data": {
      "text/plain": [
       "[(102, 'Richard', 'Durgapur', 45000.0),\n",
       " (103, 'David', 'Mumbai', 40000.0),\n",
       " (104, 'jeams', 'bangalore', 20000.0),\n",
       " (106, 'jash', 'pune', 60000.0),\n",
       " (110, 'keshab', 'london', 80000.0),\n",
       " (115, 'keshab', 'london', 80000.0)]"
      ]
     },
     "execution_count": 105,
     "metadata": {},
     "output_type": "execute_result"
    }
   ],
   "source": [
    "result=cur.execute('select * from employee where name like \"%a%\" ')\n",
    "result.fetchall()"
   ]
  },
  {
   "cell_type": "code",
   "execution_count": 106,
   "id": "1f568bae",
   "metadata": {},
   "outputs": [
    {
     "data": {
      "text/plain": [
       "[(103, 'David', 'Mumbai', 40000.0),\n",
       " (104, 'jeams', 'bangalore', 20000.0),\n",
       " (116, 'kesto', 'Kolkata', 50000.0)]"
      ]
     },
     "execution_count": 106,
     "metadata": {},
     "output_type": "execute_result"
    }
   ],
   "source": [
    "result=cur.execute('select * from employee where name like \"_____\" ')\n",
    "result.fetchall()"
   ]
  },
  {
   "cell_type": "code",
   "execution_count": 110,
   "id": "4b832772",
   "metadata": {},
   "outputs": [
    {
     "data": {
      "text/plain": [
       "[(104, 'jeams', 'bangalore', 20000.0)]"
      ]
     },
     "execution_count": 110,
     "metadata": {},
     "output_type": "execute_result"
    }
   ],
   "source": [
    "result=cur.execute('select * from employee where name like \"j____\" ')\n",
    "result.fetchall()"
   ]
  },
  {
   "cell_type": "code",
   "execution_count": 116,
   "id": "0e7a060b",
   "metadata": {},
   "outputs": [
    {
     "data": {
      "text/plain": [
       "[(101, 'jhon', 'Kolkata', 50000.0),\n",
       " (106, 'jash', 'pune', 60000.0),\n",
       " (107, 'joli', 'chennai', 70000.0),\n",
       " (113, 'jhoN', 'Kolkata', 50000.0)]"
      ]
     },
     "execution_count": 116,
     "metadata": {},
     "output_type": "execute_result"
    }
   ],
   "source": [
    "result=cur.execute('select * from employee where name like \"j___\" ')\n",
    "result.fetchall()"
   ]
  },
  {
   "cell_type": "code",
   "execution_count": 118,
   "id": "cb4bff27",
   "metadata": {},
   "outputs": [
    {
     "data": {
      "text/plain": [
       "[(104, 'jeams', 'bangalore', 20000.0)]"
      ]
     },
     "execution_count": 118,
     "metadata": {},
     "output_type": "execute_result"
    }
   ],
   "source": [
    "result=cur.execute('select * from employee where name like \"__a%\" ')\n",
    "result.fetchall()"
   ]
  },
  {
   "cell_type": "code",
   "execution_count": 121,
   "id": "555ae6ac",
   "metadata": {},
   "outputs": [
    {
     "data": {
      "text/plain": [
       "[(105, 'jonyshingh', 'usa', 100000.0), (107, 'joli', 'chennai', 70000.0)]"
      ]
     },
     "execution_count": 121,
     "metadata": {},
     "output_type": "execute_result"
    }
   ],
   "source": [
    "result=cur.execute('select * from employee where name like \"_o%\" ')\n",
    "result.fetchall()"
   ]
  },
  {
   "cell_type": "markdown",
   "id": "553b11df",
   "metadata": {},
   "source": [
    "IN OPERATOR"
   ]
  },
  {
   "cell_type": "code",
   "execution_count": 153,
   "id": "8c355a1e",
   "metadata": {},
   "outputs": [
    {
     "data": {
      "text/plain": [
       "[(102, 'Richard', 'Durgapur', 45000.0),\n",
       " (103, 'David', 'Mumbai', 40000.0),\n",
       " (104, 'jeams', 'bangalore', 20000.0),\n",
       " (105, 'jonyshingh', 'usa', 540000.0),\n",
       " (106, 'jash', 'pune', 540000.0),\n",
       " (107, 'joli', 'chennai', 70000.0),\n",
       " (109, 'Ricd', 'Durgapur', 45000.0),\n",
       " (110, 'keshab', 'london', 540000.0),\n",
       " (111, 'kish', 'france', 60000.0),\n",
       " (1113, 'Ricd', 'Durgapur', 45000.0),\n",
       " (113, 'jhoN', 'Kolkata', 540000.0),\n",
       " (114, 'RiCHIE', 'Durgapur', 45000.0),\n",
       " (115, 'keshab', 'london', 80000.0),\n",
       " (116, 'kesto', 'Kolkata', 540000.0)]"
      ]
     },
     "execution_count": 153,
     "metadata": {},
     "output_type": "execute_result"
    }
   ],
   "source": [
    "result=cur.execute('select * from employee where salary not in (50000)')\n",
    "result.fetchall()"
   ]
  },
  {
   "cell_type": "code",
   "execution_count": 129,
   "id": "240aca5c",
   "metadata": {},
   "outputs": [
    {
     "data": {
      "text/plain": [
       "[(102, 'Richard', 'Durgapur', 45000.0),\n",
       " (104, 'jeams', 'bangalore', 20000.0),\n",
       " (105, 'jonyshingh', 'usa', 100000.0),\n",
       " (106, 'jash', 'pune', 60000.0),\n",
       " (107, 'joli', 'chennai', 70000.0),\n",
       " (108, 'jho', 'Kolkata', 50000.0),\n",
       " (109, 'Ricd', 'Durgapur', 45000.0),\n",
       " (110, 'keshab', 'london', 80000.0),\n",
       " (111, 'kish', 'france', 60000.0),\n",
       " (112, 'jho', 'Kolkata', 50000.0),\n",
       " (1113, 'Ricd', 'Durgapur', 45000.0),\n",
       " (113, 'jhoN', 'Kolkata', 50000.0),\n",
       " (114, 'RiCHIE', 'Durgapur', 45000.0),\n",
       " (115, 'keshab', 'london', 80000.0),\n",
       " (116, 'kesto', 'Kolkata', 50000.0)]"
      ]
     },
     "execution_count": 129,
     "metadata": {},
     "output_type": "execute_result"
    }
   ],
   "source": [
    "result=cur.execute('select * from employee where name not in (\"jhon\",\"David\")')\n",
    "result.fetchall()"
   ]
  },
  {
   "cell_type": "code",
   "execution_count": 157,
   "id": "1df35826",
   "metadata": {},
   "outputs": [
    {
     "data": {
      "text/plain": [
       "[(101, 'jhon', 'Kolkata', 50000.0),\n",
       " (108, 'jho', 'Kolkata', 50000.0),\n",
       " (112, 'jho', 'Kolkata', 50000.0)]"
      ]
     },
     "execution_count": 157,
     "metadata": {},
     "output_type": "execute_result"
    }
   ],
   "source": [
    "result=cur.execute('select * from employee where salary in (50000)')\n",
    "result.fetchall()"
   ]
  },
  {
   "cell_type": "markdown",
   "id": "65bb3956",
   "metadata": {},
   "source": [
    "UPDATE RECORD"
   ]
  },
  {
   "cell_type": "code",
   "execution_count": 159,
   "id": "7ae202f3",
   "metadata": {},
   "outputs": [],
   "source": [
    "sql=\"update employee set salary=(780000)where empcode=110\"\n",
    "cur.execute(sql)\n",
    "db.commit()"
   ]
  },
  {
   "cell_type": "code",
   "execution_count": 160,
   "id": "abd04751",
   "metadata": {},
   "outputs": [
    {
     "name": "stdout",
     "output_type": "stream",
     "text": [
      "(101, 'jhon', 'Kolkata', 50000.0)\n",
      "(102, 'Richard', 'Durgapur', 45000.0)\n",
      "(103, 'David', 'Mumbai', 40000.0)\n",
      "(104, 'jeams', 'bangalore', 20000.0)\n",
      "(105, 'jonyshingh', 'usa', 540000.0)\n",
      "(106, 'jash', 'pune', 540000.0)\n",
      "(107, 'joli', 'chennai', 70000.0)\n",
      "(108, 'jho', 'Kolkata', 50000.0)\n",
      "(109, 'Ricd', 'Durgapur', 45000.0)\n",
      "(110, 'keshab', 'london', 780000.0)\n",
      "(111, 'kish', 'france', 60000.0)\n",
      "(112, 'jho', 'Kolkata', 50000.0)\n",
      "(1113, 'Ricd', 'Durgapur', 45000.0)\n",
      "(113, 'jhoN', 'Kolkata', 540000.0)\n",
      "(114, 'RiCHIE', 'Durgapur', 45000.0)\n",
      "(115, 'keshab', 'london', 80000.0)\n",
      "(116, 'kesto', 'Kolkata', 540000.0)\n"
     ]
    }
   ],
   "source": [
    "result=cur.execute(\"select * from employee\")\n",
    "for res in result:\n",
    "    print(res)"
   ]
  },
  {
   "cell_type": "markdown",
   "id": "2b9be7a7",
   "metadata": {},
   "source": [
    "UPDATED MULTIPLE RECORD"
   ]
  },
  {
   "cell_type": "code",
   "execution_count": 150,
   "id": "2b40d51d",
   "metadata": {},
   "outputs": [],
   "source": [
    "sql=\"update employee set salary=(540000)where empcode in(110,116,113)\"\n",
    "cur.execute(sql)\n",
    "db.commit()"
   ]
  },
  {
   "cell_type": "code",
   "execution_count": 161,
   "id": "75fd1d09",
   "metadata": {},
   "outputs": [],
   "source": [
    "cur.execute(\"update employee set salary=(690000)where empcode in(115,103,108)\")\n",
    "db.commit()"
   ]
  },
  {
   "cell_type": "code",
   "execution_count": 162,
   "id": "febb7e99",
   "metadata": {},
   "outputs": [
    {
     "name": "stdout",
     "output_type": "stream",
     "text": [
      "(101, 'jhon', 'Kolkata', 50000.0)\n",
      "(102, 'Richard', 'Durgapur', 45000.0)\n",
      "(103, 'David', 'Mumbai', 690000.0)\n",
      "(104, 'jeams', 'bangalore', 20000.0)\n",
      "(105, 'jonyshingh', 'usa', 540000.0)\n",
      "(106, 'jash', 'pune', 540000.0)\n",
      "(107, 'joli', 'chennai', 70000.0)\n",
      "(108, 'jho', 'Kolkata', 690000.0)\n",
      "(109, 'Ricd', 'Durgapur', 45000.0)\n",
      "(110, 'keshab', 'london', 780000.0)\n",
      "(111, 'kish', 'france', 60000.0)\n",
      "(112, 'jho', 'Kolkata', 50000.0)\n",
      "(1113, 'Ricd', 'Durgapur', 45000.0)\n",
      "(113, 'jhoN', 'Kolkata', 540000.0)\n",
      "(114, 'RiCHIE', 'Durgapur', 45000.0)\n",
      "(115, 'keshab', 'london', 690000.0)\n",
      "(116, 'kesto', 'Kolkata', 540000.0)\n"
     ]
    }
   ],
   "source": [
    "result=cur.execute(\"select * from employee\")\n",
    "for res in result:\n",
    "    print(res)"
   ]
  },
  {
   "cell_type": "markdown",
   "id": "160b1a7e",
   "metadata": {},
   "source": [
    "Delete Method"
   ]
  },
  {
   "cell_type": "code",
   "execution_count": 163,
   "id": "a7af1128",
   "metadata": {},
   "outputs": [],
   "source": [
    "cur.execute(\"delete from employee where salary=20000\")\n",
    "db.commit()"
   ]
  },
  {
   "cell_type": "code",
   "execution_count": 183,
   "id": "02e3dd4e",
   "metadata": {},
   "outputs": [
    {
     "name": "stdout",
     "output_type": "stream",
     "text": [
      "(101, 'jhon', 'Kolkata', 50000.0)\n",
      "(102, 'Richard', 'Durgapur', 45000.0)\n",
      "(103, 'David', 'Mumbai', 40000.0)\n",
      "(104, 'jeams', 'bangalore', 20000.0)\n",
      "(105, 'jonyshingh', 'usa', 100000.0)\n",
      "(106, 'jash', 'pune', 60000.0)\n",
      "(107, 'joli', 'chennai', 70000.0)\n"
     ]
    }
   ],
   "source": [
    "result=cur.execute(\"select * from employee\")\n",
    "for res in result:\n",
    "    print(res)"
   ]
  },
  {
   "cell_type": "code",
   "execution_count": 165,
   "id": "1eac0aa7",
   "metadata": {},
   "outputs": [],
   "source": [
    "cur.execute(\"delete from employee where empcode in(115,103,108)\")\n",
    "db.commit()"
   ]
  },
  {
   "cell_type": "code",
   "execution_count": 170,
   "id": "136e58e8",
   "metadata": {},
   "outputs": [],
   "source": [
    "cur.execute('delete from employee where name like \"R%\"')\n",
    "db.commit()"
   ]
  },
  {
   "cell_type": "code",
   "execution_count": 171,
   "id": "a99115e7",
   "metadata": {},
   "outputs": [
    {
     "name": "stdout",
     "output_type": "stream",
     "text": [
      "(101, 'jhon', 'Kolkata', 50000.0)\n",
      "(105, 'jonyshingh', 'usa', 540000.0)\n",
      "(106, 'jash', 'pune', 540000.0)\n",
      "(107, 'joli', 'chennai', 70000.0)\n",
      "(110, 'keshab', 'london', 780000.0)\n",
      "(111, 'kish', 'france', 60000.0)\n",
      "(112, 'jho', 'Kolkata', 50000.0)\n",
      "(113, 'jhoN', 'Kolkata', 540000.0)\n",
      "(116, 'kesto', 'Kolkata', 540000.0)\n"
     ]
    }
   ],
   "source": [
    "result=cur.execute(\"select * from employee\")\n",
    "for res in result:\n",
    "    print(res)"
   ]
  },
  {
   "cell_type": "markdown",
   "id": "1754bd82",
   "metadata": {},
   "source": [
    "DROP FUNCTION"
   ]
  },
  {
   "cell_type": "code",
   "execution_count": 194,
   "id": "414b4882",
   "metadata": {},
   "outputs": [
    {
     "data": {
      "text/plain": [
       "<sqlite3.Cursor at 0x18a8449e9d0>"
      ]
     },
     "execution_count": 194,
     "metadata": {},
     "output_type": "execute_result"
    }
   ],
   "source": [
    "cur.execute('drop table employee')"
   ]
  },
  {
   "cell_type": "code",
   "execution_count": 195,
   "id": "8caeb39b",
   "metadata": {},
   "outputs": [
    {
     "ename": "OperationalError",
     "evalue": "no such table: employee",
     "output_type": "error",
     "traceback": [
      "\u001b[1;31m---------------------------------------------------------------------------\u001b[0m",
      "\u001b[1;31mOperationalError\u001b[0m                          Traceback (most recent call last)",
      "\u001b[1;32mC:\\Users\\SHREYA~1\\AppData\\Local\\Temp/ipykernel_7520/897377150.py\u001b[0m in \u001b[0;36m<module>\u001b[1;34m\u001b[0m\n\u001b[1;32m----> 1\u001b[1;33m \u001b[0mresult\u001b[0m\u001b[1;33m=\u001b[0m\u001b[0mcur\u001b[0m\u001b[1;33m.\u001b[0m\u001b[0mexecute\u001b[0m\u001b[1;33m(\u001b[0m\u001b[1;34m\"select * from employee\"\u001b[0m\u001b[1;33m)\u001b[0m\u001b[1;33m\u001b[0m\u001b[1;33m\u001b[0m\u001b[0m\n\u001b[0m\u001b[0;32m      2\u001b[0m \u001b[0mprint\u001b[0m\u001b[1;33m(\u001b[0m\u001b[0mres\u001b[0m\u001b[1;33m)\u001b[0m\u001b[1;33m\u001b[0m\u001b[1;33m\u001b[0m\u001b[0m\n",
      "\u001b[1;31mOperationalError\u001b[0m: no such table: employee"
     ]
    }
   ],
   "source": [
    "result=cur.execute(\"select * from employee\")\n",
    "print(res)"
   ]
  },
  {
   "cell_type": "code",
   "execution_count": null,
   "id": "1596cebe",
   "metadata": {},
   "outputs": [],
   "source": []
  },
  {
   "cell_type": "code",
   "execution_count": null,
   "id": "916254d0",
   "metadata": {},
   "outputs": [],
   "source": []
  },
  {
   "cell_type": "code",
   "execution_count": null,
   "id": "6fb39423",
   "metadata": {},
   "outputs": [],
   "source": []
  },
  {
   "cell_type": "code",
   "execution_count": null,
   "id": "43149090",
   "metadata": {},
   "outputs": [],
   "source": []
  },
  {
   "cell_type": "code",
   "execution_count": null,
   "id": "b4c8947d",
   "metadata": {},
   "outputs": [],
   "source": []
  },
  {
   "cell_type": "code",
   "execution_count": null,
   "id": "0d9982ae",
   "metadata": {},
   "outputs": [],
   "source": []
  }
 ],
 "metadata": {
  "kernelspec": {
   "display_name": "Python 3 (ipykernel)",
   "language": "python",
   "name": "python3"
  },
  "language_info": {
   "codemirror_mode": {
    "name": "ipython",
    "version": 3
   },
   "file_extension": ".py",
   "mimetype": "text/x-python",
   "name": "python",
   "nbconvert_exporter": "python",
   "pygments_lexer": "ipython3",
   "version": "3.9.7"
  }
 },
 "nbformat": 4,
 "nbformat_minor": 5
}
