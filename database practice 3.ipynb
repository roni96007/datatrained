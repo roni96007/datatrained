{
 "cells": [
  {
   "cell_type": "code",
   "execution_count": 3,
   "id": "563dc51e",
   "metadata": {},
   "outputs": [],
   "source": [
    "import sqlite3 "
   ]
  },
  {
   "cell_type": "code",
   "execution_count": 4,
   "id": "f144b82c",
   "metadata": {},
   "outputs": [],
   "source": [
    "db=sqlite3.connect(\"E:/mysqlite/new_employee.db\")"
   ]
  },
  {
   "cell_type": "code",
   "execution_count": 5,
   "id": "4ef0eeb6",
   "metadata": {},
   "outputs": [],
   "source": [
    "cur=db.cursor()"
   ]
  },
  {
   "cell_type": "code",
   "execution_count": 4,
   "id": "759d627a",
   "metadata": {},
   "outputs": [
    {
     "ename": "OperationalError",
     "evalue": "table new_employee already exists",
     "output_type": "error",
     "traceback": [
      "\u001b[1;31m---------------------------------------------------------------------------\u001b[0m",
      "\u001b[1;31mOperationalError\u001b[0m                          Traceback (most recent call last)",
      "\u001b[1;32mC:\\Users\\SHREYA~1\\AppData\\Local\\Temp/ipykernel_5216/3739907850.py\u001b[0m in \u001b[0;36m<module>\u001b[1;34m\u001b[0m\n\u001b[1;32m----> 1\u001b[1;33m \u001b[0mcur\u001b[0m\u001b[1;33m.\u001b[0m\u001b[0mexecute\u001b[0m\u001b[1;33m(\u001b[0m\u001b[1;34m'create table new_employee(empcode int primary key,name text,marks int)'\u001b[0m\u001b[1;33m)\u001b[0m\u001b[1;33m\u001b[0m\u001b[1;33m\u001b[0m\u001b[0m\n\u001b[0m\u001b[0;32m      2\u001b[0m \u001b[0mdb\u001b[0m\u001b[1;33m.\u001b[0m\u001b[0mcommit\u001b[0m\u001b[1;33m(\u001b[0m\u001b[1;33m)\u001b[0m\u001b[1;33m\u001b[0m\u001b[1;33m\u001b[0m\u001b[0m\n",
      "\u001b[1;31mOperationalError\u001b[0m: table new_employee already exists"
     ]
    }
   ],
   "source": [
    "cur.execute('create table new_employee(empcode int primary key,name text,marks int)')\n",
    "db.commit()"
   ]
  },
  {
   "cell_type": "markdown",
   "id": "c4f59fee",
   "metadata": {},
   "source": [
    "INSERTING RECORDS FROM CSV FILE"
   ]
  },
  {
   "cell_type": "code",
   "execution_count": null,
   "id": "30bf22ed",
   "metadata": {},
   "outputs": [],
   "source": [
    "with open('E:/mysqlite/newemployee.csv','r') as file:\n",
    "    total_records=0\n",
    "    for row in file:\n",
    "        cur.execute('insert into new_employee values (?,?,?)',row.split(\",\"))\n",
    "        db.commit()\n",
    "        total_records+=1\n",
    "print(total_records, \"Rows Insert\")"
   ]
  },
  {
   "cell_type": "code",
   "execution_count": null,
   "id": "7fba1c43",
   "metadata": {},
   "outputs": [],
   "source": [
    "result=cur.execute('select * from new_employee')\n",
    "result.fetchall()"
   ]
  },
  {
   "cell_type": "code",
   "execution_count": 17,
   "id": "702c8966",
   "metadata": {},
   "outputs": [],
   "source": [
    "import sqlite3 "
   ]
  },
  {
   "cell_type": "code",
   "execution_count": 18,
   "id": "6fd68ab7",
   "metadata": {},
   "outputs": [],
   "source": [
    "db=sqlite3.connect(\"E:/mysqlite/sports.db\")"
   ]
  },
  {
   "cell_type": "code",
   "execution_count": 19,
   "id": "a6ddc92c",
   "metadata": {},
   "outputs": [],
   "source": [
    "cur=db.cursor()"
   ]
  },
  {
   "cell_type": "code",
   "execution_count": 11,
   "id": "652e733f",
   "metadata": {},
   "outputs": [
    {
     "ename": "OperationalError",
     "evalue": "table sports already exists",
     "output_type": "error",
     "traceback": [
      "\u001b[1;31m---------------------------------------------------------------------------\u001b[0m",
      "\u001b[1;31mOperationalError\u001b[0m                          Traceback (most recent call last)",
      "\u001b[1;32mC:\\Users\\SHREYA~1\\AppData\\Local\\Temp/ipykernel_3812/4275090126.py\u001b[0m in \u001b[0;36m<module>\u001b[1;34m\u001b[0m\n\u001b[1;32m----> 1\u001b[1;33m \u001b[0mcur\u001b[0m\u001b[1;33m.\u001b[0m\u001b[0mexecute\u001b[0m\u001b[1;33m(\u001b[0m\u001b[1;34m'create table sports (sportsid int primary key,Sportname text unique, dateofevent date,country text not null)'\u001b[0m\u001b[1;33m)\u001b[0m\u001b[1;33m\u001b[0m\u001b[1;33m\u001b[0m\u001b[0m\n\u001b[0m\u001b[0;32m      2\u001b[0m \u001b[0mdb\u001b[0m\u001b[1;33m.\u001b[0m\u001b[0mcommit\u001b[0m\u001b[1;33m(\u001b[0m\u001b[1;33m)\u001b[0m\u001b[1;33m\u001b[0m\u001b[1;33m\u001b[0m\u001b[0m\n",
      "\u001b[1;31mOperationalError\u001b[0m: table sports already exists"
     ]
    }
   ],
   "source": [
    "cur.execute('create table sports (sportsid int primary key,Sportname text unique, dateofevent date,country text not null)')\n",
    "db.commit()"
   ]
  },
  {
   "cell_type": "code",
   "execution_count": 12,
   "id": "feaf99b9",
   "metadata": {},
   "outputs": [
    {
     "ename": "IntegrityError",
     "evalue": "UNIQUE constraint failed: sports.Sportname",
     "output_type": "error",
     "traceback": [
      "\u001b[1;31m---------------------------------------------------------------------------\u001b[0m",
      "\u001b[1;31mIntegrityError\u001b[0m                            Traceback (most recent call last)",
      "\u001b[1;32mC:\\Users\\SHREYA~1\\AppData\\Local\\Temp/ipykernel_3812/3553083830.py\u001b[0m in \u001b[0;36m<module>\u001b[1;34m\u001b[0m\n\u001b[0;32m      2\u001b[0m     \u001b[0mtotal_records\u001b[0m\u001b[1;33m=\u001b[0m\u001b[1;36m0\u001b[0m\u001b[1;33m\u001b[0m\u001b[1;33m\u001b[0m\u001b[0m\n\u001b[0;32m      3\u001b[0m     \u001b[1;32mfor\u001b[0m \u001b[0mrow\u001b[0m \u001b[1;32min\u001b[0m \u001b[0mfile\u001b[0m\u001b[1;33m:\u001b[0m\u001b[1;33m\u001b[0m\u001b[1;33m\u001b[0m\u001b[0m\n\u001b[1;32m----> 4\u001b[1;33m         \u001b[0mcur\u001b[0m\u001b[1;33m.\u001b[0m\u001b[0mexecute\u001b[0m\u001b[1;33m(\u001b[0m\u001b[1;34m'insert into sports values (?,?,?,?)'\u001b[0m\u001b[1;33m,\u001b[0m\u001b[0mrow\u001b[0m\u001b[1;33m.\u001b[0m\u001b[0msplit\u001b[0m\u001b[1;33m(\u001b[0m\u001b[1;34m\",\"\u001b[0m\u001b[1;33m)\u001b[0m\u001b[1;33m)\u001b[0m\u001b[1;33m\u001b[0m\u001b[1;33m\u001b[0m\u001b[0m\n\u001b[0m\u001b[0;32m      5\u001b[0m         \u001b[0mdb\u001b[0m\u001b[1;33m.\u001b[0m\u001b[0mcommit\u001b[0m\u001b[1;33m(\u001b[0m\u001b[1;33m)\u001b[0m\u001b[1;33m\u001b[0m\u001b[1;33m\u001b[0m\u001b[0m\n\u001b[0;32m      6\u001b[0m         \u001b[0mtotal_records\u001b[0m\u001b[1;33m+=\u001b[0m\u001b[1;36m1\u001b[0m\u001b[1;33m\u001b[0m\u001b[1;33m\u001b[0m\u001b[0m\n",
      "\u001b[1;31mIntegrityError\u001b[0m: UNIQUE constraint failed: sports.Sportname"
     ]
    }
   ],
   "source": [
    "with open('E:/mysqlite/practice.csv','r') as file:\n",
    "    total_records=0\n",
    "    for row in file:\n",
    "        cur.execute('insert into sports values (?,?,?,?)',row.split(\",\"))\n",
    "        db.commit()\n",
    "        total_records+=1\n",
    "print(total_records, \"Rows Insert\")"
   ]
  },
  {
   "cell_type": "code",
   "execution_count": 13,
   "id": "22c9bc46",
   "metadata": {},
   "outputs": [
    {
     "data": {
      "text/plain": [
       "[(101, 'cricket', '1999-06-21', 'india\\n'),\n",
       " (102, 'football', '2001-05-10', 'kolkata\\n'),\n",
       " (103, 'tennis', '2002-05-11', 'japan\\n'),\n",
       " (104, 'voliball', '2003-04-15', 'kerala'),\n",
       " (105, 'basketball', '2022-6-18', 'Keniya'),\n",
       " (106, 'kabadi', '2022-6-18', 'india'),\n",
       " (107, 'Golf', '2022-6-18', 'Australia')]"
      ]
     },
     "execution_count": 13,
     "metadata": {},
     "output_type": "execute_result"
    }
   ],
   "source": [
    "result=cur.execute('select * from sports')\n",
    "result.fetchall()"
   ]
  },
  {
   "cell_type": "code",
   "execution_count": 14,
   "id": "b74bd12d",
   "metadata": {},
   "outputs": [],
   "source": [
    "cur.execute(\"delete from sports where sportsid=105\")\n",
    "db.commit()"
   ]
  },
  {
   "cell_type": "code",
   "execution_count": 15,
   "id": "f56ab175",
   "metadata": {
    "scrolled": true
   },
   "outputs": [],
   "source": [
    "cur.execute('insert into sports values (105,\"basketball\",\"2022-6-18\",\"Keniya\")')\n",
    "db.commit()"
   ]
  },
  {
   "cell_type": "code",
   "execution_count": 20,
   "id": "03664a08",
   "metadata": {},
   "outputs": [],
   "source": [
    "cur.execute('insert into sports values (106,\"kabadi\",\"2022-6-18\",\"india\")')\n",
    "db.commit()"
   ]
  },
  {
   "cell_type": "code",
   "execution_count": 22,
   "id": "4eca15bf",
   "metadata": {},
   "outputs": [],
   "source": [
    "cur.execute('insert into sports values (107,\"Golf\",\"2022-6-18\",\"Australia\")')\n",
    "db.commit()"
   ]
  },
  {
   "cell_type": "code",
   "execution_count": 16,
   "id": "acd35d40",
   "metadata": {
    "scrolled": false
   },
   "outputs": [
    {
     "data": {
      "text/plain": [
       "[(101, 'cricket', '1999-06-21', 'india\\n'),\n",
       " (102, 'football', '2001-05-10', 'kolkata\\n'),\n",
       " (103, 'tennis', '2002-05-11', 'japan\\n'),\n",
       " (104, 'voliball', '2003-04-15', 'kerala'),\n",
       " (106, 'kabadi', '2022-6-18', 'india'),\n",
       " (107, 'Golf', '2022-6-18', 'Australia'),\n",
       " (105, 'basketball', '2022-6-18', 'Keniya')]"
      ]
     },
     "execution_count": 16,
     "metadata": {},
     "output_type": "execute_result"
    }
   ],
   "source": [
    "result=cur.execute('select * from sports')\n",
    "result.fetchall()"
   ]
  },
  {
   "cell_type": "code",
   "execution_count": null,
   "id": "a84595c8",
   "metadata": {},
   "outputs": [],
   "source": []
  },
  {
   "cell_type": "code",
   "execution_count": null,
   "id": "3ae51a19",
   "metadata": {},
   "outputs": [],
   "source": []
  },
  {
   "cell_type": "code",
   "execution_count": 20,
   "id": "91a1ea54",
   "metadata": {},
   "outputs": [],
   "source": [
    "cur.execute('create table sports1 (sportsid int primary key,Sportname text unique, dateofevent date,country text not null)')\n",
    "db.commit()"
   ]
  },
  {
   "cell_type": "code",
   "execution_count": 22,
   "id": "87692be0",
   "metadata": {},
   "outputs": [
    {
     "name": "stdout",
     "output_type": "stream",
     "text": [
      "4 Rows Insert\n"
     ]
    }
   ],
   "source": [
    "with open('E:/mysqlite/practice.csv','r') as file:\n",
    "    total_records=0\n",
    "    for row in file:\n",
    "        cur.execute('insert into sports1 values (?,?,?,?)',row.split(\",\"))\n",
    "        db.commit()\n",
    "        total_records+=1\n",
    "print(total_records, \"Rows Insert\")"
   ]
  }
 ],
 "metadata": {
  "kernelspec": {
   "display_name": "Python 3 (ipykernel)",
   "language": "python",
   "name": "python3"
  },
  "language_info": {
   "codemirror_mode": {
    "name": "ipython",
    "version": 3
   },
   "file_extension": ".py",
   "mimetype": "text/x-python",
   "name": "python",
   "nbconvert_exporter": "python",
   "pygments_lexer": "ipython3",
   "version": "3.9.7"
  }
 },
 "nbformat": 4,
 "nbformat_minor": 5
}
