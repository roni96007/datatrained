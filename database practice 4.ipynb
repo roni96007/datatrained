{
 "cells": [
  {
   "cell_type": "markdown",
   "id": "774980f1",
   "metadata": {},
   "source": [
    "# Referential Integrity"
   ]
  },
  {
   "cell_type": "code",
   "execution_count": 2,
   "id": "2f6a0e2d",
   "metadata": {},
   "outputs": [],
   "source": [
    "import sqlite3"
   ]
  },
  {
   "cell_type": "code",
   "execution_count": 3,
   "id": "6c1a1110",
   "metadata": {},
   "outputs": [],
   "source": [
    "db=sqlite3.connect('e:/mysqlite/coursedata.db')"
   ]
  },
  {
   "cell_type": "code",
   "execution_count": 4,
   "id": "b1c50375",
   "metadata": {},
   "outputs": [],
   "source": [
    "cur=db.cursor()"
   ]
  },
  {
   "cell_type": "code",
   "execution_count": 5,
   "id": "9a1a9f8a",
   "metadata": {},
   "outputs": [
    {
     "ename": "OperationalError",
     "evalue": "table course already exists",
     "output_type": "error",
     "traceback": [
      "\u001b[1;31m---------------------------------------------------------------------------\u001b[0m",
      "\u001b[1;31mOperationalError\u001b[0m                          Traceback (most recent call last)",
      "\u001b[1;32mC:\\Users\\SHREYA~1\\AppData\\Local\\Temp/ipykernel_3668/3792226481.py\u001b[0m in \u001b[0;36m<module>\u001b[1;34m\u001b[0m\n\u001b[1;32m----> 1\u001b[1;33m \u001b[0mcur\u001b[0m\u001b[1;33m.\u001b[0m\u001b[0mexecute\u001b[0m\u001b[1;33m(\u001b[0m\u001b[1;34m'create table course(courseid int primarykey,coursename text,course_duration int)'\u001b[0m\u001b[1;33m)\u001b[0m\u001b[1;33m\u001b[0m\u001b[1;33m\u001b[0m\u001b[0m\n\u001b[0m",
      "\u001b[1;31mOperationalError\u001b[0m: table course already exists"
     ]
    }
   ],
   "source": [
    "cur.execute('create table course(courseid int primarykey,coursename text,course_duration int)')"
   ]
  },
  {
   "cell_type": "code",
   "execution_count": 6,
   "id": "e9f3bda0",
   "metadata": {},
   "outputs": [
    {
     "ename": "OperationalError",
     "evalue": "table student already exists",
     "output_type": "error",
     "traceback": [
      "\u001b[1;31m---------------------------------------------------------------------------\u001b[0m",
      "\u001b[1;31mOperationalError\u001b[0m                          Traceback (most recent call last)",
      "\u001b[1;32mC:\\Users\\SHREYA~1\\AppData\\Local\\Temp/ipykernel_3668/1337089078.py\u001b[0m in \u001b[0;36m<module>\u001b[1;34m\u001b[0m\n\u001b[1;32m----> 1\u001b[1;33m \u001b[0mcur\u001b[0m\u001b[1;33m.\u001b[0m\u001b[0mexecute\u001b[0m\u001b[1;33m(\u001b[0m\u001b[1;34m\"create table student(stuid int primary key,stuname text,age int,courseid int,foreign key(courseid) references course(courseid))\"\u001b[0m\u001b[1;33m)\u001b[0m\u001b[1;33m\u001b[0m\u001b[1;33m\u001b[0m\u001b[0m\n\u001b[0m",
      "\u001b[1;31mOperationalError\u001b[0m: table student already exists"
     ]
    }
   ],
   "source": [
    "cur.execute(\"create table student(stuid int primary key,stuname text,age int,courseid int,foreign key(courseid) references course(courseid))\")"
   ]
  },
  {
   "cell_type": "code",
   "execution_count": 8,
   "id": "b66001fc",
   "metadata": {},
   "outputs": [],
   "source": [
    "cur.execute('insert into course values(401,\"java\",06),(201,\"datascience\",12),(701,\"python\",04),(504,\"Flutter\",15)')\n",
    "db.commit()"
   ]
  },
  {
   "cell_type": "code",
   "execution_count": 9,
   "id": "7abbedb2",
   "metadata": {},
   "outputs": [],
   "source": [
    "cur.execute('insert into student values(001,\"shrey\",20,201),(002,\"pri\",60,401),(003,\"rish\",30,401),(004,\"Roni\",20,504),(005,\"choto\",20,701)')\n",
    "db.commit()"
   ]
  },
  {
   "cell_type": "code",
   "execution_count": 19,
   "id": "b7d1bab8",
   "metadata": {},
   "outputs": [
    {
     "data": {
      "text/plain": [
       "[(1, 'shrey', 20, 201),\n",
       " (2, 'pri', 60, 401),\n",
       " (3, 'rish', 30, 401),\n",
       " (4, 'Roni', 20, 504),\n",
       " (5, 'choto', 20, 701),\n",
       " (6, 'skdkkc', 20, 402),\n",
       " (7, 'dsbdb', 30, 301),\n",
       " (8, 'bjhb', 25, 504)]"
      ]
     },
     "execution_count": 19,
     "metadata": {},
     "output_type": "execute_result"
    }
   ],
   "source": [
    "result=cur.execute('select * from student')\n",
    "result.fetchall()"
   ]
  },
  {
   "cell_type": "code",
   "execution_count": 20,
   "id": "056cc020",
   "metadata": {},
   "outputs": [
    {
     "data": {
      "text/plain": [
       "[(401, 'java', 6),\n",
       " (201, 'datascience', 12),\n",
       " (701, 'python', 4),\n",
       " (504, 'Flutter', 15),\n",
       " (401, 'java', 6),\n",
       " (201, 'datascience', 12),\n",
       " (701, 'python', 4),\n",
       " (504, 'Flutter', 15),\n",
       " (101, 'english', 2),\n",
       " (301, 'bengali', 2),\n",
       " (402, 'math', 4)]"
      ]
     },
     "execution_count": 20,
     "metadata": {},
     "output_type": "execute_result"
    }
   ],
   "source": [
    "result=cur.execute('select * from course')\n",
    "result.fetchall()"
   ]
  },
  {
   "cell_type": "code",
   "execution_count": 13,
   "id": "46bd9998",
   "metadata": {},
   "outputs": [
    {
     "data": {
      "text/plain": [
       "<sqlite3.Cursor at 0x1e35e4788f0>"
      ]
     },
     "execution_count": 13,
     "metadata": {},
     "output_type": "execute_result"
    }
   ],
   "source": [
    "cur.execute('insert into course values(101,\"english\",02),(301,\"bengali\",02),(402,\"math\",04)')"
   ]
  },
  {
   "cell_type": "code",
   "execution_count": 14,
   "id": "1e9ed451",
   "metadata": {},
   "outputs": [],
   "source": [
    "db.commit()"
   ]
  },
  {
   "cell_type": "code",
   "execution_count": 16,
   "id": "c9c6a09f",
   "metadata": {},
   "outputs": [
    {
     "data": {
      "text/plain": [
       "<sqlite3.Cursor at 0x1e35e4788f0>"
      ]
     },
     "execution_count": 16,
     "metadata": {},
     "output_type": "execute_result"
    }
   ],
   "source": [
    "cur.execute('insert into student values(006,\"skdkkc\",20,402),(007,\"dsbdb\",30,301),(008,\"bjhb\",25,504)')"
   ]
  },
  {
   "cell_type": "code",
   "execution_count": 18,
   "id": "7fa888fe",
   "metadata": {},
   "outputs": [],
   "source": [
    "db.commit()"
   ]
  },
  {
   "cell_type": "code",
   "execution_count": 20,
   "id": "3ce20a7e",
   "metadata": {},
   "outputs": [
    {
     "data": {
      "text/plain": [
       "[(1, 'shrey', 201, 'datascience'),\n",
       " (1, 'shrey', 201, 'datascience'),\n",
       " (2, 'pri', 401, 'java'),\n",
       " (2, 'pri', 401, 'java'),\n",
       " (3, 'rish', 401, 'java'),\n",
       " (3, 'rish', 401, 'java'),\n",
       " (4, 'Roni', 504, 'Flutter'),\n",
       " (4, 'Roni', 504, 'Flutter'),\n",
       " (5, 'choto', 701, 'python'),\n",
       " (5, 'choto', 701, 'python'),\n",
       " (6, 'skdkkc', 402, 'math'),\n",
       " (7, 'dsbdb', 301, 'bengali'),\n",
       " (8, 'bjhb', 504, 'Flutter'),\n",
       " (8, 'bjhb', 504, 'Flutter')]"
      ]
     },
     "execution_count": 20,
     "metadata": {},
     "output_type": "execute_result"
    }
   ],
   "source": [
    "result=\"SELECT student.stuid, student.stuname, course.courseid, course.coursename FROM student INNER JOIN course ON student.courseid = course.courseid\"\n",
    "sql=cur.execute(result)\n",
    "sql.fetchall()"
   ]
  },
  {
   "cell_type": "code",
   "execution_count": 6,
   "id": "643c1c5c",
   "metadata": {},
   "outputs": [
    {
     "data": {
      "text/plain": [
       "[(2, 'pri', 401, 'java'),\n",
       " (3, 'rish', 401, 'java'),\n",
       " (1, 'shrey', 201, 'datascience'),\n",
       " (5, 'choto', 701, 'python'),\n",
       " (4, 'Roni', 504, 'Flutter'),\n",
       " (8, 'bjhb', 504, 'Flutter'),\n",
       " (2, 'pri', 401, 'java'),\n",
       " (3, 'rish', 401, 'java'),\n",
       " (1, 'shrey', 201, 'datascience'),\n",
       " (5, 'choto', 701, 'python'),\n",
       " (4, 'Roni', 504, 'Flutter'),\n",
       " (8, 'bjhb', 504, 'Flutter'),\n",
       " (7, 'dsbdb', 301, 'bengali'),\n",
       " (6, 'skdkkc', 402, 'math')]"
      ]
     },
     "execution_count": 6,
     "metadata": {},
     "output_type": "execute_result"
    }
   ],
   "source": [
    "result=\"SELECT student.stuid, student.stuname, course.courseid, course.coursename FROM course INNER JOIN student ON course.courseid = student.courseid\"\n",
    "sql=cur.execute(result)\n",
    "sql.fetchall()"
   ]
  },
  {
   "cell_type": "code",
   "execution_count": 14,
   "id": "77e0ae59",
   "metadata": {},
   "outputs": [
    {
     "data": {
      "text/plain": [
       "[(1, 'shrey', 201, 'datascience'),\n",
       " (1, 'shrey', 201, 'datascience'),\n",
       " (2, 'pri', 401, 'java'),\n",
       " (2, 'pri', 401, 'java'),\n",
       " (3, 'rish', 401, 'java'),\n",
       " (3, 'rish', 401, 'java'),\n",
       " (4, 'Roni', 504, 'Flutter'),\n",
       " (4, 'Roni', 504, 'Flutter'),\n",
       " (5, 'choto', 701, 'python'),\n",
       " (5, 'choto', 701, 'python'),\n",
       " (6, 'skdkkc', 402, 'math'),\n",
       " (7, 'dsbdb', 301, 'bengali'),\n",
       " (8, 'bjhb', 504, 'Flutter'),\n",
       " (8, 'bjhb', 504, 'Flutter')]"
      ]
     },
     "execution_count": 14,
     "metadata": {},
     "output_type": "execute_result"
    }
   ],
   "source": [
    "result=\"SELECT student.stuid, student.stuname, course.courseid, course.coursename FROM student LEFT JOIN course ON student.courseid = course.courseid\"\n",
    "sql=cur.execute(result)\n",
    "sql.fetchall()"
   ]
  },
  {
   "cell_type": "code",
   "execution_count": 15,
   "id": "87001e6d",
   "metadata": {},
   "outputs": [
    {
     "data": {
      "text/plain": [
       "[(2, 'pri', 401, 'java'),\n",
       " (3, 'rish', 401, 'java'),\n",
       " (1, 'shrey', 201, 'datascience'),\n",
       " (5, 'choto', 701, 'python'),\n",
       " (4, 'Roni', 504, 'Flutter'),\n",
       " (8, 'bjhb', 504, 'Flutter'),\n",
       " (2, 'pri', 401, 'java'),\n",
       " (3, 'rish', 401, 'java'),\n",
       " (1, 'shrey', 201, 'datascience'),\n",
       " (5, 'choto', 701, 'python'),\n",
       " (4, 'Roni', 504, 'Flutter'),\n",
       " (8, 'bjhb', 504, 'Flutter'),\n",
       " (None, None, 101, 'english'),\n",
       " (7, 'dsbdb', 301, 'bengali'),\n",
       " (6, 'skdkkc', 402, 'math')]"
      ]
     },
     "execution_count": 15,
     "metadata": {},
     "output_type": "execute_result"
    }
   ],
   "source": [
    "result=\"SELECT student.stuid, student.stuname, course.courseid, course.coursename FROM course LEFT JOIN student ON student.courseid = course.courseid\"\n",
    "sql=cur.execute(result)\n",
    "sql.fetchall()"
   ]
  },
  {
   "cell_type": "code",
   "execution_count": null,
   "id": "c0f15916",
   "metadata": {},
   "outputs": [],
   "source": []
  }
 ],
 "metadata": {
  "kernelspec": {
   "display_name": "Python 3 (ipykernel)",
   "language": "python",
   "name": "python3"
  },
  "language_info": {
   "codemirror_mode": {
    "name": "ipython",
    "version": 3
   },
   "file_extension": ".py",
   "mimetype": "text/x-python",
   "name": "python",
   "nbconvert_exporter": "python",
   "pygments_lexer": "ipython3",
   "version": "3.9.7"
  }
 },
 "nbformat": 4,
 "nbformat_minor": 5
}
