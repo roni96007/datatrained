{
 "cells": [
  {
   "cell_type": "markdown",
   "id": "357b8f7d",
   "metadata": {},
   "source": [
    "# DICTIONARY FN."
   ]
  },
  {
   "cell_type": "code",
   "execution_count": 28,
   "id": "378d9350",
   "metadata": {},
   "outputs": [],
   "source": [
    "stddict={'stdid':5006,'stdName':'Shrey','branch':'kol'}"
   ]
  },
  {
   "cell_type": "code",
   "execution_count": 29,
   "id": "d1bba897",
   "metadata": {},
   "outputs": [
    {
     "data": {
      "text/plain": [
       "{'stdid': 5006, 'stdName': 'Shrey', 'branch': 'kol'}"
      ]
     },
     "execution_count": 29,
     "metadata": {},
     "output_type": "execute_result"
    }
   ],
   "source": [
    "stddict"
   ]
  },
  {
   "cell_type": "code",
   "execution_count": 30,
   "id": "e64a3a46",
   "metadata": {},
   "outputs": [
    {
     "data": {
      "text/plain": [
       "'kol'"
      ]
     },
     "execution_count": 30,
     "metadata": {},
     "output_type": "execute_result"
    }
   ],
   "source": [
    "stddict['branch']"
   ]
  },
  {
   "cell_type": "code",
   "execution_count": 31,
   "id": "53e8b33e",
   "metadata": {},
   "outputs": [
    {
     "data": {
      "text/plain": [
       "5006"
      ]
     },
     "execution_count": 31,
     "metadata": {},
     "output_type": "execute_result"
    }
   ],
   "source": [
    "stddict['stdid']"
   ]
  },
  {
   "cell_type": "code",
   "execution_count": 32,
   "id": "e572a88d",
   "metadata": {},
   "outputs": [],
   "source": [
    "stddict.update({'stream':'mba'})"
   ]
  },
  {
   "cell_type": "code",
   "execution_count": 33,
   "id": "f12b0720",
   "metadata": {},
   "outputs": [
    {
     "data": {
      "text/plain": [
       "'mba'"
      ]
     },
     "execution_count": 33,
     "metadata": {},
     "output_type": "execute_result"
    }
   ],
   "source": [
    "stddict['stream']"
   ]
  },
  {
   "cell_type": "code",
   "execution_count": 34,
   "id": "36db65f6",
   "metadata": {},
   "outputs": [
    {
     "data": {
      "text/plain": [
       "dict_keys(['stdid', 'stdName', 'branch', 'stream'])"
      ]
     },
     "execution_count": 34,
     "metadata": {},
     "output_type": "execute_result"
    }
   ],
   "source": [
    "stddict.keys()"
   ]
  },
  {
   "cell_type": "code",
   "execution_count": 35,
   "id": "697992d5",
   "metadata": {},
   "outputs": [
    {
     "data": {
      "text/plain": [
       "dict_values([5006, 'Shrey', 'kol', 'mba'])"
      ]
     },
     "execution_count": 35,
     "metadata": {},
     "output_type": "execute_result"
    }
   ],
   "source": [
    "stddict.values()"
   ]
  },
  {
   "cell_type": "code",
   "execution_count": 36,
   "id": "e64d3122",
   "metadata": {},
   "outputs": [
    {
     "data": {
      "text/plain": [
       "dict_items([('stdid', 5006), ('stdName', 'Shrey'), ('branch', 'kol'), ('stream', 'mba')])"
      ]
     },
     "execution_count": 36,
     "metadata": {},
     "output_type": "execute_result"
    }
   ],
   "source": [
    "stddict.items()"
   ]
  },
  {
   "cell_type": "code",
   "execution_count": 37,
   "id": "2b57b2b9",
   "metadata": {},
   "outputs": [],
   "source": [
    "stddict['stdid']=1008"
   ]
  },
  {
   "cell_type": "code",
   "execution_count": 38,
   "id": "cb66328d",
   "metadata": {},
   "outputs": [],
   "source": [
    "stddict['stdName']=\"Shreyasi\""
   ]
  },
  {
   "cell_type": "code",
   "execution_count": 39,
   "id": "317d9850",
   "metadata": {},
   "outputs": [
    {
     "data": {
      "text/plain": [
       "{'stdid': 1008, 'stdName': 'Shreyasi', 'branch': 'kol', 'stream': 'mba'}"
      ]
     },
     "execution_count": 39,
     "metadata": {},
     "output_type": "execute_result"
    }
   ],
   "source": [
    "stddict"
   ]
  },
  {
   "cell_type": "code",
   "execution_count": 40,
   "id": "13b607de",
   "metadata": {},
   "outputs": [
    {
     "data": {
      "text/plain": [
       "'Shreyasi'"
      ]
     },
     "execution_count": 40,
     "metadata": {},
     "output_type": "execute_result"
    }
   ],
   "source": [
    "stddict.pop('stdName')"
   ]
  },
  {
   "cell_type": "code",
   "execution_count": 41,
   "id": "d7e90d43",
   "metadata": {},
   "outputs": [
    {
     "data": {
      "text/plain": [
       "3"
      ]
     },
     "execution_count": 41,
     "metadata": {},
     "output_type": "execute_result"
    }
   ],
   "source": [
    "len(stddict)"
   ]
  },
  {
   "cell_type": "code",
   "execution_count": 42,
   "id": "c131465c",
   "metadata": {},
   "outputs": [
    {
     "data": {
      "text/plain": [
       "{'stdid': 1008, 'branch': 'kol', 'stream': 'mba'}"
      ]
     },
     "execution_count": 42,
     "metadata": {},
     "output_type": "execute_result"
    }
   ],
   "source": [
    "stddict"
   ]
  },
  {
   "cell_type": "code",
   "execution_count": null,
   "id": "dd460aad",
   "metadata": {},
   "outputs": [],
   "source": []
  },
  {
   "cell_type": "code",
   "execution_count": 43,
   "id": "b1dbe150",
   "metadata": {},
   "outputs": [],
   "source": [
    "del stddict['branch']"
   ]
  },
  {
   "cell_type": "code",
   "execution_count": 44,
   "id": "07ec0720",
   "metadata": {},
   "outputs": [
    {
     "data": {
      "text/plain": [
       "{'stdid': 1008, 'stream': 'mba'}"
      ]
     },
     "execution_count": 44,
     "metadata": {},
     "output_type": "execute_result"
    }
   ],
   "source": [
    "stddict"
   ]
  },
  {
   "cell_type": "code",
   "execution_count": 45,
   "id": "a7ac6418",
   "metadata": {},
   "outputs": [],
   "source": [
    "stddict.update({'stdid':601,'stdname':'xyz','stdsec':'b'})"
   ]
  },
  {
   "cell_type": "code",
   "execution_count": 46,
   "id": "7623abb7",
   "metadata": {},
   "outputs": [
    {
     "data": {
      "text/plain": [
       "{'stdid': 601, 'stream': 'mba', 'stdname': 'xyz', 'stdsec': 'b'}"
      ]
     },
     "execution_count": 46,
     "metadata": {},
     "output_type": "execute_result"
    }
   ],
   "source": [
    "stddict"
   ]
  },
  {
   "cell_type": "code",
   "execution_count": 47,
   "id": "39520eb2",
   "metadata": {},
   "outputs": [
    {
     "data": {
      "text/plain": [
       "'mba'"
      ]
     },
     "execution_count": 47,
     "metadata": {},
     "output_type": "execute_result"
    }
   ],
   "source": [
    "stddict.pop('stream')"
   ]
  },
  {
   "cell_type": "code",
   "execution_count": 48,
   "id": "29cb318c",
   "metadata": {},
   "outputs": [
    {
     "data": {
      "text/plain": [
       "{'stdid': 601, 'stdname': 'xyz', 'stdsec': 'b'}"
      ]
     },
     "execution_count": 48,
     "metadata": {},
     "output_type": "execute_result"
    }
   ],
   "source": [
    "stddict"
   ]
  },
  {
   "cell_type": "code",
   "execution_count": 49,
   "id": "eb28393d",
   "metadata": {},
   "outputs": [],
   "source": [
    "del stddict['stdid']"
   ]
  },
  {
   "cell_type": "code",
   "execution_count": 50,
   "id": "c8334d79",
   "metadata": {},
   "outputs": [
    {
     "data": {
      "text/plain": [
       "{'stdname': 'xyz', 'stdsec': 'b'}"
      ]
     },
     "execution_count": 50,
     "metadata": {},
     "output_type": "execute_result"
    }
   ],
   "source": [
    "stddict"
   ]
  },
  {
   "cell_type": "code",
   "execution_count": 68,
   "id": "366fbc4a",
   "metadata": {},
   "outputs": [
    {
     "ename": "NameError",
     "evalue": "name 'stddict' is not defined",
     "output_type": "error",
     "traceback": [
      "\u001b[1;31m---------------------------------------------------------------------------\u001b[0m",
      "\u001b[1;31mNameError\u001b[0m                                 Traceback (most recent call last)",
      "\u001b[1;32mC:\\Users\\SHREYA~1\\AppData\\Local\\Temp/ipykernel_18632/4038126863.py\u001b[0m in \u001b[0;36m<module>\u001b[1;34m\u001b[0m\n\u001b[1;32m----> 1\u001b[1;33m \u001b[1;32mdel\u001b[0m \u001b[0mstddict\u001b[0m\u001b[1;33m\u001b[0m\u001b[1;33m\u001b[0m\u001b[0m\n\u001b[0m",
      "\u001b[1;31mNameError\u001b[0m: name 'stddict' is not defined"
     ]
    }
   ],
   "source": [
    "del stddict"
   ]
  },
  {
   "cell_type": "code",
   "execution_count": null,
   "id": "6b745070",
   "metadata": {},
   "outputs": [],
   "source": []
  },
  {
   "cell_type": "code",
   "execution_count": 52,
   "id": "78e36506",
   "metadata": {},
   "outputs": [],
   "source": [
    "intdict={10: \"C++\", 20: 'Java', 30: 'Python', 40: 'HTML'}"
   ]
  },
  {
   "cell_type": "code",
   "execution_count": 53,
   "id": "80e08d15",
   "metadata": {},
   "outputs": [
    {
     "data": {
      "text/plain": [
       "{10: 'C++', 20: 'Java', 30: 'Python', 40: 'HTML'}"
      ]
     },
     "execution_count": 53,
     "metadata": {},
     "output_type": "execute_result"
    }
   ],
   "source": [
    "intdict"
   ]
  },
  {
   "cell_type": "code",
   "execution_count": 54,
   "id": "7615b8c3",
   "metadata": {},
   "outputs": [],
   "source": [
    "intdict.update({50: 'Tableu'})"
   ]
  },
  {
   "cell_type": "code",
   "execution_count": 55,
   "id": "45aae1ca",
   "metadata": {},
   "outputs": [
    {
     "data": {
      "text/plain": [
       "{10: 'C++', 20: 'Java', 30: 'Python', 40: 'HTML', 50: 'Tableu'}"
      ]
     },
     "execution_count": 55,
     "metadata": {},
     "output_type": "execute_result"
    }
   ],
   "source": [
    "intdict"
   ]
  },
  {
   "cell_type": "code",
   "execution_count": 56,
   "id": "91960b90",
   "metadata": {},
   "outputs": [
    {
     "data": {
      "text/plain": [
       "dict_keys([10, 20, 30, 40, 50])"
      ]
     },
     "execution_count": 56,
     "metadata": {},
     "output_type": "execute_result"
    }
   ],
   "source": [
    "intdict.keys()"
   ]
  },
  {
   "cell_type": "code",
   "execution_count": 57,
   "id": "99fe24f8",
   "metadata": {},
   "outputs": [
    {
     "data": {
      "text/plain": [
       "dict_values(['C++', 'Java', 'Python', 'HTML', 'Tableu'])"
      ]
     },
     "execution_count": 57,
     "metadata": {},
     "output_type": "execute_result"
    }
   ],
   "source": [
    "intdict.values()"
   ]
  },
  {
   "cell_type": "code",
   "execution_count": 58,
   "id": "cdcea03c",
   "metadata": {},
   "outputs": [
    {
     "data": {
      "text/plain": [
       "'Java'"
      ]
     },
     "execution_count": 58,
     "metadata": {},
     "output_type": "execute_result"
    }
   ],
   "source": [
    "intdict.pop(20)"
   ]
  },
  {
   "cell_type": "code",
   "execution_count": 59,
   "id": "bc352f1b",
   "metadata": {},
   "outputs": [
    {
     "data": {
      "text/plain": [
       "{10: 'C++', 30: 'Python', 40: 'HTML', 50: 'Tableu'}"
      ]
     },
     "execution_count": 59,
     "metadata": {},
     "output_type": "execute_result"
    }
   ],
   "source": [
    "intdict "
   ]
  },
  {
   "cell_type": "code",
   "execution_count": 60,
   "id": "f2007bda",
   "metadata": {},
   "outputs": [],
   "source": [
    "intdict.update({40:'css'})"
   ]
  },
  {
   "cell_type": "code",
   "execution_count": 61,
   "id": "714d1b24",
   "metadata": {},
   "outputs": [
    {
     "data": {
      "text/plain": [
       "{10: 'C++', 30: 'Python', 40: 'css', 50: 'Tableu'}"
      ]
     },
     "execution_count": 61,
     "metadata": {},
     "output_type": "execute_result"
    }
   ],
   "source": [
    "intdict"
   ]
  },
  {
   "cell_type": "code",
   "execution_count": 62,
   "id": "4e9222c9",
   "metadata": {},
   "outputs": [],
   "source": [
    "intdict[30]='python3'"
   ]
  },
  {
   "cell_type": "code",
   "execution_count": 63,
   "id": "50f59a9e",
   "metadata": {},
   "outputs": [
    {
     "data": {
      "text/plain": [
       "{10: 'C++', 30: 'python3', 40: 'css', 50: 'Tableu'}"
      ]
     },
     "execution_count": 63,
     "metadata": {},
     "output_type": "execute_result"
    }
   ],
   "source": [
    "intdict"
   ]
  },
  {
   "cell_type": "code",
   "execution_count": 64,
   "id": "1fcb0449",
   "metadata": {},
   "outputs": [],
   "source": [
    "intdict.update({20:'Java'})"
   ]
  },
  {
   "cell_type": "code",
   "execution_count": 65,
   "id": "39522dc2",
   "metadata": {},
   "outputs": [
    {
     "data": {
      "text/plain": [
       "{10: 'C++', 30: 'python3', 40: 'css', 50: 'Tableu', 20: 'Java'}"
      ]
     },
     "execution_count": 65,
     "metadata": {},
     "output_type": "execute_result"
    }
   ],
   "source": [
    "intdict"
   ]
  },
  {
   "cell_type": "code",
   "execution_count": 66,
   "id": "23df0273",
   "metadata": {},
   "outputs": [],
   "source": [
    "intdict.update({50: 'Tableu'})"
   ]
  },
  {
   "cell_type": "code",
   "execution_count": 67,
   "id": "aff32103",
   "metadata": {},
   "outputs": [
    {
     "data": {
      "text/plain": [
       "{10: 'C++', 30: 'python3', 40: 'css', 50: 'Tableu', 20: 'Java'}"
      ]
     },
     "execution_count": 67,
     "metadata": {},
     "output_type": "execute_result"
    }
   ],
   "source": [
    "intdict"
   ]
  },
  {
   "cell_type": "code",
   "execution_count": 69,
   "id": "63fc5244",
   "metadata": {},
   "outputs": [],
   "source": [
    "del intdict"
   ]
  },
  {
   "cell_type": "code",
   "execution_count": 70,
   "id": "272679e8",
   "metadata": {},
   "outputs": [
    {
     "ename": "NameError",
     "evalue": "name 'intdict' is not defined",
     "output_type": "error",
     "traceback": [
      "\u001b[1;31m---------------------------------------------------------------------------\u001b[0m",
      "\u001b[1;31mNameError\u001b[0m                                 Traceback (most recent call last)",
      "\u001b[1;32mC:\\Users\\SHREYA~1\\AppData\\Local\\Temp/ipykernel_18632/2595899578.py\u001b[0m in \u001b[0;36m<module>\u001b[1;34m\u001b[0m\n\u001b[1;32m----> 1\u001b[1;33m \u001b[0mintdict\u001b[0m\u001b[1;33m\u001b[0m\u001b[1;33m\u001b[0m\u001b[0m\n\u001b[0m",
      "\u001b[1;31mNameError\u001b[0m: name 'intdict' is not defined"
     ]
    }
   ],
   "source": [
    "intdict"
   ]
  }
 ],
 "metadata": {
  "kernelspec": {
   "display_name": "Python 3 (ipykernel)",
   "language": "python",
   "name": "python3"
  },
  "language_info": {
   "codemirror_mode": {
    "name": "ipython",
    "version": 3
   },
   "file_extension": ".py",
   "mimetype": "text/x-python",
   "name": "python",
   "nbconvert_exporter": "python",
   "pygments_lexer": "ipython3",
   "version": "3.9.7"
  }
 },
 "nbformat": 4,
 "nbformat_minor": 5
}
