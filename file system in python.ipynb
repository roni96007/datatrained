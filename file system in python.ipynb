{
 "cells": [
  {
   "cell_type": "markdown",
   "id": "659caae9",
   "metadata": {},
   "source": [
    "# INPUT AND OUTPUT OPERATION"
   ]
  },
  {
   "cell_type": "markdown",
   "id": "a7aa7a9c",
   "metadata": {},
   "source": [
    "f=open('e:\\\\filename\\\\file1.txt','w')"
   ]
  },
  {
   "cell_type": "markdown",
   "id": "70e6d707",
   "metadata": {},
   "source": [
    "f=open('e:\\filename\\file.txt','r')"
   ]
  },
  {
   "cell_type": "code",
   "execution_count": 1,
   "id": "e96ff5f9",
   "metadata": {},
   "outputs": [],
   "source": [
    "savefile=open('e:\\\\python\\\\june18.txt','w') #open a file for write."
   ]
  },
  {
   "cell_type": "code",
   "execution_count": 2,
   "id": "8fa049f8",
   "metadata": {},
   "outputs": [
    {
     "data": {
      "text/plain": [
       "39"
      ]
     },
     "execution_count": 2,
     "metadata": {},
     "output_type": "execute_result"
    }
   ],
   "source": [
    "savefile.write(\"i'm learning input and output operation\") # writing data into the file"
   ]
  },
  {
   "cell_type": "code",
   "execution_count": 3,
   "id": "47cd459f",
   "metadata": {},
   "outputs": [],
   "source": [
    "savefile.close() #closing the file"
   ]
  },
  {
   "cell_type": "code",
   "execution_count": 28,
   "id": "54a23a8f",
   "metadata": {},
   "outputs": [],
   "source": [
    "readme=open('e:\\\\python\\\\june18.txt','r') #read the file"
   ]
  },
  {
   "cell_type": "code",
   "execution_count": 29,
   "id": "03230376",
   "metadata": {},
   "outputs": [
    {
     "name": "stdout",
     "output_type": "stream",
     "text": [
      "i'm learning input and output operation\n",
      " just check the 2ndline once\n"
     ]
    }
   ],
   "source": [
    "print(readme.read()) #read the file data"
   ]
  },
  {
   "cell_type": "code",
   "execution_count": 30,
   "id": "1d5ff10f",
   "metadata": {},
   "outputs": [],
   "source": [
    "readme.close() "
   ]
  },
  {
   "cell_type": "code",
   "execution_count": 7,
   "id": "2fc204db",
   "metadata": {},
   "outputs": [],
   "source": [
    "appendfile=open('e:\\\\python\\\\june18.txt','a') # append or edit the file data"
   ]
  },
  {
   "cell_type": "code",
   "execution_count": 8,
   "id": "71673e34",
   "metadata": {},
   "outputs": [
    {
     "data": {
      "text/plain": [
       "29"
      ]
     },
     "execution_count": 8,
     "metadata": {},
     "output_type": "execute_result"
    }
   ],
   "source": [
    "appendfile.write(\"\\n just check the 2ndline once\") #write to edit in file data"
   ]
  },
  {
   "cell_type": "code",
   "execution_count": 9,
   "id": "f8ee597f",
   "metadata": {},
   "outputs": [],
   "source": [
    "appendfile.close() #file closed"
   ]
  },
  {
   "cell_type": "code",
   "execution_count": 36,
   "id": "0c4f520d",
   "metadata": {},
   "outputs": [],
   "source": [
    "readme=open('e:\\\\python\\\\june18.txt','r') #read data after appending"
   ]
  },
  {
   "cell_type": "code",
   "execution_count": 37,
   "id": "dc01cc54",
   "metadata": {},
   "outputs": [
    {
     "name": "stdout",
     "output_type": "stream",
     "text": [
      "i'm learning input and output operation\n",
      " just check the 2ndline once\n"
     ]
    }
   ],
   "source": [
    "print(readme.read()) # read output"
   ]
  },
  {
   "cell_type": "code",
   "execution_count": 39,
   "id": "deb11152",
   "metadata": {},
   "outputs": [],
   "source": [
    "readme.close() #close the file"
   ]
  },
  {
   "cell_type": "markdown",
   "id": "229dda45",
   "metadata": {},
   "source": [
    "Same process repeat"
   ]
  },
  {
   "cell_type": "code",
   "execution_count": 24,
   "id": "8f51dc42",
   "metadata": {},
   "outputs": [],
   "source": [
    "savefile1=open('e:\\\\python\\\\rajdeep.txt','w')"
   ]
  },
  {
   "cell_type": "code",
   "execution_count": 25,
   "id": "c7f775cc",
   "metadata": {},
   "outputs": [
    {
     "data": {
      "text/plain": [
       "70"
      ]
     },
     "execution_count": 25,
     "metadata": {},
     "output_type": "execute_result"
    }
   ],
   "source": [
    "savefile1.write(\"This is the sample script into the rajdeep text file & i am testing it\")"
   ]
  },
  {
   "cell_type": "code",
   "execution_count": 27,
   "id": "8e3527bb",
   "metadata": {},
   "outputs": [],
   "source": [
    "savefile1.close()"
   ]
  },
  {
   "cell_type": "code",
   "execution_count": 31,
   "id": "27d617d8",
   "metadata": {},
   "outputs": [],
   "source": [
    "readme1=open(\"E:\\\\python\\\\rajdeep.txt\",'r')"
   ]
  },
  {
   "cell_type": "code",
   "execution_count": 34,
   "id": "1a3360db",
   "metadata": {
    "scrolled": true
   },
   "outputs": [
    {
     "name": "stdout",
     "output_type": "stream",
     "text": [
      "This is the sample script into the rajdeep text file & i am testing it\n"
     ]
    }
   ],
   "source": [
    "print(readme1.read())"
   ]
  },
  {
   "cell_type": "code",
   "execution_count": 60,
   "id": "88cfcd65",
   "metadata": {},
   "outputs": [],
   "source": [
    "savefile1=open(\"E:\\\\python\\\\rajdeep.txt\",'a')"
   ]
  },
  {
   "cell_type": "code",
   "execution_count": 61,
   "id": "5c2883dc",
   "metadata": {},
   "outputs": [
    {
     "data": {
      "text/plain": [
       "32"
      ]
     },
     "execution_count": 61,
     "metadata": {},
     "output_type": "execute_result"
    }
   ],
   "source": [
    "savefile1.write(\"\\n Adding A new line & testing it\")"
   ]
  },
  {
   "cell_type": "code",
   "execution_count": 62,
   "id": "b98d3468",
   "metadata": {},
   "outputs": [],
   "source": [
    "savefile1.close()"
   ]
  },
  {
   "cell_type": "code",
   "execution_count": 63,
   "id": "e7c12207",
   "metadata": {},
   "outputs": [],
   "source": [
    "readme1=open(\"E:\\\\python\\\\rajdeep.txt\",'r')"
   ]
  },
  {
   "cell_type": "code",
   "execution_count": 64,
   "id": "152b35cd",
   "metadata": {},
   "outputs": [
    {
     "name": "stdout",
     "output_type": "stream",
     "text": [
      "This is the sample script into the rajdeep text file & i am testing itAdding another line to this text file\n",
      " Adding A new line & testing it\n"
     ]
    }
   ],
   "source": [
    "print(readme1.read())"
   ]
  },
  {
   "cell_type": "code",
   "execution_count": 67,
   "id": "0d1efce0",
   "metadata": {},
   "outputs": [],
   "source": [
    "savefile1.close()"
   ]
  },
  {
   "cell_type": "code",
   "execution_count": 109,
   "id": "92c18f74",
   "metadata": {},
   "outputs": [],
   "source": [
    "f=open('e:\\\\python\\\\roni.obj','w')"
   ]
  },
  {
   "cell_type": "code",
   "execution_count": 110,
   "id": "0c572712",
   "metadata": {},
   "outputs": [
    {
     "data": {
      "text/plain": [
       "39"
      ]
     },
     "execution_count": 110,
     "metadata": {},
     "output_type": "execute_result"
    }
   ],
   "source": [
    "f.write(\"i'm learning input and output operation\")"
   ]
  },
  {
   "cell_type": "markdown",
   "id": "6e62b1f4",
   "metadata": {},
   "source": [
    "# Making Directory/Folder using python"
   ]
  },
  {
   "cell_type": "code",
   "execution_count": 72,
   "id": "f4ac3b2b",
   "metadata": {},
   "outputs": [],
   "source": [
    "import os"
   ]
  },
  {
   "cell_type": "code",
   "execution_count": 73,
   "id": "4ab81b83",
   "metadata": {},
   "outputs": [],
   "source": [
    "os.mkdir(\"E:\\\\priti\") #creating a folder or directory"
   ]
  },
  {
   "cell_type": "code",
   "execution_count": 77,
   "id": "0527f6ce",
   "metadata": {},
   "outputs": [],
   "source": [
    "os.mkdir(\"E:\\\\priti\\\\roni\") #creating a folder inside another folder./directory"
   ]
  },
  {
   "cell_type": "code",
   "execution_count": 79,
   "id": "3dceb0eb",
   "metadata": {},
   "outputs": [],
   "source": [
    "os.rmdir(\"E:\\\\priti\\\\roni\") #remove or delete directory/folder"
   ]
  },
  {
   "cell_type": "code",
   "execution_count": 80,
   "id": "611bc223",
   "metadata": {},
   "outputs": [],
   "source": [
    "os.rmdir(\"E:\\\\priti\")"
   ]
  },
  {
   "cell_type": "markdown",
   "id": "d5c496a1",
   "metadata": {},
   "source": [
    "# Exception Handling in File I/O Operation"
   ]
  },
  {
   "cell_type": "code",
   "execution_count": 17,
   "id": "1162a3ae",
   "metadata": {},
   "outputs": [
    {
     "name": "stdout",
     "output_type": "stream",
     "text": [
      "file Opened Successfully\n",
      "€\u0004•9\u0000\u0000\u0000\u0000\u0000\u0000\u0000}”(K\u0001Œ\u0004Rose”K\u0002Œ\u0004Lily”K\u0003Œ\u0005Tulip”K\u0004Œ\tSunflower”K\u0005Œ\u0005Lotus”u.\n"
     ]
    }
   ],
   "source": [
    "try:\n",
    "    file2=open('E:\\\\serialization\\\\flower.obj','r')\n",
    "except:\n",
    "    print(\"file not found\")\n",
    "else:\n",
    "    print(\"file Opened Successfully\")\n",
    "    print(file2.read())"
   ]
  },
  {
   "cell_type": "code",
   "execution_count": 7,
   "id": "e28a6037",
   "metadata": {
    "scrolled": true
   },
   "outputs": [
    {
     "name": "stdout",
     "output_type": "stream",
     "text": [
      "file Opened Successfully\n",
      "This is the sample script into the rajdeep text file & i am testing itAdding another line to this text file\n",
      " Adding A new line & testing it\n"
     ]
    }
   ],
   "source": [
    "try:\n",
    "    file1=open('E:\\\\python\\\\rajdeep.txt','r')\n",
    "except IOError:\n",
    "    print(\"file not found\")\n",
    "else:\n",
    "    print(\"file Opened Successfully\")\n",
    "    print(file1.read())\n",
    "    file1.close()"
   ]
  },
  {
   "cell_type": "code",
   "execution_count": 20,
   "id": "9f0a377f",
   "metadata": {},
   "outputs": [
    {
     "name": "stdout",
     "output_type": "stream",
     "text": [
      "file is okay\n",
      "i'm learning input and output operation\n",
      " just check the 2ndline once\n"
     ]
    }
   ],
   "source": [
    "try:\n",
    "    file3=open('e:\\\\python\\\\june18.txt','r')\n",
    "except:\n",
    "    print(\"file is not excicuted\") \n",
    "else:\n",
    "    print(\"file is okay\")\n",
    "    print(file3.read()) \n",
    "    file3.close()"
   ]
  },
  {
   "cell_type": "code",
   "execution_count": null,
   "id": "834bdce2",
   "metadata": {},
   "outputs": [],
   "source": []
  },
  {
   "cell_type": "code",
   "execution_count": null,
   "id": "b9f8dd8b",
   "metadata": {},
   "outputs": [],
   "source": []
  },
  {
   "cell_type": "code",
   "execution_count": null,
   "id": "0d032ed7",
   "metadata": {},
   "outputs": [],
   "source": []
  }
 ],
 "metadata": {
  "kernelspec": {
   "display_name": "Python 3 (ipykernel)",
   "language": "python",
   "name": "python3"
  },
  "language_info": {
   "codemirror_mode": {
    "name": "ipython",
    "version": 3
   },
   "file_extension": ".py",
   "mimetype": "text/x-python",
   "name": "python",
   "nbconvert_exporter": "python",
   "pygments_lexer": "ipython3",
   "version": "3.9.7"
  }
 },
 "nbformat": 4,
 "nbformat_minor": 5
}
