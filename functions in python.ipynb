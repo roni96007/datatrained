{
 "cells": [
  {
   "cell_type": "code",
   "execution_count": 2,
   "id": "4ab0e306",
   "metadata": {
    "scrolled": true
   },
   "outputs": [
    {
     "name": "stdout",
     "output_type": "stream",
     "text": [
      "Help on built-in function sum in module builtins:\n",
      "\n",
      "sum(iterable, /, start=0)\n",
      "    Return the sum of a 'start' value (default: 0) plus an iterable of numbers\n",
      "    \n",
      "    When the iterable is empty, return the start value.\n",
      "    This function is intended specifically for use with numeric values and may\n",
      "    reject non-numeric types.\n",
      "\n"
     ]
    }
   ],
   "source": [
    "help(sum)"
   ]
  },
  {
   "cell_type": "code",
   "execution_count": 1,
   "id": "3be9f976",
   "metadata": {},
   "outputs": [
    {
     "data": {
      "text/plain": [
       "[215, 30, 40, 60, 885, 1000]"
      ]
     },
     "execution_count": 1,
     "metadata": {},
     "output_type": "execute_result"
    }
   ],
   "source": [
    "s=[215,30,40,60,885,1000]\n",
    "s"
   ]
  },
  {
   "cell_type": "code",
   "execution_count": 2,
   "id": "8fd9e354",
   "metadata": {},
   "outputs": [
    {
     "data": {
      "text/plain": [
       "30"
      ]
     },
     "execution_count": 2,
     "metadata": {},
     "output_type": "execute_result"
    }
   ],
   "source": [
    "min(s)"
   ]
  },
  {
   "cell_type": "markdown",
   "id": "5cbee6ae",
   "metadata": {},
   "source": [
    "# user defined function"
   ]
  },
  {
   "cell_type": "code",
   "execution_count": 3,
   "id": "193bfb86",
   "metadata": {},
   "outputs": [],
   "source": [
    "def function1():\n",
    "    print(\"learning function\")"
   ]
  },
  {
   "cell_type": "code",
   "execution_count": 4,
   "id": "8e03855c",
   "metadata": {
    "scrolled": true
   },
   "outputs": [
    {
     "name": "stdout",
     "output_type": "stream",
     "text": [
      "learning function\n"
     ]
    }
   ],
   "source": [
    "function1()"
   ]
  },
  {
   "cell_type": "code",
   "execution_count": 5,
   "id": "3abfbc67",
   "metadata": {},
   "outputs": [],
   "source": [
    "def function2():\n",
    "    print(\"function ios created\")\n"
   ]
  },
  {
   "cell_type": "code",
   "execution_count": 6,
   "id": "b86909c7",
   "metadata": {},
   "outputs": [
    {
     "name": "stdout",
     "output_type": "stream",
     "text": [
      "function ios created\n"
     ]
    }
   ],
   "source": [
    "function2()"
   ]
  },
  {
   "cell_type": "code",
   "execution_count": 7,
   "id": "de4b1192",
   "metadata": {},
   "outputs": [],
   "source": [
    "def addition():\n",
    "    a=int(input(\"enter any number\"))\n",
    "    b=int(input(\"enter any number\"))\n",
    "    c=a+b\n",
    "    print(\"The Addition is=\", c)"
   ]
  },
  {
   "cell_type": "code",
   "execution_count": 8,
   "id": "27ac60fe",
   "metadata": {},
   "outputs": [
    {
     "name": "stdout",
     "output_type": "stream",
     "text": [
      "enter any number20\n",
      "enter any number20\n",
      "The Addition is= 40\n"
     ]
    }
   ],
   "source": [
    "addition()"
   ]
  },
  {
   "cell_type": "code",
   "execution_count": 9,
   "id": "01241284",
   "metadata": {},
   "outputs": [],
   "source": [
    "def addition1():\n",
    "    a=20\n",
    "    b=25\n",
    "    c=a+b\n",
    "    print(\"the sum of number is\", c)"
   ]
  },
  {
   "cell_type": "code",
   "execution_count": 10,
   "id": "fd555c1f",
   "metadata": {},
   "outputs": [
    {
     "name": "stdout",
     "output_type": "stream",
     "text": [
      "the sum of number is 45\n"
     ]
    }
   ],
   "source": [
    "addition1()"
   ]
  },
  {
   "cell_type": "code",
   "execution_count": 11,
   "id": "caa6dae4",
   "metadata": {},
   "outputs": [],
   "source": [
    "def substraction():\n",
    "    a=int(input(\"enter any number\"))\n",
    "    b=int(input(\"enter any number\"))\n",
    "    c=a-b\n",
    "    print(\"The substraction is=\", c)"
   ]
  },
  {
   "cell_type": "code",
   "execution_count": 12,
   "id": "a36ddecc",
   "metadata": {},
   "outputs": [
    {
     "name": "stdout",
     "output_type": "stream",
     "text": [
      "enter any number20\n",
      "enter any number20\n",
      "The substraction is= 0\n"
     ]
    }
   ],
   "source": [
    "substraction()"
   ]
  },
  {
   "cell_type": "code",
   "execution_count": 13,
   "id": "7320605b",
   "metadata": {},
   "outputs": [],
   "source": [
    "def powerfunction():\n",
    "    a=int(input(\"enter any number\"))\n",
    "    print(\"the square of\", a ,\"is\", a**2)"
   ]
  },
  {
   "cell_type": "code",
   "execution_count": 14,
   "id": "82ea8bb6",
   "metadata": {},
   "outputs": [
    {
     "name": "stdout",
     "output_type": "stream",
     "text": [
      "enter any number2\n",
      "the square of 2 is 4\n"
     ]
    }
   ],
   "source": [
    "powerfunction()"
   ]
  },
  {
   "cell_type": "code",
   "execution_count": 15,
   "id": "04bc6d4e",
   "metadata": {},
   "outputs": [],
   "source": [
    "def shreyasi():\n",
    "    a=int(input(\"enter any Value =  \"))\n",
    "    b=5\n",
    "    c=a*b\n",
    "    print(\"The multiply of two numbers\" ,c)"
   ]
  },
  {
   "cell_type": "code",
   "execution_count": 16,
   "id": "a308c4ff",
   "metadata": {},
   "outputs": [
    {
     "name": "stdout",
     "output_type": "stream",
     "text": [
      "enter any Value =  4\n",
      "The multiply of two numbers 20\n"
     ]
    }
   ],
   "source": [
    "shreyasi()"
   ]
  },
  {
   "cell_type": "code",
   "execution_count": 17,
   "id": "ade8c8ae",
   "metadata": {},
   "outputs": [],
   "source": [
    "def x():\n",
    "    a=int(input(\"enter the number\"))\n",
    "    print(\"the cube of\",a,\"is\",a**3)\n",
    "    "
   ]
  },
  {
   "cell_type": "code",
   "execution_count": 18,
   "id": "791f3e2c",
   "metadata": {},
   "outputs": [
    {
     "name": "stdout",
     "output_type": "stream",
     "text": [
      "enter the number5\n",
      "the cube of 5 is 125\n"
     ]
    }
   ],
   "source": [
    "x()"
   ]
  },
  {
   "cell_type": "code",
   "execution_count": 19,
   "id": "729e635e",
   "metadata": {},
   "outputs": [],
   "source": [
    "def rajdeep():\n",
    "    l=int(input(\"enter any lenght\"))\n",
    "    w=int(input(\"enter any weidth\"))\n",
    "    x=l*w\n",
    "    print(\"area of rectangle\",x)"
   ]
  },
  {
   "cell_type": "code",
   "execution_count": 20,
   "id": "eb234fa0",
   "metadata": {},
   "outputs": [
    {
     "name": "stdout",
     "output_type": "stream",
     "text": [
      "enter any lenght54\n",
      "enter any weidth5\n",
      "area of rectangle 270\n"
     ]
    }
   ],
   "source": [
    "rajdeep()"
   ]
  },
  {
   "cell_type": "code",
   "execution_count": 21,
   "id": "0fea8e2a",
   "metadata": {},
   "outputs": [],
   "source": [
    "def circle_area():\n",
    "    pi=3.14\n",
    "    r=int(input(\"enter radius value\"))\n",
    "    c=pi*r**2\n",
    "    print(\"area of circle\",c)"
   ]
  },
  {
   "cell_type": "code",
   "execution_count": 22,
   "id": "cdbf37b3",
   "metadata": {},
   "outputs": [
    {
     "name": "stdout",
     "output_type": "stream",
     "text": [
      "enter radius value5\n",
      "area of circle 78.5\n"
     ]
    }
   ],
   "source": [
    "circle_area()"
   ]
  },
  {
   "cell_type": "markdown",
   "id": "2e296498",
   "metadata": {},
   "source": [
    "# parametric function"
   ]
  },
  {
   "cell_type": "code",
   "execution_count": 23,
   "id": "461740ea",
   "metadata": {},
   "outputs": [],
   "source": [
    "def addition2(a,b):\n",
    "    c=a+b\n",
    "    print(\"the value of c=\",c)"
   ]
  },
  {
   "cell_type": "code",
   "execution_count": 24,
   "id": "bd7db206",
   "metadata": {},
   "outputs": [
    {
     "name": "stdout",
     "output_type": "stream",
     "text": [
      "the value of c= 11\n"
     ]
    }
   ],
   "source": [
    "a=5\n",
    "b=6\n",
    "addition2(a,b)"
   ]
  },
  {
   "cell_type": "code",
   "execution_count": 47,
   "id": "a840f49c",
   "metadata": {},
   "outputs": [
    {
     "name": "stdout",
     "output_type": "stream",
     "text": [
      "the value of c= 300\n"
     ]
    }
   ],
   "source": [
    "a=100\n",
    "b=200\n",
    "addition2(a,b)"
   ]
  },
  {
   "cell_type": "code",
   "execution_count": 25,
   "id": "662d5e09",
   "metadata": {},
   "outputs": [],
   "source": [
    "def multyfuction(a,b):\n",
    "    c=a*b\n",
    "    print(\"the value of c=\",c)"
   ]
  },
  {
   "cell_type": "code",
   "execution_count": 26,
   "id": "5b788046",
   "metadata": {},
   "outputs": [
    {
     "name": "stdout",
     "output_type": "stream",
     "text": [
      "the value of c= 60\n"
     ]
    }
   ],
   "source": [
    "a=10\n",
    "b=6\n",
    "multyfuction(a,b)"
   ]
  },
  {
   "cell_type": "code",
   "execution_count": 49,
   "id": "5b30599c",
   "metadata": {},
   "outputs": [
    {
     "name": "stdout",
     "output_type": "stream",
     "text": [
      "the value of c= 20\n"
     ]
    }
   ],
   "source": [
    "a=2\n",
    "b=10\n",
    "multyfuction(a,b)"
   ]
  },
  {
   "cell_type": "code",
   "execution_count": 72,
   "id": "a7c74cda",
   "metadata": {},
   "outputs": [],
   "source": [
    "def circlefunction(r):\n",
    "    x=pi*(r**2)\n",
    "    print(\"the circle value x is \",x)"
   ]
  },
  {
   "cell_type": "code",
   "execution_count": 73,
   "id": "2fa6f336",
   "metadata": {},
   "outputs": [
    {
     "name": "stdout",
     "output_type": "stream",
     "text": [
      "the circle value x is  28.26\n"
     ]
    }
   ],
   "source": [
    "pi=3.14\n",
    "r=3\n",
    "circlefunction(r)"
   ]
  },
  {
   "cell_type": "code",
   "execution_count": 76,
   "id": "ba0f8d46",
   "metadata": {},
   "outputs": [],
   "source": [
    "def rectanglefuntion(length,weidth):\n",
    "    y=length*weidth\n",
    "    print(\"the value rentangle is\",y)"
   ]
  },
  {
   "cell_type": "code",
   "execution_count": 77,
   "id": "85cb6e9d",
   "metadata": {},
   "outputs": [
    {
     "name": "stdout",
     "output_type": "stream",
     "text": [
      "the value rentangle is 100\n"
     ]
    }
   ],
   "source": [
    "length=20\n",
    "weidth=5\n",
    "rectanglefuntion(length,weidth)"
   ]
  },
  {
   "cell_type": "code",
   "execution_count": 27,
   "id": "aad29903",
   "metadata": {},
   "outputs": [],
   "source": [
    "def runfor_fuction():\n",
    "    for i in range(1,11):\n",
    "        print(i)"
   ]
  },
  {
   "cell_type": "code",
   "execution_count": 28,
   "id": "02cae4f3",
   "metadata": {},
   "outputs": [
    {
     "name": "stdout",
     "output_type": "stream",
     "text": [
      "1\n",
      "2\n",
      "3\n",
      "4\n",
      "5\n",
      "6\n",
      "7\n",
      "8\n",
      "9\n",
      "10\n"
     ]
    }
   ],
   "source": [
    " runfor_fuction()"
   ]
  },
  {
   "cell_type": "code",
   "execution_count": 29,
   "id": "6a62158d",
   "metadata": {},
   "outputs": [],
   "source": [
    "def add():\n",
    "    a=10\n",
    "    b=6\n",
    "    c=a*b\n",
    "    print(\"the add value is=\",c)"
   ]
  },
  {
   "cell_type": "code",
   "execution_count": 30,
   "id": "ce562a52",
   "metadata": {},
   "outputs": [
    {
     "name": "stdout",
     "output_type": "stream",
     "text": [
      "the add value is= 60\n"
     ]
    }
   ],
   "source": [
    "add()"
   ]
  },
  {
   "cell_type": "code",
   "execution_count": 32,
   "id": "9364c137",
   "metadata": {},
   "outputs": [
    {
     "data": {
      "text/plain": [
       "10"
      ]
     },
     "execution_count": 32,
     "metadata": {},
     "output_type": "execute_result"
    }
   ],
   "source": [
    "a"
   ]
  },
  {
   "cell_type": "code",
   "execution_count": 31,
   "id": "3966ae5f",
   "metadata": {},
   "outputs": [],
   "source": [
    "def add():\n",
    "    a=int(input(\"enter any value\"))\n",
    "    b=int(input(\"enter any value\"))\n",
    "    c=a*b\n",
    "    print(c)"
   ]
  },
  {
   "cell_type": "code",
   "execution_count": 34,
   "id": "59648a91",
   "metadata": {},
   "outputs": [
    {
     "name": "stdout",
     "output_type": "stream",
     "text": [
      "enter any value5\n",
      "enter any value5\n",
      "25\n"
     ]
    }
   ],
   "source": [
    "add()"
   ]
  },
  {
   "cell_type": "code",
   "execution_count": 33,
   "id": "25e3fa71",
   "metadata": {},
   "outputs": [
    {
     "data": {
      "text/plain": [
       "6"
      ]
     },
     "execution_count": 33,
     "metadata": {},
     "output_type": "execute_result"
    }
   ],
   "source": [
    "b"
   ]
  },
  {
   "cell_type": "code",
   "execution_count": 93,
   "id": "b0b525d1",
   "metadata": {},
   "outputs": [
    {
     "name": "stdout",
     "output_type": "stream",
     "text": [
      "222\n"
     ]
    }
   ],
   "source": [
    "def testf():\n",
    "    p=222\n",
    "    print(p)"
   ]
  },
  {
   "cell_type": "code",
   "execution_count": 90,
   "id": "60474ab5",
   "metadata": {},
   "outputs": [
    {
     "name": "stdout",
     "output_type": "stream",
     "text": [
      "222\n"
     ]
    }
   ],
   "source": [
    "testf()"
   ]
  },
  {
   "cell_type": "code",
   "execution_count": 94,
   "id": "26e2ccc7",
   "metadata": {},
   "outputs": [
    {
     "data": {
      "text/plain": [
       "222"
      ]
     },
     "execution_count": 94,
     "metadata": {},
     "output_type": "execute_result"
    }
   ],
   "source": [
    "p"
   ]
  },
  {
   "cell_type": "code",
   "execution_count": 38,
   "id": "67d70da9",
   "metadata": {},
   "outputs": [],
   "source": [
    "def substractor():\n",
    "    a=30\n",
    "    b=20\n",
    "    result=a-b\n",
    "    return result"
   ]
  },
  {
   "cell_type": "code",
   "execution_count": 39,
   "id": "6c5c36b5",
   "metadata": {},
   "outputs": [],
   "source": [
    "result=substractor()"
   ]
  },
  {
   "cell_type": "code",
   "execution_count": 40,
   "id": "8fe5e232",
   "metadata": {},
   "outputs": [
    {
     "data": {
      "text/plain": [
       "10"
      ]
     },
     "execution_count": 40,
     "metadata": {},
     "output_type": "execute_result"
    }
   ],
   "source": [
    "result"
   ]
  },
  {
   "cell_type": "code",
   "execution_count": 87,
   "id": "f387c9d4",
   "metadata": {},
   "outputs": [],
   "source": [
    "def add():\n",
    "    a=20\n",
    "    b=6\n",
    "    result=a+b\n",
    "    return result"
   ]
  },
  {
   "cell_type": "code",
   "execution_count": 88,
   "id": "64c0cf87",
   "metadata": {},
   "outputs": [
    {
     "data": {
      "text/plain": [
       "26"
      ]
     },
     "execution_count": 88,
     "metadata": {},
     "output_type": "execute_result"
    }
   ],
   "source": [
    "result"
   ]
  },
  {
   "cell_type": "code",
   "execution_count": 81,
   "id": "e4d58d2d",
   "metadata": {},
   "outputs": [],
   "source": [
    "res=add()"
   ]
  },
  {
   "cell_type": "code",
   "execution_count": 89,
   "id": "ba81c887",
   "metadata": {},
   "outputs": [
    {
     "data": {
      "text/plain": [
       "26"
      ]
     },
     "execution_count": 89,
     "metadata": {},
     "output_type": "execute_result"
    }
   ],
   "source": [
    "add()"
   ]
  },
  {
   "cell_type": "code",
   "execution_count": 86,
   "id": "1825da1b",
   "metadata": {},
   "outputs": [
    {
     "data": {
      "text/plain": [
       "26"
      ]
     },
     "execution_count": 86,
     "metadata": {},
     "output_type": "execute_result"
    }
   ],
   "source": [
    "res"
   ]
  },
  {
   "cell_type": "code",
   "execution_count": 107,
   "id": "4c37c3ba",
   "metadata": {},
   "outputs": [],
   "source": [
    "def myfunc1(list1):\n",
    "    for i in list1:\n",
    "        print(i)"
   ]
  },
  {
   "cell_type": "code",
   "execution_count": 108,
   "id": "f9f738d1",
   "metadata": {},
   "outputs": [
    {
     "name": "stdout",
     "output_type": "stream",
     "text": [
      "101\n",
      "202\n",
      "303\n",
      "404\n",
      "505\n"
     ]
    }
   ],
   "source": [
    "list1=[101,202,303,404,505]\n",
    "\n",
    "myfunc1(list1)"
   ]
  },
  {
   "cell_type": "code",
   "execution_count": 111,
   "id": "b48e4f52",
   "metadata": {},
   "outputs": [],
   "source": [
    "def fruitfucntion(list2):\n",
    "    for i in list2:\n",
    "         print(i)"
   ]
  },
  {
   "cell_type": "code",
   "execution_count": 113,
   "id": "42170e9d",
   "metadata": {},
   "outputs": [
    {
     "name": "stdout",
     "output_type": "stream",
     "text": [
      "apple\n",
      "beer\n",
      "brocode\n",
      "kingfisher\n",
      "vodka\n"
     ]
    }
   ],
   "source": [
    "list2=[\"apple\",\"beer\",\"brocode\",\"kingfisher\",\"vodka\"]\n",
    "fruitfucntion(list2)"
   ]
  },
  {
   "cell_type": "code",
   "execution_count": 10,
   "id": "8d947be4",
   "metadata": {},
   "outputs": [],
   "source": [
    "def myfunc2():\n",
    "    for i in range(2,15):\n",
    "        print(i)"
   ]
  },
  {
   "cell_type": "code",
   "execution_count": 11,
   "id": "64c89e6a",
   "metadata": {},
   "outputs": [
    {
     "name": "stdout",
     "output_type": "stream",
     "text": [
      "2\n",
      "3\n",
      "4\n",
      "5\n",
      "6\n",
      "7\n",
      "8\n",
      "9\n",
      "10\n",
      "11\n",
      "12\n",
      "13\n",
      "14\n"
     ]
    }
   ],
   "source": [
    "myfunc2()"
   ]
  },
  {
   "cell_type": "code",
   "execution_count": 1,
   "id": "1e0d5d53",
   "metadata": {},
   "outputs": [],
   "source": [
    "def myfunc3():\n",
    "    for i in range(15):\n",
    "        print(i)"
   ]
  },
  {
   "cell_type": "code",
   "execution_count": 2,
   "id": "e9a6b581",
   "metadata": {},
   "outputs": [
    {
     "name": "stdout",
     "output_type": "stream",
     "text": [
      "0\n",
      "1\n",
      "2\n",
      "3\n",
      "4\n",
      "5\n",
      "6\n",
      "7\n",
      "8\n",
      "9\n",
      "10\n",
      "11\n",
      "12\n",
      "13\n",
      "14\n"
     ]
    }
   ],
   "source": [
    "myfunc3()"
   ]
  },
  {
   "cell_type": "code",
   "execution_count": 15,
   "id": "db866afc",
   "metadata": {},
   "outputs": [],
   "source": [
    "def myfunc4():\n",
    "    for i in range(5,30,3):\n",
    "        print(i)"
   ]
  },
  {
   "cell_type": "code",
   "execution_count": 16,
   "id": "097a269b",
   "metadata": {},
   "outputs": [
    {
     "name": "stdout",
     "output_type": "stream",
     "text": [
      "5\n",
      "8\n",
      "11\n",
      "14\n",
      "17\n",
      "20\n",
      "23\n",
      "26\n",
      "29\n"
     ]
    }
   ],
   "source": [
    "myfunc4()"
   ]
  },
  {
   "cell_type": "code",
   "execution_count": 1,
   "id": "7a7f443a",
   "metadata": {},
   "outputs": [],
   "source": [
    "def myfunc5():\n",
    "    for i in range(5,30):\n",
    "        if (i==15):\n",
    "            return\n",
    "        print(i)"
   ]
  },
  {
   "cell_type": "code",
   "execution_count": 2,
   "id": "7097a57f",
   "metadata": {},
   "outputs": [
    {
     "name": "stdout",
     "output_type": "stream",
     "text": [
      "5\n",
      "6\n",
      "7\n",
      "8\n",
      "9\n",
      "10\n",
      "11\n",
      "12\n",
      "13\n",
      "14\n"
     ]
    }
   ],
   "source": [
    "myfunc5()"
   ]
  },
  {
   "cell_type": "code",
   "execution_count": 20,
   "id": "ac527c70",
   "metadata": {},
   "outputs": [],
   "source": [
    "def myfunc6():\n",
    "    for i in range(5,30,3):\n",
    "        if (i==15):\n",
    "            return\n",
    "        print(i)"
   ]
  },
  {
   "cell_type": "code",
   "execution_count": 21,
   "id": "88b74359",
   "metadata": {},
   "outputs": [
    {
     "name": "stdout",
     "output_type": "stream",
     "text": [
      "5\n",
      "8\n",
      "11\n",
      "14\n",
      "17\n",
      "20\n",
      "23\n",
      "26\n",
      "29\n"
     ]
    }
   ],
   "source": [
    "myfunc6()"
   ]
  },
  {
   "cell_type": "code",
   "execution_count": 22,
   "id": "2cec0aa2",
   "metadata": {},
   "outputs": [
    {
     "name": "stdout",
     "output_type": "stream",
     "text": [
      "podu\n"
     ]
    }
   ],
   "source": [
    "print(\"podu\")"
   ]
  },
  {
   "cell_type": "code",
   "execution_count": 26,
   "id": "ea2de8c9",
   "metadata": {},
   "outputs": [],
   "source": [
    "def squaref():\n",
    "    s=7*7\n",
    "    return s\n",
    "    print(\"the value of s is\",s)\n"
   ]
  },
  {
   "cell_type": "code",
   "execution_count": 27,
   "id": "9ec5d2f4",
   "metadata": {},
   "outputs": [
    {
     "data": {
      "text/plain": [
       "49"
      ]
     },
     "execution_count": 27,
     "metadata": {},
     "output_type": "execute_result"
    }
   ],
   "source": [
    "squaref()"
   ]
  },
  {
   "cell_type": "code",
   "execution_count": null,
   "id": "44a21ed9",
   "metadata": {},
   "outputs": [],
   "source": [
    "def squaref():\n",
    "    s=7*7\n",
    "    return \n",
    "    print(\"the value of s is\",s)\n"
   ]
  },
  {
   "cell_type": "code",
   "execution_count": 28,
   "id": "214dcf40",
   "metadata": {},
   "outputs": [
    {
     "data": {
      "text/plain": [
       "49"
      ]
     },
     "execution_count": 28,
     "metadata": {},
     "output_type": "execute_result"
    }
   ],
   "source": [
    "squaref()"
   ]
  },
  {
   "cell_type": "code",
   "execution_count": 29,
   "id": "b6d71225",
   "metadata": {},
   "outputs": [],
   "source": [
    "def innerfunction():\n",
    "    print(\"kolkata is a big city\")"
   ]
  },
  {
   "cell_type": "code",
   "execution_count": 35,
   "id": "c5f806d6",
   "metadata": {},
   "outputs": [],
   "source": [
    "def outerfunction():\n",
    "    innerfunction()"
   ]
  },
  {
   "cell_type": "code",
   "execution_count": 36,
   "id": "f33b8a0c",
   "metadata": {},
   "outputs": [
    {
     "name": "stdout",
     "output_type": "stream",
     "text": [
      "kolkata is a big city\n"
     ]
    }
   ],
   "source": [
    "outerfunction()"
   ]
  },
  {
   "cell_type": "code",
   "execution_count": 37,
   "id": "1947107c",
   "metadata": {},
   "outputs": [],
   "source": [
    "def outerfunction():\n",
    "    print(\"lalgola is a smaill town\")"
   ]
  },
  {
   "cell_type": "code",
   "execution_count": 38,
   "id": "ace1d658",
   "metadata": {},
   "outputs": [],
   "source": [
    "def innerfunction():\n",
    "    outerfunction()"
   ]
  },
  {
   "cell_type": "code",
   "execution_count": 39,
   "id": "260d52f6",
   "metadata": {},
   "outputs": [
    {
     "name": "stdout",
     "output_type": "stream",
     "text": [
      "lalgola is a smaill town\n"
     ]
    }
   ],
   "source": [
    "innerfunction()"
   ]
  },
  {
   "cell_type": "markdown",
   "id": "a780100e",
   "metadata": {},
   "source": [
    "GLOBAL AND LOCAL VARIABLE"
   ]
  },
  {
   "cell_type": "code",
   "execution_count": 1,
   "id": "1edd61ca",
   "metadata": {},
   "outputs": [],
   "source": [
    "p=900 #global variable"
   ]
  },
  {
   "cell_type": "code",
   "execution_count": 2,
   "id": "7bd66be4",
   "metadata": {},
   "outputs": [
    {
     "data": {
      "text/plain": [
       "900"
      ]
     },
     "execution_count": 2,
     "metadata": {},
     "output_type": "execute_result"
    }
   ],
   "source": [
    "p"
   ]
  },
  {
   "cell_type": "code",
   "execution_count": 3,
   "id": "d9ee7e20",
   "metadata": {},
   "outputs": [],
   "source": [
    "def testvar():\n",
    "    p=78 #local variable\n",
    "    print(p)"
   ]
  },
  {
   "cell_type": "code",
   "execution_count": 4,
   "id": "48b2cec3",
   "metadata": {},
   "outputs": [
    {
     "name": "stdout",
     "output_type": "stream",
     "text": [
      "78\n"
     ]
    }
   ],
   "source": [
    "testvar()"
   ]
  },
  {
   "cell_type": "code",
   "execution_count": 5,
   "id": "3b17efd9",
   "metadata": {},
   "outputs": [
    {
     "data": {
      "text/plain": [
       "900"
      ]
     },
     "execution_count": 5,
     "metadata": {},
     "output_type": "execute_result"
    }
   ],
   "source": [
    "p"
   ]
  },
  {
   "cell_type": "code",
   "execution_count": 14,
   "id": "4fd20a2d",
   "metadata": {},
   "outputs": [],
   "source": [
    "def testvar1():\n",
    "    global p\n",
    "    print(p)\n",
    "    p=50\n",
    "    print(p)"
   ]
  },
  {
   "cell_type": "code",
   "execution_count": 16,
   "id": "f79d5c49",
   "metadata": {},
   "outputs": [
    {
     "name": "stdout",
     "output_type": "stream",
     "text": [
      "900\n",
      "50\n"
     ]
    }
   ],
   "source": [
    "testvar1()"
   ]
  },
  {
   "cell_type": "code",
   "execution_count": 17,
   "id": "2ec0141a",
   "metadata": {},
   "outputs": [
    {
     "data": {
      "text/plain": [
       "50"
      ]
     },
     "execution_count": 17,
     "metadata": {},
     "output_type": "execute_result"
    }
   ],
   "source": [
    "p"
   ]
  },
  {
   "cell_type": "code",
   "execution_count": 22,
   "id": "4d3f91f0",
   "metadata": {},
   "outputs": [],
   "source": [
    "def add1(a,b):\n",
    "    result=a+b\n",
    "    print(result)"
   ]
  },
  {
   "cell_type": "code",
   "execution_count": 23,
   "id": "37cb961c",
   "metadata": {},
   "outputs": [
    {
     "name": "stdout",
     "output_type": "stream",
     "text": [
      "25\n"
     ]
    }
   ],
   "source": [
    "a=20\n",
    "b=5\n",
    "add1(a,b)"
   ]
  },
  {
   "cell_type": "code",
   "execution_count": 24,
   "id": "8a46ceb8",
   "metadata": {},
   "outputs": [
    {
     "name": "stdout",
     "output_type": "stream",
     "text": [
      "50\n"
     ]
    }
   ],
   "source": [
    "add1(20,30)"
   ]
  },
  {
   "cell_type": "code",
   "execution_count": 34,
   "id": "c83edc72",
   "metadata": {},
   "outputs": [],
   "source": [
    "def add2(a,b,c):\n",
    "    result=a+b+c\n",
    "    print(result)"
   ]
  },
  {
   "cell_type": "code",
   "execution_count": 35,
   "id": "5899c6cf",
   "metadata": {},
   "outputs": [
    {
     "name": "stdout",
     "output_type": "stream",
     "text": [
      "18\n"
     ]
    }
   ],
   "source": [
    "add2(2,6,10)"
   ]
  },
  {
   "cell_type": "code",
   "execution_count": 42,
   "id": "b133ccb5",
   "metadata": {},
   "outputs": [],
   "source": [
    "def jogfunction(*args):\n",
    "    return sum(args)"
   ]
  },
  {
   "cell_type": "code",
   "execution_count": 43,
   "id": "062c2aad",
   "metadata": {},
   "outputs": [
    {
     "data": {
      "text/plain": [
       "30"
      ]
     },
     "execution_count": 43,
     "metadata": {},
     "output_type": "execute_result"
    }
   ],
   "source": [
    " jogfunction(2,4,5,6,9,4)"
   ]
  },
  {
   "cell_type": "code",
   "execution_count": 44,
   "id": "8aa59643",
   "metadata": {},
   "outputs": [
    {
     "data": {
      "text/plain": [
       "180"
      ]
     },
     "execution_count": 44,
     "metadata": {},
     "output_type": "execute_result"
    }
   ],
   "source": [
    " jogfunction(30,50,100)"
   ]
  },
  {
   "cell_type": "code",
   "execution_count": 46,
   "id": "5dc79836",
   "metadata": {},
   "outputs": [],
   "source": [
    "def sfunction(*args):\n",
    "    return max(args)\n"
   ]
  },
  {
   "cell_type": "code",
   "execution_count": 47,
   "id": "ecf81076",
   "metadata": {},
   "outputs": [
    {
     "data": {
      "text/plain": [
       "254"
      ]
     },
     "execution_count": 47,
     "metadata": {},
     "output_type": "execute_result"
    }
   ],
   "source": [
    "sfunction(30,80,50,100,254,14,60,5)"
   ]
  },
  {
   "cell_type": "code",
   "execution_count": 50,
   "id": "498dac58",
   "metadata": {},
   "outputs": [],
   "source": [
    "def mfunction(*args):\n",
    "    return min(args)"
   ]
  },
  {
   "cell_type": "code",
   "execution_count": 51,
   "id": "4e38e27c",
   "metadata": {},
   "outputs": [
    {
     "data": {
      "text/plain": [
       "5"
      ]
     },
     "execution_count": 51,
     "metadata": {},
     "output_type": "execute_result"
    }
   ],
   "source": [
    "mfunction(5,10,53,766.855,255,100,10)"
   ]
  },
  {
   "cell_type": "code",
   "execution_count": 9,
   "id": "8cf58397",
   "metadata": {},
   "outputs": [],
   "source": [
    "def sumfunc(*numbers):\n",
    "    s=0\n",
    "    for n in numbers:\n",
    "        s=s+n\n",
    "    return s"
   ]
  },
  {
   "cell_type": "code",
   "execution_count": 10,
   "id": "fc995e0d",
   "metadata": {},
   "outputs": [
    {
     "name": "stdout",
     "output_type": "stream",
     "text": [
      "18\n"
     ]
    }
   ],
   "source": [
    "print (sumfunc(5,6,7))"
   ]
  },
  {
   "cell_type": "code",
   "execution_count": 17,
   "id": "bb524775",
   "metadata": {},
   "outputs": [],
   "source": [
    "def subfunc(*numbers):\n",
    "    s=0\n",
    "    for n in numbers:\n",
    "        s=n-s\n",
    "    return s"
   ]
  },
  {
   "cell_type": "code",
   "execution_count": 18,
   "id": "a44ffc9e",
   "metadata": {},
   "outputs": [
    {
     "data": {
      "text/plain": [
       "10"
      ]
     },
     "execution_count": 18,
     "metadata": {},
     "output_type": "execute_result"
    }
   ],
   "source": [
    "subfunc(15,25)"
   ]
  },
  {
   "cell_type": "markdown",
   "id": "23c6732a",
   "metadata": {},
   "source": [
    "lamda function"
   ]
  },
  {
   "cell_type": "code",
   "execution_count": 20,
   "id": "1f18e04d",
   "metadata": {},
   "outputs": [],
   "source": [
    "p=lambda s:(s**2)"
   ]
  },
  {
   "cell_type": "code",
   "execution_count": 21,
   "id": "011badb7",
   "metadata": {},
   "outputs": [
    {
     "data": {
      "text/plain": [
       "25"
      ]
     },
     "execution_count": 21,
     "metadata": {},
     "output_type": "execute_result"
    }
   ],
   "source": [
    "p(5)"
   ]
  },
  {
   "cell_type": "code",
   "execution_count": 24,
   "id": "759a8901",
   "metadata": {},
   "outputs": [],
   "source": [
    "cube=lambda x:x**3"
   ]
  },
  {
   "cell_type": "code",
   "execution_count": 25,
   "id": "67feb23b",
   "metadata": {},
   "outputs": [
    {
     "data": {
      "text/plain": [
       "64"
      ]
     },
     "execution_count": 25,
     "metadata": {},
     "output_type": "execute_result"
    }
   ],
   "source": [
    "cube(4)"
   ]
  },
  {
   "cell_type": "code",
   "execution_count": 34,
   "id": "3ffb2ab2",
   "metadata": {},
   "outputs": [],
   "source": [
    "num1=(lambda x:x/3)"
   ]
  },
  {
   "cell_type": "code",
   "execution_count": 38,
   "id": "c82539b7",
   "metadata": {},
   "outputs": [
    {
     "data": {
      "text/plain": [
       "33"
      ]
     },
     "execution_count": 38,
     "metadata": {},
     "output_type": "execute_result"
    }
   ],
   "source": [
    "round(num1(100))"
   ]
  },
  {
   "cell_type": "code",
   "execution_count": 40,
   "id": "9155fc57",
   "metadata": {},
   "outputs": [],
   "source": [
    "s=lambda x:x*3"
   ]
  },
  {
   "cell_type": "code",
   "execution_count": 41,
   "id": "0ada9821",
   "metadata": {},
   "outputs": [
    {
     "data": {
      "text/plain": [
       "60"
      ]
     },
     "execution_count": 41,
     "metadata": {},
     "output_type": "execute_result"
    }
   ],
   "source": [
    "s(20)"
   ]
  },
  {
   "cell_type": "code",
   "execution_count": 43,
   "id": "9ecd19fe",
   "metadata": {},
   "outputs": [],
   "source": [
    "b=lambda x:x/4"
   ]
  },
  {
   "cell_type": "code",
   "execution_count": 45,
   "id": "e744a930",
   "metadata": {},
   "outputs": [
    {
     "data": {
      "text/plain": [
       "5"
      ]
     },
     "execution_count": 45,
     "metadata": {},
     "output_type": "execute_result"
    }
   ],
   "source": [
    "round(b(20))"
   ]
  },
  {
   "cell_type": "code",
   "execution_count": 22,
   "id": "0e29f0da",
   "metadata": {},
   "outputs": [],
   "source": [
    "squareroot=lambda x:x**(1/2)"
   ]
  },
  {
   "cell_type": "code",
   "execution_count": 24,
   "id": "131b0430",
   "metadata": {},
   "outputs": [
    {
     "data": {
      "text/plain": [
       "8.0"
      ]
     },
     "execution_count": 24,
     "metadata": {},
     "output_type": "execute_result"
    }
   ],
   "source": [
    "squareroot(64)"
   ]
  },
  {
   "cell_type": "code",
   "execution_count": 16,
   "id": "19dd3189",
   "metadata": {},
   "outputs": [
    {
     "data": {
      "text/plain": [
       "5.0"
      ]
     },
     "execution_count": 16,
     "metadata": {},
     "output_type": "execute_result"
    }
   ],
   "source": [
    "squareroot(25)"
   ]
  },
  {
   "cell_type": "code",
   "execution_count": 20,
   "id": "6f780c90",
   "metadata": {},
   "outputs": [],
   "source": [
    "cuberoot=lambda x:x**(1/3)"
   ]
  },
  {
   "cell_type": "code",
   "execution_count": 21,
   "id": "718ed632",
   "metadata": {},
   "outputs": [
    {
     "data": {
      "text/plain": [
       "5.0"
      ]
     },
     "execution_count": 21,
     "metadata": {},
     "output_type": "execute_result"
    }
   ],
   "source": [
    "cuberoot(125)"
   ]
  },
  {
   "cell_type": "code",
   "execution_count": 12,
   "id": "c0a0dc45",
   "metadata": {},
   "outputs": [],
   "source": [
    "t=lambda x,y,z:(x+y+z)"
   ]
  },
  {
   "cell_type": "code",
   "execution_count": 13,
   "id": "31d83c1e",
   "metadata": {},
   "outputs": [
    {
     "data": {
      "text/plain": [
       "12"
      ]
     },
     "execution_count": 13,
     "metadata": {},
     "output_type": "execute_result"
    }
   ],
   "source": [
    "t(3,4,5)"
   ]
  },
  {
   "cell_type": "code",
   "execution_count": 30,
   "id": "cbcde872",
   "metadata": {},
   "outputs": [
    {
     "name": "stdout",
     "output_type": "stream",
     "text": [
      "value of numbers is= 15\n",
      "total= 60\n",
      "value of numbers is= 183\n",
      "value of numbers is= 175\n"
     ]
    }
   ],
   "source": [
    "addnum=lambda a1,b1,c1:(a1+b1+c1)\n",
    "print(\"value of numbers is=\",addnum(2,5,8))\n",
    "print(\"total=\",addnum(10,20,30))\n",
    "print(\"value of numbers is=\",addnum(25,74,84))\n",
    "print(\"value of numbers is=\",addnum(62,85,28))"
   ]
  },
  {
   "cell_type": "markdown",
   "id": "3ae3fb3b",
   "metadata": {},
   "source": [
    "tempurature calculating"
   ]
  },
  {
   "cell_type": "code",
   "execution_count": null,
   "id": "5bbbe32d",
   "metadata": {},
   "outputs": [],
   "source": [
    "#converting celcius to farenheight"
   ]
  },
  {
   "cell_type": "code",
   "execution_count": 51,
   "id": "13f2bd24",
   "metadata": {},
   "outputs": [],
   "source": [
    "def farenheight(t):\n",
    "    return ((9/5)*t +32)"
   ]
  },
  {
   "cell_type": "code",
   "execution_count": 52,
   "id": "87e48861",
   "metadata": {},
   "outputs": [
    {
     "data": {
      "text/plain": [
       "95.0"
      ]
     },
     "execution_count": 52,
     "metadata": {},
     "output_type": "execute_result"
    }
   ],
   "source": [
    "f=farenheight(35)\n",
    "f"
   ]
  },
  {
   "cell_type": "code",
   "execution_count": 47,
   "id": "4542d5bb",
   "metadata": {},
   "outputs": [],
   "source": [
    "#converting farenheight to celcius"
   ]
  },
  {
   "cell_type": "code",
   "execution_count": 55,
   "id": "fbd6b6ad",
   "metadata": {},
   "outputs": [],
   "source": [
    "def celcius(t):\n",
    "    return (t-32)*(5/9)"
   ]
  },
  {
   "cell_type": "code",
   "execution_count": 57,
   "id": "2158daeb",
   "metadata": {},
   "outputs": [
    {
     "data": {
      "text/plain": [
       "35.0"
      ]
     },
     "execution_count": 57,
     "metadata": {},
     "output_type": "execute_result"
    }
   ],
   "source": [
    "c=celcius(95)\n",
    "c"
   ]
  },
  {
   "cell_type": "code",
   "execution_count": 77,
   "id": "590dddde",
   "metadata": {},
   "outputs": [],
   "source": [
    "def tothepwr():\n",
    "    x=int(input(\"Enter value of a Number: \"))\n",
    "    y=int(input(\"Enter to the power value:\"))\n",
    "    result=lambda x,y:x**y\n",
    "    print(result(x,y))"
   ]
  },
  {
   "cell_type": "code",
   "execution_count": 78,
   "id": "bd203f63",
   "metadata": {},
   "outputs": [
    {
     "name": "stdout",
     "output_type": "stream",
     "text": [
      "Enter value of a Number: 8\n",
      "Enter to the power value:6\n",
      "262144\n"
     ]
    }
   ],
   "source": [
    "tothepwr()"
   ]
  },
  {
   "cell_type": "code",
   "execution_count": 81,
   "id": "636f677d",
   "metadata": {},
   "outputs": [],
   "source": [
    "def powerfunc():\n",
    "    a=int(input(\"enter any value\"))\n",
    "    b=int(input(\"enter any value\"))\n",
    "    c=lambda a,b:a**b\n",
    "    print (c(a,b))"
   ]
  },
  {
   "cell_type": "code",
   "execution_count": 82,
   "id": "50e1ff19",
   "metadata": {},
   "outputs": [
    {
     "name": "stdout",
     "output_type": "stream",
     "text": [
      "enter any value5\n",
      "enter any value6\n",
      "15625\n"
     ]
    }
   ],
   "source": [
    "powerfunc()"
   ]
  }
 ],
 "metadata": {
  "kernelspec": {
   "display_name": "Python 3 (ipykernel)",
   "language": "python",
   "name": "python3"
  },
  "language_info": {
   "codemirror_mode": {
    "name": "ipython",
    "version": 3
   },
   "file_extension": ".py",
   "mimetype": "text/x-python",
   "name": "python",
   "nbconvert_exporter": "python",
   "pygments_lexer": "ipython3",
   "version": "3.9.7"
  }
 },
 "nbformat": 4,
 "nbformat_minor": 5
}
