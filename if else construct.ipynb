{
 "cells": [
  {
   "cell_type": "markdown",
   "id": "9e320844",
   "metadata": {},
   "source": [
    "# If else constructs"
   ]
  },
  {
   "cell_type": "code",
   "execution_count": 22,
   "id": "b6ae2f0d",
   "metadata": {},
   "outputs": [
    {
     "name": "stdout",
     "output_type": "stream",
     "text": [
      "good result\n"
     ]
    }
   ],
   "source": [
    "marks=60\n",
    "if (marks>50):\n",
    "    print(\"good result\")\n",
    "else:\n",
    "    print(\"bad result\")"
   ]
  },
  {
   "cell_type": "code",
   "execution_count": 28,
   "id": "4730a97a",
   "metadata": {},
   "outputs": [
    {
     "name": "stdout",
     "output_type": "stream",
     "text": [
      "bad result\n"
     ]
    }
   ],
   "source": [
    "marks=10\n",
    "if (marks<30):\n",
    "    print(\"bad result\")\n",
    "else:\n",
    "    print(\"good result\")"
   ]
  },
  {
   "cell_type": "code",
   "execution_count": 5,
   "id": "cb23f121",
   "metadata": {},
   "outputs": [
    {
     "name": "stdout",
     "output_type": "stream",
     "text": [
      "enter any marks50\n",
      "bad\n"
     ]
    }
   ],
   "source": [
    "marks1=int(input(\"enter any marks\"))\n",
    "if marks1>50:\n",
    "    print(\"good\")\n",
    "else:\n",
    "    print(\"bad\")"
   ]
  },
  {
   "cell_type": "code",
   "execution_count": 12,
   "id": "7507030a",
   "metadata": {},
   "outputs": [
    {
     "name": "stdout",
     "output_type": "stream",
     "text": [
      "enter any marks10\n",
      "good\n"
     ]
    }
   ],
   "source": [
    "marks2=int(input(\"enter any marks\"))\n",
    "if marks2<60:\n",
    "    print(\"good\")\n",
    "else:\n",
    "    print(\"bad\")"
   ]
  },
  {
   "cell_type": "code",
   "execution_count": 1,
   "id": "6841f5d0",
   "metadata": {},
   "outputs": [
    {
     "name": "stdout",
     "output_type": "stream",
     "text": [
      "enter any marks21\n",
      "the numeber is odd\n"
     ]
    }
   ],
   "source": [
    "marks3=int(input(\"enter any marks\"))\n",
    "if marks3%4:\n",
    "    print(\"the numeber is odd\")\n",
    "else:\n",
    "    print(\"the number is even\")"
   ]
  },
  {
   "cell_type": "code",
   "execution_count": 15,
   "id": "b18b49b6",
   "metadata": {},
   "outputs": [
    {
     "name": "stdout",
     "output_type": "stream",
     "text": [
      "enter any marks20\n",
      "the number is odd\n"
     ]
    }
   ],
   "source": [
    "marks4=int(input(\"enter any marks\"))\n",
    "if marks4%2:\n",
    "    print(\"the number is even\")\n",
    "else:\n",
    "    print(\"the number is odd\")"
   ]
  },
  {
   "cell_type": "code",
   "execution_count": 18,
   "id": "4f2731c6",
   "metadata": {},
   "outputs": [
    {
     "name": "stdout",
     "output_type": "stream",
     "text": [
      "enter any marks20\n",
      "the number is even\n"
     ]
    }
   ],
   "source": [
    "marks5=int(input(\"enter any marks\"))\n",
    "if marks5%2==0:\n",
    "    print(\"the number is even\")\n",
    "else:\n",
    "    print(\"the number is odd\")"
   ]
  },
  {
   "cell_type": "code",
   "execution_count": 22,
   "id": "27b7ce7f",
   "metadata": {},
   "outputs": [
    {
     "name": "stdout",
     "output_type": "stream",
     "text": [
      "enter any marks38\n",
      "the number is odd\n"
     ]
    }
   ],
   "source": [
    "marks6=int(input(\"enter any marks\"))\n",
    "if marks6%3!=0:\n",
    "    print(\"the number is odd\")\n",
    "else:\n",
    "    print(\"the number is even\")"
   ]
  },
  {
   "cell_type": "code",
   "execution_count": 30,
   "id": "379a480c",
   "metadata": {},
   "outputs": [
    {
     "name": "stdout",
     "output_type": "stream",
     "text": [
      "enter any marks61\n",
      "the number is odd\n",
      "the end of contrucs\n"
     ]
    }
   ],
   "source": [
    "marks6=int(input(\"enter any marks\"))\n",
    "if marks6%3!=0:\n",
    "    print(\"the number is odd\")\n",
    "else:\n",
    "    print(\"the number is even\")\n",
    "    \n",
    "print(\"the end of contrucs\")"
   ]
  },
  {
   "cell_type": "code",
   "execution_count": 38,
   "id": "7c045571",
   "metadata": {},
   "outputs": [
    {
     "name": "stdout",
     "output_type": "stream",
     "text": [
      "the value250\n",
      "the value of x 250 good\n"
     ]
    }
   ],
   "source": [
    "x=int(input(\"the value\"))\n",
    "if (x>2):\n",
    "    print(\"the value of x\",x,\"good\")\n",
    "else:\n",
    "    print(\"the value of x\",x,\"bad\")"
   ]
  },
  {
   "cell_type": "code",
   "execution_count": 37,
   "id": "30d6e038",
   "metadata": {},
   "outputs": [
    {
     "name": "stdout",
     "output_type": "stream",
     "text": [
      "enter any value55\n",
      "the value of marks7 is  55 the odd numer\n"
     ]
    }
   ],
   "source": [
    "marks7=int(input(\"enter any value\"))\n",
    "if marks7%2==0:\n",
    "    print(\"the value of marks7 is \",marks7,\"the even number\")\n",
    "else:\n",
    "    print(\"the value of marks7 is \",marks7, \"the odd numer\")"
   ]
  },
  {
   "cell_type": "markdown",
   "id": "c9b3367d",
   "metadata": {},
   "source": [
    "# if-else-if elif construct"
   ]
  },
  {
   "cell_type": "code",
   "execution_count": 10,
   "id": "ff2c151b",
   "metadata": {},
   "outputs": [
    {
     "name": "stdout",
     "output_type": "stream",
     "text": [
      "Enter Your Marks:90\n",
      "Your Result Is Excillent\n"
     ]
    }
   ],
   "source": [
    "result=int(input(\"Enter Your Marks:\"))\n",
    "if result>=90:\n",
    "    print(\"Your Result Is Excillent\")\n",
    "elif(result<90 and result>=70):\n",
    "    print(\"Your Result Is Very Good\")\n",
    "elif(result<70 and result>=50):\n",
    "    print(\"Your Result Is Good\")\n",
    "elif(result<50 and result>=25):\n",
    "    print(\"Your Result is Avarage\")\n",
    "else:\n",
    "    print(\"you are Fail\")"
   ]
  },
  {
   "cell_type": "code",
   "execution_count": 24,
   "id": "39c1bf26",
   "metadata": {},
   "outputs": [
    {
     "name": "stdout",
     "output_type": "stream",
     "text": [
      "enter the value is: 9.3\n",
      "the grade is AA\n"
     ]
    }
   ],
   "source": [
    "grade=float(input(\"enter the value is: \"))\n",
    "if grade>=9.00:\n",
    "    print(\"the grade is AA\")\n",
    "elif(grade<9.00 and grade>=8.00):   \n",
    "    print(\"the grade is A+\")\n",
    "elif(grade<8.00 and grade>=7.00):\n",
    "    print(\"the grade is A\")\n",
    "elif(grade<7.00 and grade>=5.00):\n",
    "    print(\"the grade is B+\")\n",
    "elif(grade<5.00 and grade>=4.00):\n",
    "    print(\"the grade is B\")\n",
    "else:\n",
    "    print(\"the grade is F\")"
   ]
  },
  {
   "cell_type": "markdown",
   "id": "5dd3152f",
   "metadata": {},
   "source": [
    "# Break"
   ]
  },
  {
   "cell_type": "code",
   "execution_count": 39,
   "id": "0ad2b0a4",
   "metadata": {},
   "outputs": [
    {
     "name": "stdout",
     "output_type": "stream",
     "text": [
      "1\n",
      "2\n",
      "3\n",
      "4\n",
      "5\n",
      "6\n",
      "7\n"
     ]
    }
   ],
   "source": [
    "for s in [1,2,3,4,5,6,7]:\n",
    "    print(s)"
   ]
  },
  {
   "cell_type": "code",
   "execution_count": 46,
   "id": "3e3bd3eb",
   "metadata": {},
   "outputs": [
    {
     "name": "stdout",
     "output_type": "stream",
     "text": [
      "10\n",
      "12\n",
      "13\n",
      "14\n"
     ]
    }
   ],
   "source": [
    "for p in [10,12,13,14,15,16]:\n",
    "    if p==15:\n",
    "        break\n",
    "    print(p)\n",
    "    \n",
    "    "
   ]
  },
  {
   "cell_type": "code",
   "execution_count": 49,
   "id": "f1cc9ff4",
   "metadata": {},
   "outputs": [
    {
     "name": "stdout",
     "output_type": "stream",
     "text": [
      "podu\n",
      "babu\n",
      "bebo\n",
      "sonu\n"
     ]
    }
   ],
   "source": [
    "for rajdeep in [\"podu\",\"babu\",\"bebo\",\"sonu\",\"my love\",\"bc\"]:\n",
    "    if rajdeep==\"my love\":\n",
    "        break\n",
    "    print(rajdeep)"
   ]
  },
  {
   "cell_type": "markdown",
   "id": "3db50fcf",
   "metadata": {},
   "source": [
    "# CONTINUE"
   ]
  },
  {
   "cell_type": "code",
   "execution_count": 62,
   "id": "d24f2291",
   "metadata": {},
   "outputs": [
    {
     "name": "stdout",
     "output_type": "stream",
     "text": [
      "10\n",
      "12\n",
      "13\n",
      "14\n",
      "16\n"
     ]
    }
   ],
   "source": [
    "for p in [10,12,13,14,15,16]:\n",
    "    if p==15:\n",
    "        continue\n",
    "    print(p)\n",
    "    "
   ]
  },
  {
   "cell_type": "code",
   "execution_count": 61,
   "id": "7213e543",
   "metadata": {},
   "outputs": [
    {
     "name": "stdout",
     "output_type": "stream",
     "text": [
      "podu\n",
      "babu\n",
      "bebo\n",
      "sonu\n",
      "bc\n"
     ]
    }
   ],
   "source": [
    "for roni in [\"podu\",\"babu\",\"bebo\",\"sonu\",\"my love\",\"bc\"]:\n",
    "    if roni==\"my love\":\n",
    "        continue\n",
    "    print(roni)"
   ]
  },
  {
   "cell_type": "markdown",
   "id": "f807bad1",
   "metadata": {},
   "source": [
    "# Range"
   ]
  },
  {
   "cell_type": "code",
   "execution_count": 1,
   "id": "4c368e47",
   "metadata": {},
   "outputs": [
    {
     "data": {
      "text/plain": [
       "[0, 1, 2, 3, 4]"
      ]
     },
     "execution_count": 1,
     "metadata": {},
     "output_type": "execute_result"
    }
   ],
   "source": [
    "list(range(0,5))"
   ]
  },
  {
   "cell_type": "code",
   "execution_count": 5,
   "id": "7f5a36ed",
   "metadata": {},
   "outputs": [
    {
     "name": "stdout",
     "output_type": "stream",
     "text": [
      "1\n",
      "2\n",
      "3\n",
      "4\n",
      "5\n",
      "6\n",
      "7\n",
      "8\n",
      "9\n"
     ]
    }
   ],
   "source": [
    "for b in (range(1,10)):\n",
    "    print(b)"
   ]
  },
  {
   "cell_type": "code",
   "execution_count": 8,
   "id": "53778a07",
   "metadata": {},
   "outputs": [
    {
     "name": "stdout",
     "output_type": "stream",
     "text": [
      "6\n",
      "7\n",
      "8\n",
      "9\n",
      "10\n",
      "11\n",
      "12\n",
      "13\n",
      "14\n",
      "15\n",
      "16\n",
      "17\n",
      "18\n",
      "19\n"
     ]
    }
   ],
   "source": [
    "for k in (range(6,20)):\n",
    "    print(k)"
   ]
  }
 ],
 "metadata": {
  "kernelspec": {
   "display_name": "Python 3 (ipykernel)",
   "language": "python",
   "name": "python3"
  },
  "language_info": {
   "codemirror_mode": {
    "name": "ipython",
    "version": 3
   },
   "file_extension": ".py",
   "mimetype": "text/x-python",
   "name": "python",
   "nbconvert_exporter": "python",
   "pygments_lexer": "ipython3",
   "version": "3.9.7"
  }
 },
 "nbformat": 4,
 "nbformat_minor": 5
}
