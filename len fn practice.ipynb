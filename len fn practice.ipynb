{
 "cells": [
  {
   "cell_type": "markdown",
   "id": "c4083574",
   "metadata": {},
   "source": [
    "discuss about length"
   ]
  },
  {
   "cell_type": "code",
   "execution_count": 8,
   "id": "0e3180c3",
   "metadata": {},
   "outputs": [
    {
     "data": {
      "text/plain": [
       "8"
      ]
     },
     "execution_count": 8,
     "metadata": {},
     "output_type": "execute_result"
    }
   ],
   "source": [
    "len(\"Shreyasi\")"
   ]
  },
  {
   "cell_type": "code",
   "execution_count": 10,
   "id": "d81cdca6",
   "metadata": {},
   "outputs": [
    {
     "data": {
      "text/plain": [
       "7"
      ]
     },
     "execution_count": 10,
     "metadata": {},
     "output_type": "execute_result"
    }
   ],
   "source": [
    "len(\"Rajdeep\")"
   ]
  },
  {
   "cell_type": "code",
   "execution_count": 11,
   "id": "a67b6a65",
   "metadata": {},
   "outputs": [],
   "source": [
    "city=(\"lalgola\")"
   ]
  },
  {
   "cell_type": "code",
   "execution_count": 12,
   "id": "97ab5fa1",
   "metadata": {},
   "outputs": [
    {
     "data": {
      "text/plain": [
       "'lalgola'"
      ]
     },
     "execution_count": 12,
     "metadata": {},
     "output_type": "execute_result"
    }
   ],
   "source": [
    "city"
   ]
  },
  {
   "cell_type": "code",
   "execution_count": 13,
   "id": "a209bc03",
   "metadata": {},
   "outputs": [
    {
     "data": {
      "text/plain": [
       "4"
      ]
     },
     "execution_count": 13,
     "metadata": {},
     "output_type": "execute_result"
    }
   ],
   "source": [
    "len(\"city\")"
   ]
  },
  {
   "cell_type": "code",
   "execution_count": 14,
   "id": "3ec9fe18",
   "metadata": {},
   "outputs": [
    {
     "data": {
      "text/plain": [
       "7"
      ]
     },
     "execution_count": 14,
     "metadata": {},
     "output_type": "execute_result"
    }
   ],
   "source": [
    "len(city)"
   ]
  }
 ],
 "metadata": {
  "kernelspec": {
   "display_name": "Python 3 (ipykernel)",
   "language": "python",
   "name": "python3"
  },
  "language_info": {
   "codemirror_mode": {
    "name": "ipython",
    "version": 3
   },
   "file_extension": ".py",
   "mimetype": "text/x-python",
   "name": "python",
   "nbconvert_exporter": "python",
   "pygments_lexer": "ipython3",
   "version": "3.9.7"
  }
 },
 "nbformat": 4,
 "nbformat_minor": 5
}
