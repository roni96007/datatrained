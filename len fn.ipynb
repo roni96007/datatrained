{
 "cells": [
  {
   "cell_type": "markdown",
   "id": "97cdc3c0",
   "metadata": {},
   "source": [
    "discuss about len"
   ]
  },
  {
   "cell_type": "code",
   "execution_count": 1,
   "id": "77d775d1",
   "metadata": {},
   "outputs": [
    {
     "data": {
      "text/plain": [
       "8"
      ]
     },
     "execution_count": 1,
     "metadata": {},
     "output_type": "execute_result"
    }
   ],
   "source": [
    "len(\"Shreyasi\")"
   ]
  },
  {
   "cell_type": "code",
   "execution_count": 5,
   "id": "deedef78",
   "metadata": {},
   "outputs": [],
   "source": [
    "city='maldives'"
   ]
  },
  {
   "cell_type": "code",
   "execution_count": 6,
   "id": "15ebcb7c",
   "metadata": {
    "scrolled": true
   },
   "outputs": [
    {
     "data": {
      "text/plain": [
       "'maldives'"
      ]
     },
     "execution_count": 6,
     "metadata": {},
     "output_type": "execute_result"
    }
   ],
   "source": [
    "city"
   ]
  },
  {
   "cell_type": "code",
   "execution_count": 9,
   "id": "0ab1a896",
   "metadata": {},
   "outputs": [
    {
     "data": {
      "text/plain": [
       "'Kolkata'"
      ]
     },
     "execution_count": 9,
     "metadata": {},
     "output_type": "execute_result"
    }
   ],
   "source": [
    "city1 = 'Kolkata'\n",
    "city1"
   ]
  },
  {
   "cell_type": "code",
   "execution_count": 10,
   "id": "56388ce7",
   "metadata": {},
   "outputs": [
    {
     "data": {
      "text/plain": [
       "7"
      ]
     },
     "execution_count": 10,
     "metadata": {},
     "output_type": "execute_result"
    }
   ],
   "source": [
    "len(city1)"
   ]
  },
  {
   "cell_type": "code",
   "execution_count": 13,
   "id": "b51e6a79",
   "metadata": {},
   "outputs": [
    {
     "data": {
      "text/plain": [
       "'Delhi'"
      ]
     },
     "execution_count": 13,
     "metadata": {},
     "output_type": "execute_result"
    }
   ],
   "source": [
    "city2=\"Delhi\"\n",
    "city2"
   ]
  },
  {
   "cell_type": "code",
   "execution_count": 14,
   "id": "d573dfa3",
   "metadata": {},
   "outputs": [
    {
     "data": {
      "text/plain": [
       "5"
      ]
     },
     "execution_count": 14,
     "metadata": {},
     "output_type": "execute_result"
    }
   ],
   "source": [
    "len(city2)"
   ]
  },
  {
   "cell_type": "code",
   "execution_count": 17,
   "id": "6f0de81e",
   "metadata": {},
   "outputs": [
    {
     "data": {
      "text/plain": [
       "'Singapore'"
      ]
     },
     "execution_count": 17,
     "metadata": {},
     "output_type": "execute_result"
    }
   ],
   "source": [
    "city3=\"Singapore\"\n",
    "city3"
   ]
  },
  {
   "cell_type": "code",
   "execution_count": 18,
   "id": "e86bb68a",
   "metadata": {},
   "outputs": [
    {
     "data": {
      "text/plain": [
       "9"
      ]
     },
     "execution_count": 18,
     "metadata": {},
     "output_type": "execute_result"
    }
   ],
   "source": [
    "len(city3)"
   ]
  },
  {
   "cell_type": "markdown",
   "id": "9f2e973b",
   "metadata": {},
   "source": [
    "area of rectangle"
   ]
  },
  {
   "cell_type": "code",
   "execution_count": 19,
   "id": "5c5a1af9",
   "metadata": {},
   "outputs": [
    {
     "name": "stdout",
     "output_type": "stream",
     "text": [
      "180\n"
     ]
    }
   ],
   "source": [
    "length=30\n",
    "breadth=6\n",
    "area=length*breadth\n",
    "print(area)"
   ]
  },
  {
   "cell_type": "code",
   "execution_count": 20,
   "id": "5ffb3439",
   "metadata": {},
   "outputs": [
    {
     "name": "stdout",
     "output_type": "stream",
     "text": [
      "area of rsctangle= 180\n"
     ]
    }
   ],
   "source": [
    "print(\"area of rsctangle=\", area)"
   ]
  },
  {
   "cell_type": "code",
   "execution_count": 25,
   "id": "875789ee",
   "metadata": {},
   "outputs": [
    {
     "name": "stdout",
     "output_type": "stream",
     "text": [
      "area of rectangle with length= 30  and breadth= 6 is  180\n"
     ]
    }
   ],
   "source": [
    "print(\"area of rectangle with length=\",length, \" and breadth=\",breadth, \"is \",area)"
   ]
  },
  {
   "cell_type": "raw",
   "id": "1821128f",
   "metadata": {},
   "source": [
    "print(\"area of rectangle with length=\",length)"
   ]
  },
  {
   "cell_type": "code",
   "execution_count": 26,
   "id": "482e6ae0",
   "metadata": {},
   "outputs": [
    {
     "name": "stdout",
     "output_type": "stream",
     "text": [
      "area of rectangle with lendth= 30\n"
     ]
    }
   ],
   "source": [
    "print(\"area of rectangle with lendth=\",length)"
   ]
  }
 ],
 "metadata": {
  "kernelspec": {
   "display_name": "Python 3 (ipykernel)",
   "language": "python",
   "name": "python3"
  },
  "language_info": {
   "codemirror_mode": {
    "name": "ipython",
    "version": 3
   },
   "file_extension": ".py",
   "mimetype": "text/x-python",
   "name": "python",
   "nbconvert_exporter": "python",
   "pygments_lexer": "ipython3",
   "version": "3.9.7"
  }
 },
 "nbformat": 4,
 "nbformat_minor": 5
}
