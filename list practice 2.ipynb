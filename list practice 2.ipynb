{
 "cells": [
  {
   "cell_type": "code",
   "execution_count": 1,
   "id": "4441356b",
   "metadata": {},
   "outputs": [],
   "source": [
    "list1=[1,2,3,4,5]\n",
    "list1.append(6)"
   ]
  },
  {
   "cell_type": "code",
   "execution_count": 3,
   "id": "4e48efb6",
   "metadata": {},
   "outputs": [
    {
     "data": {
      "text/plain": [
       "[1, 2, 3, 4, 5, 6]"
      ]
     },
     "execution_count": 3,
     "metadata": {},
     "output_type": "execute_result"
    }
   ],
   "source": [
    "list1"
   ]
  },
  {
   "cell_type": "code",
   "execution_count": 5,
   "id": "cab06158",
   "metadata": {},
   "outputs": [],
   "source": [
    "list2=[\"Mango\", \"Banana\",\"Apple\", \"Guava\"]"
   ]
  },
  {
   "cell_type": "code",
   "execution_count": 6,
   "id": "a32df71b",
   "metadata": {},
   "outputs": [],
   "source": [
    "list2.append(\"Grapes\")"
   ]
  },
  {
   "cell_type": "code",
   "execution_count": 7,
   "id": "affa99be",
   "metadata": {},
   "outputs": [
    {
     "data": {
      "text/plain": [
       "['Mango', 'Banana', 'Apple', 'Guava', 'Grapes']"
      ]
     },
     "execution_count": 7,
     "metadata": {},
     "output_type": "execute_result"
    }
   ],
   "source": [
    "list2"
   ]
  },
  {
   "cell_type": "code",
   "execution_count": 8,
   "id": "f0682f33",
   "metadata": {},
   "outputs": [
    {
     "data": {
      "text/plain": [
       "5"
      ]
     },
     "execution_count": 8,
     "metadata": {},
     "output_type": "execute_result"
    }
   ],
   "source": [
    "len(list2)"
   ]
  },
  {
   "cell_type": "code",
   "execution_count": 10,
   "id": "91e8e3a9",
   "metadata": {},
   "outputs": [
    {
     "data": {
      "text/plain": [
       "'Guava'"
      ]
     },
     "execution_count": 10,
     "metadata": {},
     "output_type": "execute_result"
    }
   ],
   "source": [
    "list2[3]"
   ]
  },
  {
   "cell_type": "code",
   "execution_count": 17,
   "id": "7adb34ab",
   "metadata": {},
   "outputs": [],
   "source": [
    "list2.sort()"
   ]
  },
  {
   "cell_type": "code",
   "execution_count": 18,
   "id": "3e72d706",
   "metadata": {},
   "outputs": [
    {
     "data": {
      "text/plain": [
       "['Apple', 'Banana', 'Grapes', 'Guava', 'Mango']"
      ]
     },
     "execution_count": 18,
     "metadata": {},
     "output_type": "execute_result"
    }
   ],
   "source": [
    "list2"
   ]
  },
  {
   "cell_type": "code",
   "execution_count": 19,
   "id": "c9d0490d",
   "metadata": {},
   "outputs": [],
   "source": [
    "list2.reverse()"
   ]
  },
  {
   "cell_type": "code",
   "execution_count": 20,
   "id": "9d15c361",
   "metadata": {},
   "outputs": [
    {
     "data": {
      "text/plain": [
       "['Mango', 'Guava', 'Grapes', 'Banana', 'Apple']"
      ]
     },
     "execution_count": 20,
     "metadata": {},
     "output_type": "execute_result"
    }
   ],
   "source": [
    "list2"
   ]
  },
  {
   "cell_type": "code",
   "execution_count": 22,
   "id": "acb777c5",
   "metadata": {},
   "outputs": [
    {
     "data": {
      "text/plain": [
       "2"
      ]
     },
     "execution_count": 22,
     "metadata": {},
     "output_type": "execute_result"
    }
   ],
   "source": [
    "list2.index(\"Grapes\")"
   ]
  },
  {
   "cell_type": "code",
   "execution_count": 24,
   "id": "a705a866",
   "metadata": {},
   "outputs": [],
   "source": [
    "list2.append(\"Kiwi\")"
   ]
  },
  {
   "cell_type": "code",
   "execution_count": 28,
   "id": "ccebebbe",
   "metadata": {},
   "outputs": [],
   "source": [
    "list2.sort()"
   ]
  },
  {
   "cell_type": "code",
   "execution_count": 29,
   "id": "815fe3bb",
   "metadata": {},
   "outputs": [
    {
     "data": {
      "text/plain": [
       "['Apple', 'Banana', 'Grapes', 'Guava', 'Kiwi', 'Mango']"
      ]
     },
     "execution_count": 29,
     "metadata": {},
     "output_type": "execute_result"
    }
   ],
   "source": [
    "list2"
   ]
  },
  {
   "cell_type": "code",
   "execution_count": 64,
   "id": "7f320d14",
   "metadata": {},
   "outputs": [],
   "source": [
    "newlist2=[\"Lemon\",\"Pineapple\", \"orange\"]"
   ]
  },
  {
   "cell_type": "code",
   "execution_count": 66,
   "id": "cfee44ed",
   "metadata": {},
   "outputs": [
    {
     "data": {
      "text/plain": [
       "['Lemon', 'Pineapple', 'orange']"
      ]
     },
     "execution_count": 66,
     "metadata": {},
     "output_type": "execute_result"
    }
   ],
   "source": [
    "newlist2"
   ]
  },
  {
   "cell_type": "code",
   "execution_count": 71,
   "id": "603d05af",
   "metadata": {
    "scrolled": true
   },
   "outputs": [
    {
     "data": {
      "text/plain": [
       "['Apple',\n",
       " 'Banana',\n",
       " 'Grapes',\n",
       " 'Guava',\n",
       " 'Kiwi',\n",
       " 'Lemon',\n",
       " 'Mango',\n",
       " 'Pineapple',\n",
       " 'w',\n",
       " 'a',\n",
       " 't',\n",
       " 'e',\n",
       " 'r',\n",
       " 'm',\n",
       " 'e',\n",
       " 'l',\n",
       " 'o',\n",
       " 'n',\n",
       " 'watermelon',\n",
       " 'Orange',\n",
       " 'Orange',\n",
       " 'Orange',\n",
       " 'Orange',\n",
       " 'Orange',\n",
       " 'orange',\n",
       " 'o',\n",
       " 'r',\n",
       " 'a',\n",
       " 'n',\n",
       " 'g',\n",
       " 'e',\n",
       " 'Lemon',\n",
       " 'Pineapple',\n",
       " 'Lemon',\n",
       " 'Pineapple',\n",
       " ['Lemon', 'Pineapple', 'orange'],\n",
       " 'Lemon',\n",
       " 'Pineapple',\n",
       " 'orange']"
      ]
     },
     "execution_count": 71,
     "metadata": {},
     "output_type": "execute_result"
    }
   ],
   "source": [
    "list2"
   ]
  },
  {
   "cell_type": "code",
   "execution_count": 74,
   "id": "4e8500e5",
   "metadata": {},
   "outputs": [
    {
     "data": {
      "text/plain": [
       "'Grapes'"
      ]
     },
     "execution_count": 74,
     "metadata": {},
     "output_type": "execute_result"
    }
   ],
   "source": [
    "list2.pop(2)"
   ]
  },
  {
   "cell_type": "code",
   "execution_count": 75,
   "id": "c90a42ae",
   "metadata": {},
   "outputs": [
    {
     "data": {
      "text/plain": [
       "['Apple',\n",
       " 'Banana',\n",
       " 'Guava',\n",
       " 'Kiwi',\n",
       " 'Lemon',\n",
       " 'Mango',\n",
       " 'Pineapple',\n",
       " 'w',\n",
       " 'a',\n",
       " 'e',\n",
       " 'r',\n",
       " 'm',\n",
       " 'e',\n",
       " 'l',\n",
       " 'o',\n",
       " 'n',\n",
       " 'watermelon',\n",
       " 'Orange',\n",
       " 'Orange',\n",
       " 'Orange',\n",
       " 'Orange',\n",
       " 'Orange',\n",
       " 'orange',\n",
       " 'o',\n",
       " 'r',\n",
       " 'a',\n",
       " 'n',\n",
       " 'g',\n",
       " 'e',\n",
       " 'Lemon',\n",
       " 'Pineapple',\n",
       " 'Lemon',\n",
       " 'Pineapple',\n",
       " ['Lemon', 'Pineapple', 'orange'],\n",
       " 'Lemon',\n",
       " 'Pineapple',\n",
       " 'orange']"
      ]
     },
     "execution_count": 75,
     "metadata": {},
     "output_type": "execute_result"
    }
   ],
   "source": [
    "list2"
   ]
  },
  {
   "cell_type": "code",
   "execution_count": 77,
   "id": "913c6ba8",
   "metadata": {},
   "outputs": [
    {
     "data": {
      "text/plain": [
       "37"
      ]
     },
     "execution_count": 77,
     "metadata": {},
     "output_type": "execute_result"
    }
   ],
   "source": [
    "len(list2)"
   ]
  }
 ],
 "metadata": {
  "kernelspec": {
   "display_name": "Python 3 (ipykernel)",
   "language": "python",
   "name": "python3"
  },
  "language_info": {
   "codemirror_mode": {
    "name": "ipython",
    "version": 3
   },
   "file_extension": ".py",
   "mimetype": "text/x-python",
   "name": "python",
   "nbconvert_exporter": "python",
   "pygments_lexer": "ipython3",
   "version": "3.9.7"
  }
 },
 "nbformat": 4,
 "nbformat_minor": 5
}
