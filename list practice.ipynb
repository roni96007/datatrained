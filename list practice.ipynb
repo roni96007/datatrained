{
 "cells": [
  {
   "cell_type": "code",
   "execution_count": 2,
   "id": "66607b40",
   "metadata": {},
   "outputs": [
    {
     "name": "stdout",
     "output_type": "stream",
     "text": [
      "[1, 2, 3, 4]\n"
     ]
    }
   ],
   "source": [
    "list1=[1,2,3,4]\n",
    "print(list1)"
   ]
  },
  {
   "cell_type": "code",
   "execution_count": 12,
   "id": "a1e93c24",
   "metadata": {},
   "outputs": [
    {
     "name": "stdout",
     "output_type": "stream",
     "text": [
      "['A', 'B', 'C']\n"
     ]
    }
   ],
   "source": [
    "list2=['A','B','C','D']\n",
    "print(list2[0:3])"
   ]
  },
  {
   "cell_type": "code",
   "execution_count": 27,
   "id": "cfe2c58d",
   "metadata": {},
   "outputs": [
    {
     "data": {
      "text/plain": [
       "[8.1, 4.3]"
      ]
     },
     "execution_count": 27,
     "metadata": {},
     "output_type": "execute_result"
    }
   ],
   "source": [
    "list3=[6.3,8.1,4.3,5.6]\n",
    "# print(list3[0:3])\n",
    "list3[1:3]"
   ]
  },
  {
   "cell_type": "code",
   "execution_count": 20,
   "id": "fd1b1f64",
   "metadata": {},
   "outputs": [
    {
     "name": "stdout",
     "output_type": "stream",
     "text": [
      "[30, 40, 50]\n"
     ]
    }
   ],
   "source": [
    "list4=[10,20,30,40,50,60,70,80]\n",
    "print(list4[2:5])"
   ]
  },
  {
   "cell_type": "code",
   "execution_count": 32,
   "id": "8d8c818c",
   "metadata": {},
   "outputs": [
    {
     "name": "stdout",
     "output_type": "stream",
     "text": [
      "[10, 20, 30, 40, 50, 60]\n"
     ]
    }
   ],
   "source": [
    "print(list4[:-2])"
   ]
  }
 ],
 "metadata": {
  "kernelspec": {
   "display_name": "Python 3 (ipykernel)",
   "language": "python",
   "name": "python3"
  },
  "language_info": {
   "codemirror_mode": {
    "name": "ipython",
    "version": 3
   },
   "file_extension": ".py",
   "mimetype": "text/x-python",
   "name": "python",
   "nbconvert_exporter": "python",
   "pygments_lexer": "ipython3",
   "version": "3.9.7"
  }
 },
 "nbformat": 4,
 "nbformat_minor": 5
}
