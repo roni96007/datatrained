{
 "cells": [
  {
   "cell_type": "markdown",
   "id": "f7511bf0",
   "metadata": {},
   "source": [
    "# data structure\n",
    "list"
   ]
  },
  {
   "cell_type": "code",
   "execution_count": 6,
   "id": "0918b279",
   "metadata": {},
   "outputs": [
    {
     "data": {
      "text/plain": [
       "[1, 2, 3, 4, 5]"
      ]
     },
     "execution_count": 6,
     "metadata": {},
     "output_type": "execute_result"
    }
   ],
   "source": [
    "list1=[1,2,3,4]\n",
    "list1.append(5)\n",
    "list1"
   ]
  },
  {
   "cell_type": "code",
   "execution_count": 10,
   "id": "378baf7c",
   "metadata": {},
   "outputs": [
    {
     "data": {
      "text/plain": [
       "[1, 2, 3, 4, 5, 6, 6]"
      ]
     },
     "execution_count": 10,
     "metadata": {},
     "output_type": "execute_result"
    }
   ],
   "source": [
    "list1.append(6,)\n",
    "list1"
   ]
  },
  {
   "cell_type": "code",
   "execution_count": 36,
   "id": "ae8fc4f1",
   "metadata": {},
   "outputs": [
    {
     "data": {
      "text/plain": [
       "['gauva']"
      ]
     },
     "execution_count": 36,
     "metadata": {},
     "output_type": "execute_result"
    }
   ],
   "source": [
    "listfruit=[\"apple\",\"banana\",\"gauva\",\"pinapple\"]\n",
    "listfruit.append(\"licchi\")\n",
    "listfruit\n",
    "listfruit[0:3]\n",
    "listfruit[-3:-2]\n",
    "listfruit[2:3]"
   ]
  },
  {
   "cell_type": "code",
   "execution_count": 38,
   "id": "1d759c1e",
   "metadata": {},
   "outputs": [
    {
     "data": {
      "text/plain": [
       "['apple',\n",
       " 'watermelon',\n",
       " 'cucumber',\n",
       " 'watermelon',\n",
       " 'cucumber',\n",
       " 'banana',\n",
       " 'gauva',\n",
       " 'pinapple',\n",
       " 'licchi']"
      ]
     },
     "execution_count": 38,
     "metadata": {},
     "output_type": "execute_result"
    }
   ],
   "source": [
    "listfruit.insert(1,\"watermelon\")\n",
    "listfruit\n",
    "listfruit.insert(2,\"cucumber\")\n",
    "listfruit"
   ]
  },
  {
   "cell_type": "code",
   "execution_count": 45,
   "id": "2a42553c",
   "metadata": {},
   "outputs": [
    {
     "data": {
      "text/plain": [
       "2"
      ]
     },
     "execution_count": 45,
     "metadata": {},
     "output_type": "execute_result"
    }
   ],
   "source": [
    "listfruit.index(\"cucumber\")\n"
   ]
  },
  {
   "cell_type": "code",
   "execution_count": 49,
   "id": "ef4dc52f",
   "metadata": {},
   "outputs": [
    {
     "data": {
      "text/plain": [
       "['apple',\n",
       " 'banana',\n",
       " 'cucumber',\n",
       " 'cucumber',\n",
       " 'gauva',\n",
       " 'licchi',\n",
       " 'pinapple',\n",
       " 'watermelon',\n",
       " 'watermelon']"
      ]
     },
     "execution_count": 49,
     "metadata": {},
     "output_type": "execute_result"
    }
   ],
   "source": [
    "listfruit.sort()\n",
    "listfruit"
   ]
  },
  {
   "cell_type": "code",
   "execution_count": 50,
   "id": "9bb6a81b",
   "metadata": {},
   "outputs": [
    {
     "data": {
      "text/plain": [
       "['watermelon',\n",
       " 'watermelon',\n",
       " 'pinapple',\n",
       " 'licchi',\n",
       " 'gauva',\n",
       " 'cucumber',\n",
       " 'cucumber',\n",
       " 'banana',\n",
       " 'apple']"
      ]
     },
     "execution_count": 50,
     "metadata": {},
     "output_type": "execute_result"
    }
   ],
   "source": [
    "listfruit.reverse()\n",
    "listfruit"
   ]
  },
  {
   "cell_type": "code",
   "execution_count": 58,
   "id": "a8971bd2",
   "metadata": {},
   "outputs": [
    {
     "data": {
      "text/plain": [
       "3"
      ]
     },
     "execution_count": 58,
     "metadata": {},
     "output_type": "execute_result"
    }
   ],
   "source": [
    "listfruit.index(\"licchi\")"
   ]
  },
  {
   "cell_type": "code",
   "execution_count": 59,
   "id": "508074ce",
   "metadata": {},
   "outputs": [
    {
     "data": {
      "text/plain": [
       "['jackfruit', 'graphs']"
      ]
     },
     "execution_count": 59,
     "metadata": {},
     "output_type": "execute_result"
    }
   ],
   "source": [
    "newlist=[\"jackfruit\",\"graphs\"]\n",
    "newlist"
   ]
  }
 ],
 "metadata": {
  "kernelspec": {
   "display_name": "Python 3 (ipykernel)",
   "language": "python",
   "name": "python3"
  },
  "language_info": {
   "codemirror_mode": {
    "name": "ipython",
    "version": 3
   },
   "file_extension": ".py",
   "mimetype": "text/x-python",
   "name": "python",
   "nbconvert_exporter": "python",
   "pygments_lexer": "ipython3",
   "version": "3.9.7"
  }
 },
 "nbformat": 4,
 "nbformat_minor": 5
}
