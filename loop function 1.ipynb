{
 "cells": [
  {
   "cell_type": "markdown",
   "id": "14b693dc",
   "metadata": {},
   "source": [
    "# loop in python"
   ]
  },
  {
   "cell_type": "code",
   "execution_count": 2,
   "id": "0732b0e2",
   "metadata": {},
   "outputs": [
    {
     "name": "stdout",
     "output_type": "stream",
     "text": [
      "10\n",
      "9\n",
      "8\n",
      "7\n",
      "6\n",
      "5\n"
     ]
    }
   ],
   "source": [
    "s=10\n",
    "while(s>=5):\n",
    "    print(s)\n",
    "    s=s-1"
   ]
  },
  {
   "cell_type": "code",
   "execution_count": 1,
   "id": "6e1ca4d9",
   "metadata": {},
   "outputs": [
    {
     "name": "stdout",
     "output_type": "stream",
     "text": [
      "How are You= 10\n",
      "How are You= 12\n",
      "How are You= 14\n",
      "How are You= 16\n",
      "How are You= 18\n",
      "How are You= 20\n",
      "How are You= 22\n",
      "How are You= 24\n",
      "How are You= 26\n",
      "How are You= 28\n",
      "How are You= 30\n",
      "How are You= 32\n",
      "How are You= 34\n",
      "How are You= 36\n",
      "How are You= 38\n",
      "How are You= 40\n",
      "How are You= 42\n",
      "How are You= 44\n",
      "How are You= 46\n",
      "How are You= 48\n",
      "How are You= 50\n"
     ]
    }
   ],
   "source": [
    "i=10\n",
    "while(i<=50):\n",
    "    print(\"How are You=\",i)\n",
    "    i=i+2"
   ]
  },
  {
   "cell_type": "code",
   "execution_count": 10,
   "id": "d2e11448",
   "metadata": {},
   "outputs": [
    {
     "name": "stdout",
     "output_type": "stream",
     "text": [
      "10 9 8 7 6 5 "
     ]
    }
   ],
   "source": [
    "p=10\n",
    "while(p>=5):\n",
    "    print(p,end=' ')\n",
    "    p=p-1"
   ]
  },
  {
   "cell_type": "code",
   "execution_count": 26,
   "id": "d308673d",
   "metadata": {},
   "outputs": [
    {
     "name": "stdout",
     "output_type": "stream",
     "text": [
      "False\n"
     ]
    }
   ],
   "source": [
    "i=6\n",
    "for i in[i<5]:\n",
    "    print(i)\n",
    "    i=i+1"
   ]
  },
  {
   "cell_type": "code",
   "execution_count": 29,
   "id": "97f95f76",
   "metadata": {},
   "outputs": [
    {
     "name": "stdout",
     "output_type": "stream",
     "text": [
      "10 20 30 40 50 "
     ]
    }
   ],
   "source": [
    "for s in [10,20,30,40,50]:\n",
    "    print(s,end=\" \")"
   ]
  }
 ],
 "metadata": {
  "kernelspec": {
   "display_name": "Python 3 (ipykernel)",
   "language": "python",
   "name": "python3"
  },
  "language_info": {
   "codemirror_mode": {
    "name": "ipython",
    "version": 3
   },
   "file_extension": ".py",
   "mimetype": "text/x-python",
   "name": "python",
   "nbconvert_exporter": "python",
   "pygments_lexer": "ipython3",
   "version": "3.9.7"
  }
 },
 "nbformat": 4,
 "nbformat_minor": 5
}
