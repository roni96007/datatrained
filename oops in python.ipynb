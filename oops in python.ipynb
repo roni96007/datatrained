{
 "cells": [
  {
   "cell_type": "markdown",
   "id": "d1f60d15",
   "metadata": {},
   "source": [
    "# Object oriented programming system"
   ]
  },
  {
   "cell_type": "code",
   "execution_count": 10,
   "id": "e88aa432",
   "metadata": {},
   "outputs": [],
   "source": [
    "class student:\n",
    "    #initialization/constructor\n",
    "    def __init__(self,stuid,stuname):\n",
    "        self.stuid=stuid\n",
    "        self.stuname=stuname\n",
    "    \n",
    "    #member function\n",
    "    def display(self):\n",
    "        print(\"Student Name:\",self.stuname)\n",
    "        print(\"Student id:\",self.stuid)"
   ]
  },
  {
   "cell_type": "code",
   "execution_count": 13,
   "id": "64117bdd",
   "metadata": {},
   "outputs": [
    {
     "name": "stdout",
     "output_type": "stream",
     "text": [
      "Student Name: Shreyasi\n",
      "Student id: 5006\n"
     ]
    }
   ],
   "source": [
    "#object creation\n",
    "s1= student(5006,'Shreyasi')\n",
    "s1.display()"
   ]
  },
  {
   "cell_type": "code",
   "execution_count": 16,
   "id": "170289d3",
   "metadata": {},
   "outputs": [
    {
     "data": {
      "text/plain": [
       "'Shreyasi'"
      ]
     },
     "execution_count": 16,
     "metadata": {},
     "output_type": "execute_result"
    }
   ],
   "source": [
    "s1.stuname"
   ]
  },
  {
   "cell_type": "code",
   "execution_count": 18,
   "id": "15abc72d",
   "metadata": {},
   "outputs": [
    {
     "name": "stdout",
     "output_type": "stream",
     "text": [
      "Student Name: jon\n",
      "Student id: 1008\n"
     ]
    }
   ],
   "source": [
    "s2=student(1008,\"jon\")\n",
    "s2.display()"
   ]
  },
  {
   "cell_type": "code",
   "execution_count": 20,
   "id": "dc35d5a8",
   "metadata": {},
   "outputs": [],
   "source": [
    "class emloyee:\n",
    "    salary=56000         #class variable\n",
    "    def __init__(self,eid,ename,eposition):           #instance variable\n",
    "        self.eid=eid\n",
    "        self.ename=ename\n",
    "        self.eposition=eposition\n",
    "    def display(self):\n",
    "        print(\"emloyee id is=\",self.eid,\"emloyee name is=\",self.ename,\"emloyee position is=\",self.eposition,\"Salary is\",self.salary)"
   ]
  },
  {
   "cell_type": "code",
   "execution_count": 22,
   "id": "d2c8324d",
   "metadata": {},
   "outputs": [
    {
     "name": "stdout",
     "output_type": "stream",
     "text": [
      "emloyee id is= 1008 emloyee name is= jacks emloyee position is= salesmanager Salary is 56000\n"
     ]
    }
   ],
   "source": [
    "e1=emloyee(1008,\"jacks\",\"salesmanager\")\n",
    "e1.display()"
   ]
  },
  {
   "cell_type": "code",
   "execution_count": 13,
   "id": "013f7320",
   "metadata": {},
   "outputs": [
    {
     "data": {
      "text/plain": [
       "1008"
      ]
     },
     "execution_count": 13,
     "metadata": {},
     "output_type": "execute_result"
    }
   ],
   "source": [
    "e1.eid"
   ]
  },
  {
   "cell_type": "code",
   "execution_count": 15,
   "id": "ca1e0cda",
   "metadata": {},
   "outputs": [
    {
     "data": {
      "text/plain": [
       "'salesmanager'"
      ]
     },
     "execution_count": 15,
     "metadata": {},
     "output_type": "execute_result"
    }
   ],
   "source": [
    "e1.eposition"
   ]
  },
  {
   "cell_type": "code",
   "execution_count": 16,
   "id": "bd78ba0d",
   "metadata": {},
   "outputs": [
    {
     "ename": "AttributeError",
     "evalue": "type object 'emloyee' has no attribute 'eid'",
     "output_type": "error",
     "traceback": [
      "\u001b[1;31m---------------------------------------------------------------------------\u001b[0m",
      "\u001b[1;31mAttributeError\u001b[0m                            Traceback (most recent call last)",
      "\u001b[1;32mC:\\Users\\SHREYA~1\\AppData\\Local\\Temp/ipykernel_11316/2357109731.py\u001b[0m in \u001b[0;36m<module>\u001b[1;34m\u001b[0m\n\u001b[1;32m----> 1\u001b[1;33m \u001b[0memloyee\u001b[0m\u001b[1;33m.\u001b[0m\u001b[0meid\u001b[0m\u001b[1;33m\u001b[0m\u001b[1;33m\u001b[0m\u001b[0m\n\u001b[0m",
      "\u001b[1;31mAttributeError\u001b[0m: type object 'emloyee' has no attribute 'eid'"
     ]
    }
   ],
   "source": [
    "#instance variable can not accessed with a class name\n",
    "emloyee.eid"
   ]
  },
  {
   "cell_type": "code",
   "execution_count": 24,
   "id": "2169a840",
   "metadata": {},
   "outputs": [
    {
     "data": {
      "text/plain": [
       "56000"
      ]
     },
     "execution_count": 24,
     "metadata": {},
     "output_type": "execute_result"
    }
   ],
   "source": [
    "#class variable can accessed with a class name\n",
    "emloyee.salary"
   ]
  },
  {
   "cell_type": "code",
   "execution_count": 23,
   "id": "fe4f8865",
   "metadata": {},
   "outputs": [
    {
     "data": {
      "text/plain": [
       "56000"
      ]
     },
     "execution_count": 23,
     "metadata": {},
     "output_type": "execute_result"
    }
   ],
   "source": [
    "e1.salary"
   ]
  },
  {
   "cell_type": "code",
   "execution_count": null,
   "id": "9492a469",
   "metadata": {},
   "outputs": [],
   "source": [
    "class shreyasi:\n",
    "    def __init__(self,youtube,instagram):\n",
    "        self.youtube=youtube\n",
    "        self.instagram=instagram\n",
    "    def display(self):\n",
    "        print(\"youtube name is=\",self.youtube,\"insta name is=\",self.instagram)\n",
    "        \n",
    "        \n",
    "s1=shreyasi(\"lifestylepie\",\"shreyasi"
   ]
  },
  {
   "cell_type": "code",
   "execution_count": 29,
   "id": "884fb14f",
   "metadata": {},
   "outputs": [
    {
     "name": "stdout",
     "output_type": "stream",
     "text": [
      "youtube name is= lifestylepie insta name is= shreyasi_lifestylepie\n"
     ]
    }
   ],
   "source": [
    "class shreyasi:\n",
    "    def __init__(self,youtube,instagram):\n",
    "        self.youtube=youtube\n",
    "        self.instagram=instagram\n",
    "    def display(self):\n",
    "        print(\"youtube name is=\",self.youtube,\"insta name is=\",self.instagram)\n",
    "        \n",
    "        \n",
    "s1=shreyasi(\"lifestylepie\",\"shreyasi_lifestylepie\")\n",
    "s1.display()"
   ]
  },
  {
   "cell_type": "code",
   "execution_count": 31,
   "id": "eb5ba67a",
   "metadata": {},
   "outputs": [],
   "source": [
    "class jeams:\n",
    "    def __init__(self,food,age,language):\n",
    "        self.food=food\n",
    "        self.age=age\n",
    "        self.language=language\n",
    "    def display(self):\n",
    "        print (\"inside the function\")\n",
    "        print (self.food,self.age,self.language)"
   ]
  },
  {
   "cell_type": "code",
   "execution_count": 34,
   "id": "c7fbdfab",
   "metadata": {},
   "outputs": [
    {
     "name": "stdout",
     "output_type": "stream",
     "text": [
      "inside the function\n",
      "vegetarian 22 english\n"
     ]
    }
   ],
   "source": [
    "n1=jeams(\"vegetarian\",22,\"english\")\n",
    "n1.display()"
   ]
  },
  {
   "cell_type": "markdown",
   "id": "26843434",
   "metadata": {},
   "source": [
    "TASK"
   ]
  },
  {
   "cell_type": "code",
   "execution_count": null,
   "id": "6cc2f7a6",
   "metadata": {},
   "outputs": [],
   "source": [
    "#create a class company.declare 3 attributes name,location,number_of_emloyees.Now initialize the company class."
   ]
  },
  {
   "cell_type": "code",
   "execution_count": 2,
   "id": "425151c6",
   "metadata": {},
   "outputs": [],
   "source": [
    "class bike:\n",
    "    #a simple class for bike\n",
    "    \n",
    "    #constractor to initilize\n",
    "    def __init__(self,name,brand,colour):\n",
    "        self.name=name\n",
    "        self.brand=brand\n",
    "        self.colour=colour\n",
    "        #function to print object\n",
    "    def display(self):\n",
    "        print(\"the Bike Name Is:\",self.name)\n",
    "        print(\"the Brand is:\", self.brand)\n",
    "        print(\"the bike colour is:\",self.colour)"
   ]
  },
  {
   "cell_type": "code",
   "execution_count": 3,
   "id": "414fd96e",
   "metadata": {},
   "outputs": [],
   "source": [
    "def main():\n",
    "    b1=bike(\"dominar\",\"bajaj\",\"canyon red\") #instance\n",
    "    b1.display()"
   ]
  },
  {
   "cell_type": "code",
   "execution_count": 4,
   "id": "f65a1be8",
   "metadata": {},
   "outputs": [
    {
     "name": "stdout",
     "output_type": "stream",
     "text": [
      "the Bike Name Is: dominar\n",
      "the Brand is: bajaj\n",
      "the bike colour is: canyon red\n"
     ]
    }
   ],
   "source": [
    "if __name__==\"__main__\":              #entry point\n",
    "    main()"
   ]
  },
  {
   "cell_type": "code",
   "execution_count": 36,
   "id": "7612cebe",
   "metadata": {},
   "outputs": [],
   "source": [
    "class car:\n",
    "    #a simple class for car\n",
    "        def __init__(self,name,brand,colour):      #initiation data predefine inside the python\n",
    "            print(\"initialized method called\")\n",
    "            self.name=name\n",
    "            self.brand=brand\n",
    "            self.colour=colour\n",
    "        \n",
    "        def getdata(self,name,brand,colour):\n",
    "            print(\"getdata method called\")         #gatedata is a user define function\n",
    "            self.name=name\n",
    "            self.brand=brand\n",
    "            self.colour=colour\n",
    "            \n",
    "        def displaydata(self):\n",
    "            print(\"the car is:\",self.name,self.brand,self.colour)"
   ]
  },
  {
   "cell_type": "code",
   "execution_count": 41,
   "id": "1fa4a4ba",
   "metadata": {},
   "outputs": [],
   "source": [
    "def main():\n",
    "    c1=car(\"swift\",\"maruti\",\"blue\")\n",
    "    c1.displaydata()\n",
    "    \n",
    "    c1.getdata(\"wagonR\",\"suzuki\",\"magma grey\")\n",
    "    c1.displaydata()  \n",
    "\n",
    "    c1.getdata(\"nexon\",\"tata\",\"black\")\n",
    "    c1.displaydata()"
   ]
  },
  {
   "cell_type": "code",
   "execution_count": 42,
   "id": "458fa985",
   "metadata": {},
   "outputs": [
    {
     "name": "stdout",
     "output_type": "stream",
     "text": [
      "initialized method called\n",
      "the car is: swift maruti blue\n",
      "getdata method called\n",
      "the car is: wagonR suzuki magma grey\n",
      "getdata method called\n",
      "the car is: nexon tata black\n"
     ]
    }
   ],
   "source": [
    "if __name__==\"__main__\":\n",
    "    main()"
   ]
  },
  {
   "cell_type": "markdown",
   "id": "675065f8",
   "metadata": {},
   "source": [
    "# Create a player class with name, age, sports associated with the player."
   ]
  },
  {
   "cell_type": "code",
   "execution_count": 54,
   "id": "8e568e03",
   "metadata": {},
   "outputs": [
    {
     "name": "stdout",
     "output_type": "stream",
     "text": [
      "initialize method Called\n",
      "The player is:  Virat 34 Cricketer\n",
      "Getdata Method Called\n",
      "The player is:  Leo Messi 34 Footballer\n",
      "initialize method Called\n",
      "The player is:  Dhoni 39 cricketer\n",
      "Getdata Method Called\n",
      "The player is:  Ronaldo 36 Footballer\n"
     ]
    }
   ],
   "source": [
    "class player:\n",
    "    def __init__(self,name,age,sports):\n",
    "        print(\"initialize method Called\")\n",
    "        self.name=name\n",
    "        self.age=age\n",
    "        self.sports=sports\n",
    "        \n",
    "    def getdata(self,name,age,sports):\n",
    "        print(\"Getdata Method Called\")\n",
    "        self.name=name\n",
    "        self.age=age\n",
    "        self.sports=sports\n",
    "        \n",
    "    def displaydata(self):\n",
    "        print(\"The player is: \",self.name,self.age,self.sports)\n",
    "        \n",
    "    def main():\n",
    "        p1=player(\"Virat\",34,\"Cricketer\")\n",
    "        p1.displaydata()\n",
    "        \n",
    "        p1.getdata(\"Leo Messi\",34,\"Footballer\")\n",
    "        p1.displaydata()\n",
    "        \n",
    "        p2=player(\"Dhoni\",39,\"cricketer\")\n",
    "        p2.displaydata()\n",
    "        \n",
    "        p2.getdata(\"Ronaldo\",36,\"Footballer\")\n",
    "        p2.displaydata()\n",
    "        \n",
    "    if __name__==\"__main__\":\n",
    "            main()"
   ]
  },
  {
   "cell_type": "code",
   "execution_count": 56,
   "id": "48d7552c",
   "metadata": {},
   "outputs": [
    {
     "name": "stdout",
     "output_type": "stream",
     "text": [
      "initialize method Called\n",
      "The player is:  Virat 34 Cricketer\n",
      "Getdata Method Called\n",
      "The player is:  Leo Messi 34 Footballer\n",
      "Getdata Method Called\n",
      "The player is:  Dhoni 39 cricketer\n",
      "Getdata Method Called\n",
      "The player is:  Ronaldo 36 Footballer\n"
     ]
    }
   ],
   "source": [
    "class player:\n",
    "    def __init__(self,name,age,sports):\n",
    "        print(\"initialize method Called\")\n",
    "        self.name=name\n",
    "        self.age=age\n",
    "        self.sports=sports\n",
    "        \n",
    "    def getdata(self,name,age,sports):\n",
    "        print(\"Getdata Method Called\")\n",
    "        self.name=name\n",
    "        self.age=age\n",
    "        self.sports=sports\n",
    "        \n",
    "    def displaydata(self):\n",
    "        print(\"The player is: \",self.name,self.age,self.sports)\n",
    "        \n",
    "    def main():\n",
    "        p1=player(\"Virat\",34,\"Cricketer\")\n",
    "        p1.displaydata()\n",
    "        \n",
    "        p1.getdata(\"Leo Messi\",34,\"Footballer\")\n",
    "        p1.displaydata()\n",
    "        \n",
    "        p1.getdata(\"Dhoni\",39,\"cricketer\")\n",
    "        p1.displaydata()\n",
    "        \n",
    "        p1.getdata(\"Ronaldo\",36,\"Footballer\")\n",
    "        p1.displaydata()\n",
    "        \n",
    "    if __name__==\"__main__\":\n",
    "            main()"
   ]
  },
  {
   "cell_type": "code",
   "execution_count": null,
   "id": "91e42b84",
   "metadata": {},
   "outputs": [],
   "source": []
  },
  {
   "cell_type": "code",
   "execution_count": null,
   "id": "4501bb74",
   "metadata": {},
   "outputs": [],
   "source": []
  },
  {
   "cell_type": "code",
   "execution_count": null,
   "id": "410c7f37",
   "metadata": {},
   "outputs": [],
   "source": []
  }
 ],
 "metadata": {
  "kernelspec": {
   "display_name": "Python 3 (ipykernel)",
   "language": "python",
   "name": "python3"
  },
  "language_info": {
   "codemirror_mode": {
    "name": "ipython",
    "version": 3
   },
   "file_extension": ".py",
   "mimetype": "text/x-python",
   "name": "python",
   "nbconvert_exporter": "python",
   "pygments_lexer": "ipython3",
   "version": "3.9.7"
  }
 },
 "nbformat": 4,
 "nbformat_minor": 5
}
