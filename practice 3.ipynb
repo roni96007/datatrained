{
 "cells": [
  {
   "cell_type": "code",
   "execution_count": 3,
   "id": "f60b86db",
   "metadata": {},
   "outputs": [
    {
     "name": "stdout",
     "output_type": "stream",
     "text": [
      "Enter your city-kolkata\n",
      "your City Is- kolkata\n"
     ]
    }
   ],
   "source": [
    "city=input(\"Enter your city-\")\n",
    "print(\"your City Is-\",city)"
   ]
  },
  {
   "cell_type": "code",
   "execution_count": 4,
   "id": "cf1f6684",
   "metadata": {},
   "outputs": [
    {
     "name": "stdout",
     "output_type": "stream",
     "text": [
      "enter your crush=xyz\n",
      "my crush name is= xyz\n"
     ]
    }
   ],
   "source": [
    "crush=input(\"enter your crush=\")\n",
    "print(\"my crush name is=\",crush)\n"
   ]
  },
  {
   "cell_type": "code",
   "execution_count": 33,
   "id": "a621fcb5",
   "metadata": {},
   "outputs": [
    {
     "name": "stdout",
     "output_type": "stream",
     "text": [
      "Enter your Age-22\n",
      "your age is  22\n"
     ]
    }
   ],
   "source": [
    "\n",
    "age=int(input(\"Enter your Age-\"))\n",
    "print(\"your age is \",age)"
   ]
  },
  {
   "cell_type": "code",
   "execution_count": 34,
   "id": "0991f189",
   "metadata": {},
   "outputs": [
    {
     "data": {
      "text/plain": [
       "int"
      ]
     },
     "execution_count": 34,
     "metadata": {},
     "output_type": "execute_result"
    }
   ],
   "source": [
    "type(age)"
   ]
  },
  {
   "cell_type": "code",
   "execution_count": 45,
   "id": "ad37aa00",
   "metadata": {},
   "outputs": [
    {
     "name": "stdout",
     "output_type": "stream",
     "text": [
      "Enter your CTC-10.22525585254\n",
      "10.22525585254\n"
     ]
    }
   ],
   "source": [
    "salary=float(input(\"Enter your CTC-\"))\n",
    "print(salary)"
   ]
  },
  {
   "cell_type": "code",
   "execution_count": 43,
   "id": "6effe641",
   "metadata": {},
   "outputs": [
    {
     "data": {
      "text/plain": [
       "int"
      ]
     },
     "execution_count": 43,
     "metadata": {},
     "output_type": "execute_result"
    }
   ],
   "source": [
    "type(salary)"
   ]
  },
  {
   "cell_type": "code",
   "execution_count": 19,
   "id": "203952d7",
   "metadata": {},
   "outputs": [
    {
     "name": "stdout",
     "output_type": "stream",
     "text": [
      "23.0\n"
     ]
    }
   ],
   "source": [
    "AB=float(a)\n",
    "print(AB)"
   ]
  },
  {
   "cell_type": "code",
   "execution_count": 20,
   "id": "e38e76f5",
   "metadata": {},
   "outputs": [
    {
     "data": {
      "text/plain": [
       "23.0"
      ]
     },
     "execution_count": 20,
     "metadata": {},
     "output_type": "execute_result"
    }
   ],
   "source": [
    "AB"
   ]
  },
  {
   "cell_type": "code",
   "execution_count": 28,
   "id": "41bf2fae",
   "metadata": {},
   "outputs": [
    {
     "data": {
      "text/plain": [
       "float"
      ]
     },
     "execution_count": 28,
     "metadata": {},
     "output_type": "execute_result"
    }
   ],
   "source": [
    "b=21.85\n",
    "type(b)"
   ]
  },
  {
   "cell_type": "code",
   "execution_count": 29,
   "id": "fd805fdf",
   "metadata": {},
   "outputs": [],
   "source": [
    "CD=int(b)"
   ]
  },
  {
   "cell_type": "code",
   "execution_count": 30,
   "id": "bdc11f07",
   "metadata": {},
   "outputs": [
    {
     "data": {
      "text/plain": [
       "21"
      ]
     },
     "execution_count": 30,
     "metadata": {},
     "output_type": "execute_result"
    }
   ],
   "source": [
    "CD"
   ]
  },
  {
   "cell_type": "code",
   "execution_count": 31,
   "id": "857aa005",
   "metadata": {},
   "outputs": [
    {
     "data": {
      "text/plain": [
       "float"
      ]
     },
     "execution_count": 31,
     "metadata": {},
     "output_type": "execute_result"
    }
   ],
   "source": [
    "c=10.2\n",
    "type(c)"
   ]
  },
  {
   "cell_type": "code",
   "execution_count": 32,
   "id": "29f50fd3",
   "metadata": {},
   "outputs": [
    {
     "data": {
      "text/plain": [
       "10"
      ]
     },
     "execution_count": 32,
     "metadata": {},
     "output_type": "execute_result"
    }
   ],
   "source": [
    "int(c)"
   ]
  },
  {
   "cell_type": "code",
   "execution_count": null,
   "id": "81cdd312",
   "metadata": {},
   "outputs": [],
   "source": []
  }
 ],
 "metadata": {
  "kernelspec": {
   "display_name": "Python 3 (ipykernel)",
   "language": "python",
   "name": "python3"
  },
  "language_info": {
   "codemirror_mode": {
    "name": "ipython",
    "version": 3
   },
   "file_extension": ".py",
   "mimetype": "text/x-python",
   "name": "python",
   "nbconvert_exporter": "python",
   "pygments_lexer": "ipython3",
   "version": "3.9.7"
  }
 },
 "nbformat": 4,
 "nbformat_minor": 5
}
