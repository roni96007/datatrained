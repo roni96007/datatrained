{
 "cells": [
  {
   "cell_type": "code",
   "execution_count": 5,
   "id": "f52334d4",
   "metadata": {},
   "outputs": [
    {
     "name": "stdout",
     "output_type": "stream",
     "text": [
      "enter any lenght30\n",
      "lenght= 30\n",
      "enter any breadth6\n",
      "breadth= 6\n",
      "area of rectangle= 180\n"
     ]
    }
   ],
   "source": [
    "l=int(input(\"enter any lenght\"))\n",
    "\n",
    "print(\"lenght=\",l)\n",
    "\n",
    "b=int(input(\"enter any breadth\"))\n",
    "\n",
    "print(\"breadth=\",b)\n",
    "\n",
    "arearectangle=l*b\n",
    "\n",
    "print(\"area of rectangle=\",arearectangle)\n"
   ]
  },
  {
   "cell_type": "code",
   "execution_count": 6,
   "id": "c467f40a",
   "metadata": {},
   "outputs": [
    {
     "name": "stdout",
     "output_type": "stream",
     "text": [
      "enter the value of pi3.14\n",
      "pi= 3.14\n",
      "enter the value of radius24.75\n",
      "area of circle= 1923.44625\n",
      "area of circle= 1923.45\n"
     ]
    }
   ],
   "source": [
    "pi=float(input(\"enter the value of pi\"))\n",
    "print(\"pi=\",pi)\n",
    "\n",
    "radius=float(input(\"enter the value of radius\")) \n",
    "\n",
    "areaofcircle=pi*(radius**2)\n",
    "print(\"area of circle=\",areaofcircle)\n",
    "print(\"area of circle=\",round(areaofcircle,2))\n"
   ]
  },
  {
   "cell_type": "code",
   "execution_count": 8,
   "id": "30f30f49",
   "metadata": {},
   "outputs": [
    {
     "data": {
      "text/plain": [
       "1923.45"
      ]
     },
     "execution_count": 8,
     "metadata": {},
     "output_type": "execute_result"
    }
   ],
   "source": [
    "round(1923.44625,2)"
   ]
  },
  {
   "cell_type": "code",
   "execution_count": 16,
   "id": "203e7b1c",
   "metadata": {},
   "outputs": [
    {
     "name": "stdout",
     "output_type": "stream",
     "text": [
      "Enter any Square Value =23\n",
      "The Square root Value of 23 is 4.795831523312719\n"
     ]
    },
    {
     "data": {
      "text/plain": [
       "4.796"
      ]
     },
     "execution_count": 16,
     "metadata": {},
     "output_type": "execute_result"
    }
   ],
   "source": [
    "r=int(input(\"Enter any Square Value =\"))\n",
    "s=r**(1/2)\n",
    "print(\"The Square root Value of\",r, \"is\",s)\n",
    "round(s,3)"
   ]
  },
  {
   "cell_type": "code",
   "execution_count": 22,
   "id": "57d5fbcd",
   "metadata": {},
   "outputs": [
    {
     "name": "stdout",
     "output_type": "stream",
     "text": [
      "Enter any Value =5\n",
      "The Square Value of 5.0 is 25.0\n"
     ]
    }
   ],
   "source": [
    "a=float(input(\"Enter any Value =\"))\n",
    "b=a**2\n",
    "print(\"The Square Value of\",a,\"is\",b)"
   ]
  }
 ],
 "metadata": {
  "kernelspec": {
   "display_name": "Python 3 (ipykernel)",
   "language": "python",
   "name": "python3"
  },
  "language_info": {
   "codemirror_mode": {
    "name": "ipython",
    "version": 3
   },
   "file_extension": ".py",
   "mimetype": "text/x-python",
   "name": "python",
   "nbconvert_exporter": "python",
   "pygments_lexer": "ipython3",
   "version": "3.9.7"
  }
 },
 "nbformat": 4,
 "nbformat_minor": 5
}
