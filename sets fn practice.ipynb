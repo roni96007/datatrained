{
 "cells": [
  {
   "cell_type": "code",
   "execution_count": null,
   "id": "dfa0c4ce",
   "metadata": {},
   "outputs": [],
   "source": []
  },
  {
   "cell_type": "code",
   "execution_count": 1,
   "id": "7e157d60",
   "metadata": {},
   "outputs": [],
   "source": [
    "x= {'lakme','mebline','huda beauty','mamaearth','sugar'}"
   ]
  },
  {
   "cell_type": "code",
   "execution_count": 2,
   "id": "9e9e61f6",
   "metadata": {},
   "outputs": [
    {
     "data": {
      "text/plain": [
       "{'huda beauty', 'lakme', 'mamaearth', 'mebline', 'sugar'}"
      ]
     },
     "execution_count": 2,
     "metadata": {},
     "output_type": "execute_result"
    }
   ],
   "source": [
    "x"
   ]
  },
  {
   "cell_type": "code",
   "execution_count": 3,
   "id": "657ba6b7",
   "metadata": {},
   "outputs": [],
   "source": [
    "x.add('plam')"
   ]
  },
  {
   "cell_type": "code",
   "execution_count": 4,
   "id": "7badbdb7",
   "metadata": {},
   "outputs": [
    {
     "data": {
      "text/plain": [
       "{'huda beauty', 'lakme', 'mamaearth', 'mebline', 'plam', 'sugar'}"
      ]
     },
     "execution_count": 4,
     "metadata": {},
     "output_type": "execute_result"
    }
   ],
   "source": [
    "x"
   ]
  },
  {
   "cell_type": "code",
   "execution_count": 16,
   "id": "b0cf3e8b",
   "metadata": {},
   "outputs": [
    {
     "data": {
      "text/plain": [
       "'huda beauty'"
      ]
     },
     "execution_count": 16,
     "metadata": {},
     "output_type": "execute_result"
    }
   ],
   "source": [
    "x.pop()"
   ]
  },
  {
   "cell_type": "code",
   "execution_count": 17,
   "id": "a381c2ec",
   "metadata": {},
   "outputs": [
    {
     "data": {
      "text/plain": [
       "set()"
      ]
     },
     "execution_count": 17,
     "metadata": {},
     "output_type": "execute_result"
    }
   ],
   "source": [
    "x"
   ]
  },
  {
   "cell_type": "code",
   "execution_count": 18,
   "id": "f99ff08c",
   "metadata": {},
   "outputs": [],
   "source": [
    "x= {'lakme','mebline','huda beauty','mamaearth','sugar'}"
   ]
  },
  {
   "cell_type": "code",
   "execution_count": 20,
   "id": "28a5bb4b",
   "metadata": {},
   "outputs": [
    {
     "data": {
      "text/plain": [
       "{'huda beauty', 'lakme', 'mamaearth', 'mebline', 'sugar'}"
      ]
     },
     "execution_count": 20,
     "metadata": {},
     "output_type": "execute_result"
    }
   ],
   "source": [
    "x"
   ]
  },
  {
   "cell_type": "code",
   "execution_count": 24,
   "id": "a1baeb81",
   "metadata": {},
   "outputs": [],
   "source": [
    "x.add('myglam')"
   ]
  },
  {
   "cell_type": "code",
   "execution_count": 25,
   "id": "6985119c",
   "metadata": {},
   "outputs": [
    {
     "data": {
      "text/plain": [
       "{'Myglam', 'huda beauty', 'lakme', 'mamaearth', 'mebline', 'myglam', 'sugar'}"
      ]
     },
     "execution_count": 25,
     "metadata": {},
     "output_type": "execute_result"
    }
   ],
   "source": [
    "x"
   ]
  },
  {
   "cell_type": "code",
   "execution_count": 27,
   "id": "fd869e57",
   "metadata": {},
   "outputs": [],
   "source": [
    "x.remove('Myglam')"
   ]
  },
  {
   "cell_type": "code",
   "execution_count": 28,
   "id": "7dd18d04",
   "metadata": {},
   "outputs": [
    {
     "data": {
      "text/plain": [
       "{'huda beauty', 'lakme', 'mamaearth', 'mebline', 'myglam', 'sugar'}"
      ]
     },
     "execution_count": 28,
     "metadata": {},
     "output_type": "execute_result"
    }
   ],
   "source": [
    "x"
   ]
  },
  {
   "cell_type": "code",
   "execution_count": 29,
   "id": "a70ccae0",
   "metadata": {},
   "outputs": [],
   "source": [
    "x.clear()"
   ]
  },
  {
   "cell_type": "code",
   "execution_count": 30,
   "id": "c8062962",
   "metadata": {},
   "outputs": [
    {
     "ename": "NameError",
     "evalue": "name 'X' is not defined",
     "output_type": "error",
     "traceback": [
      "\u001b[1;31m---------------------------------------------------------------------------\u001b[0m",
      "\u001b[1;31mNameError\u001b[0m                                 Traceback (most recent call last)",
      "\u001b[1;32mC:\\Users\\SHREYA~1\\AppData\\Local\\Temp/ipykernel_14152/3777217377.py\u001b[0m in \u001b[0;36m<module>\u001b[1;34m\u001b[0m\n\u001b[1;32m----> 1\u001b[1;33m \u001b[0mX\u001b[0m\u001b[1;33m\u001b[0m\u001b[1;33m\u001b[0m\u001b[0m\n\u001b[0m",
      "\u001b[1;31mNameError\u001b[0m: name 'X' is not defined"
     ]
    }
   ],
   "source": [
    "X"
   ]
  }
 ],
 "metadata": {
  "kernelspec": {
   "display_name": "Python 3 (ipykernel)",
   "language": "python",
   "name": "python3"
  },
  "language_info": {
   "codemirror_mode": {
    "name": "ipython",
    "version": 3
   },
   "file_extension": ".py",
   "mimetype": "text/x-python",
   "name": "python",
   "nbconvert_exporter": "python",
   "pygments_lexer": "ipython3",
   "version": "3.9.7"
  }
 },
 "nbformat": 4,
 "nbformat_minor": 5
}
