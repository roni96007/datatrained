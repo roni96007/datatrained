{
 "cells": [
  {
   "cell_type": "markdown",
   "id": "cf2fc3dd",
   "metadata": {},
   "source": [
    "# String Function "
   ]
  },
  {
   "cell_type": "markdown",
   "id": "0ea623b4",
   "metadata": {},
   "source": [
    "Letter case uppercase(), lowercase()"
   ]
  },
  {
   "cell_type": "code",
   "execution_count": 1,
   "id": "3553e634",
   "metadata": {},
   "outputs": [
    {
     "data": {
      "text/plain": [
       "'SHREYASI'"
      ]
     },
     "execution_count": 1,
     "metadata": {},
     "output_type": "execute_result"
    }
   ],
   "source": [
    "word1=\"Shreyasi\"\n",
    "word1.upper()"
   ]
  },
  {
   "cell_type": "code",
   "execution_count": 2,
   "id": "6ac52e25",
   "metadata": {},
   "outputs": [
    {
     "data": {
      "text/plain": [
       "'rajdeep'"
      ]
     },
     "execution_count": 2,
     "metadata": {},
     "output_type": "execute_result"
    }
   ],
   "source": [
    "word2=\"RAJDEEP\"\n",
    "word2.lower()"
   ]
  },
  {
   "cell_type": "code",
   "execution_count": 3,
   "id": "7e41289b",
   "metadata": {},
   "outputs": [
    {
     "data": {
      "text/plain": [
       "'RAJDEEP+shreyasi'"
      ]
     },
     "execution_count": 3,
     "metadata": {},
     "output_type": "execute_result"
    }
   ],
   "source": [
    "word3=\"rajdeep+SHREYASI\"\n",
    "word3.swapcase()\n"
   ]
  },
  {
   "cell_type": "code",
   "execution_count": 4,
   "id": "ba5395eb",
   "metadata": {},
   "outputs": [
    {
     "data": {
      "text/plain": [
       "'rAjDeEpsHrEyAsI'"
      ]
     },
     "execution_count": 4,
     "metadata": {},
     "output_type": "execute_result"
    }
   ],
   "source": [
    "word4='RaJdEePShReYaSi'\n",
    "word4.swapcase()\n",
    "#word4.upper()\n",
    "#word4.lower()"
   ]
  },
  {
   "cell_type": "code",
   "execution_count": 5,
   "id": "8b6da3dc",
   "metadata": {},
   "outputs": [
    {
     "data": {
      "text/plain": [
       "'Podu'"
      ]
     },
     "execution_count": 5,
     "metadata": {},
     "output_type": "execute_result"
    }
   ],
   "source": [
    "word5=\"podu\"\n",
    "word5.capitalize()"
   ]
  },
  {
   "cell_type": "code",
   "execution_count": 6,
   "id": "e3b109fc",
   "metadata": {},
   "outputs": [
    {
     "data": {
      "text/plain": [
       "'I LOVE MY PODU'"
      ]
     },
     "execution_count": 6,
     "metadata": {},
     "output_type": "execute_result"
    }
   ],
   "source": [
    "sentence1=\"i love my podu\"\n",
    "s11=sentence1.upper()\n",
    "s11"
   ]
  },
  {
   "cell_type": "markdown",
   "id": "a8e1033b",
   "metadata": {},
   "source": [
    "title() function / Split() function"
   ]
  },
  {
   "cell_type": "code",
   "execution_count": 7,
   "id": "dee2b704",
   "metadata": {},
   "outputs": [
    {
     "data": {
      "text/plain": [
       "'Rajdeep Is A Bad Boy'"
      ]
     },
     "execution_count": 7,
     "metadata": {},
     "output_type": "execute_result"
    }
   ],
   "source": [
    "sentence2=\"rajdeep is a bad boy\"\n",
    "sentence2.title()"
   ]
  },
  {
   "cell_type": "code",
   "execution_count": 8,
   "id": "f6232bc7",
   "metadata": {},
   "outputs": [
    {
     "data": {
      "text/plain": [
       "['moon', 'is', 'look', 'like', 'a', 'bread']"
      ]
     },
     "execution_count": 8,
     "metadata": {},
     "output_type": "execute_result"
    }
   ],
   "source": [
    "sentence3=\"moon is look like a bread\"\n",
    "sentence3.split()"
   ]
  },
  {
   "cell_type": "markdown",
   "id": "59f85bbf",
   "metadata": {},
   "source": [
    "ChecK letter case using isupper()/islower()"
   ]
  },
  {
   "cell_type": "code",
   "execution_count": 9,
   "id": "732f2cb8",
   "metadata": {},
   "outputs": [
    {
     "data": {
      "text/plain": [
       "False"
      ]
     },
     "execution_count": 9,
     "metadata": {},
     "output_type": "execute_result"
    }
   ],
   "source": [
    "word6=\"apple\"\n",
    "word6.isupper()"
   ]
  },
  {
   "cell_type": "code",
   "execution_count": 10,
   "id": "d8967063",
   "metadata": {},
   "outputs": [
    {
     "data": {
      "text/plain": [
       "False"
      ]
     },
     "execution_count": 10,
     "metadata": {},
     "output_type": "execute_result"
    }
   ],
   "source": [
    "sentence1=\"i love my podu\"\n",
    "sentence1.isupper()"
   ]
  },
  {
   "cell_type": "code",
   "execution_count": 11,
   "id": "0757527d",
   "metadata": {},
   "outputs": [
    {
     "data": {
      "text/plain": [
       "True"
      ]
     },
     "execution_count": 11,
     "metadata": {},
     "output_type": "execute_result"
    }
   ],
   "source": [
    "word6=\"apple\"\n",
    "word6.islower()"
   ]
  },
  {
   "cell_type": "code",
   "execution_count": 12,
   "id": "16bf65c8",
   "metadata": {},
   "outputs": [
    {
     "data": {
      "text/plain": [
       "'GUAVA'"
      ]
     },
     "execution_count": 12,
     "metadata": {},
     "output_type": "execute_result"
    }
   ],
   "source": [
    "word7=\"guava\"\n",
    "w7=word7.upper()\n",
    "w7"
   ]
  },
  {
   "cell_type": "code",
   "execution_count": 13,
   "id": "e71366ff",
   "metadata": {},
   "outputs": [
    {
     "data": {
      "text/plain": [
       "'guava'"
      ]
     },
     "execution_count": 13,
     "metadata": {},
     "output_type": "execute_result"
    }
   ],
   "source": [
    "word7"
   ]
  },
  {
   "cell_type": "code",
   "execution_count": 14,
   "id": "402c824c",
   "metadata": {},
   "outputs": [
    {
     "data": {
      "text/plain": [
       "'GUAVA'"
      ]
     },
     "execution_count": 14,
     "metadata": {},
     "output_type": "execute_result"
    }
   ],
   "source": [
    "w7"
   ]
  },
  {
   "cell_type": "code",
   "execution_count": 15,
   "id": "af54525a",
   "metadata": {},
   "outputs": [
    {
     "data": {
      "text/plain": [
       "False"
      ]
     },
     "execution_count": 15,
     "metadata": {},
     "output_type": "execute_result"
    }
   ],
   "source": [
    "word7.isupper()"
   ]
  },
  {
   "cell_type": "code",
   "execution_count": 16,
   "id": "e5d6807c",
   "metadata": {},
   "outputs": [
    {
     "data": {
      "text/plain": [
       "True"
      ]
     },
     "execution_count": 16,
     "metadata": {},
     "output_type": "execute_result"
    }
   ],
   "source": [
    "w7.isupper()"
   ]
  },
  {
   "cell_type": "code",
   "execution_count": 17,
   "id": "cc256692",
   "metadata": {},
   "outputs": [
    {
     "data": {
      "text/plain": [
       "False"
      ]
     },
     "execution_count": 17,
     "metadata": {},
     "output_type": "execute_result"
    }
   ],
   "source": [
    "w7.islower()"
   ]
  },
  {
   "cell_type": "code",
   "execution_count": 18,
   "id": "0e5c346e",
   "metadata": {
    "scrolled": true
   },
   "outputs": [
    {
     "name": "stdout",
     "output_type": "stream",
     "text": [
      "['buger', 'looking', 'very', 'delicious']\n"
     ]
    }
   ],
   "source": [
    "sentence4=\"buger looking very delicious\"\n",
    "s1=sentence4.split()\n",
    "print (s1)"
   ]
  },
  {
   "cell_type": "markdown",
   "id": "e6cc72dd",
   "metadata": {},
   "source": [
    "capitalize() function"
   ]
  },
  {
   "cell_type": "code",
   "execution_count": 19,
   "id": "c8fddae2",
   "metadata": {
    "scrolled": true
   },
   "outputs": [
    {
     "name": "stdout",
     "output_type": "stream",
     "text": [
      "Buger looking very delicious\n"
     ]
    }
   ],
   "source": [
    "sentence5=\"buger looking very delicious\"\n",
    "s2=sentence5.capitalize()\n",
    "print (s2)"
   ]
  },
  {
   "cell_type": "markdown",
   "id": "21428f2f",
   "metadata": {},
   "source": [
    "Alphabet numeric check by isapha(), isdigit(), isalnum()."
   ]
  },
  {
   "cell_type": "code",
   "execution_count": 20,
   "id": "137f67a4",
   "metadata": {},
   "outputs": [
    {
     "data": {
      "text/plain": [
       "True"
      ]
     },
     "execution_count": 20,
     "metadata": {},
     "output_type": "execute_result"
    }
   ],
   "source": [
    "word6=\"apple\"\n",
    "word6.isalpha()"
   ]
  },
  {
   "cell_type": "code",
   "execution_count": 21,
   "id": "d31fea4b",
   "metadata": {},
   "outputs": [
    {
     "data": {
      "text/plain": [
       "False"
      ]
     },
     "execution_count": 21,
     "metadata": {},
     "output_type": "execute_result"
    }
   ],
   "source": [
    "rs1=\"5006shrey\"\n",
    "rs1.isdigit()"
   ]
  },
  {
   "cell_type": "code",
   "execution_count": 22,
   "id": "e7a1b1c0",
   "metadata": {},
   "outputs": [
    {
     "data": {
      "text/plain": [
       "True"
      ]
     },
     "execution_count": 22,
     "metadata": {},
     "output_type": "execute_result"
    }
   ],
   "source": [
    "rs2=\"5006\"\n",
    "rs2.isalnum()"
   ]
  },
  {
   "cell_type": "code",
   "execution_count": 23,
   "id": "6a3065a3",
   "metadata": {},
   "outputs": [],
   "source": [
    "rs3=\"171001075006shrey\"\n",
    "i=rs3.isdigit()"
   ]
  },
  {
   "cell_type": "code",
   "execution_count": 24,
   "id": "c8891370",
   "metadata": {},
   "outputs": [
    {
     "data": {
      "text/plain": [
       "False"
      ]
     },
     "execution_count": 24,
     "metadata": {},
     "output_type": "execute_result"
    }
   ],
   "source": [
    "i"
   ]
  },
  {
   "cell_type": "markdown",
   "id": "3657e813",
   "metadata": {},
   "source": [
    "endswith()/ startswith() function"
   ]
  },
  {
   "cell_type": "code",
   "execution_count": 25,
   "id": "1b1e7c7a",
   "metadata": {},
   "outputs": [
    {
     "data": {
      "text/plain": [
       "True"
      ]
     },
     "execution_count": 25,
     "metadata": {},
     "output_type": "execute_result"
    }
   ],
   "source": [
    "sentence1.endswith(\"podu\")"
   ]
  },
  {
   "cell_type": "code",
   "execution_count": 26,
   "id": "7f83e5dd",
   "metadata": {},
   "outputs": [
    {
     "data": {
      "text/plain": [
       "True"
      ]
     },
     "execution_count": 26,
     "metadata": {},
     "output_type": "execute_result"
    }
   ],
   "source": [
    "s11.endswith('PODU')"
   ]
  },
  {
   "cell_type": "code",
   "execution_count": 27,
   "id": "7bf239e1",
   "metadata": {},
   "outputs": [
    {
     "data": {
      "text/plain": [
       "'moon is look like a bread'"
      ]
     },
     "execution_count": 27,
     "metadata": {},
     "output_type": "execute_result"
    }
   ],
   "source": [
    "sentence3"
   ]
  },
  {
   "cell_type": "code",
   "execution_count": 28,
   "id": "e247abe7",
   "metadata": {},
   "outputs": [
    {
     "data": {
      "text/plain": [
       "25"
      ]
     },
     "execution_count": 28,
     "metadata": {},
     "output_type": "execute_result"
    }
   ],
   "source": [
    "len(sentence3)"
   ]
  },
  {
   "cell_type": "code",
   "execution_count": 29,
   "id": "190ac123",
   "metadata": {},
   "outputs": [
    {
     "data": {
      "text/plain": [
       "'rajdeep is a bad boy'"
      ]
     },
     "execution_count": 29,
     "metadata": {},
     "output_type": "execute_result"
    }
   ],
   "source": [
    "sentence2"
   ]
  },
  {
   "cell_type": "code",
   "execution_count": 30,
   "id": "4169f6e2",
   "metadata": {},
   "outputs": [
    {
     "data": {
      "text/plain": [
       "20"
      ]
     },
     "execution_count": 30,
     "metadata": {},
     "output_type": "execute_result"
    }
   ],
   "source": [
    "len (sentence2)"
   ]
  },
  {
   "cell_type": "markdown",
   "id": "f8551f93",
   "metadata": {},
   "source": [
    "find any string using find() function"
   ]
  },
  {
   "cell_type": "code",
   "execution_count": 31,
   "id": "202e66a4",
   "metadata": {},
   "outputs": [
    {
     "data": {
      "text/plain": [
       "17"
      ]
     },
     "execution_count": 31,
     "metadata": {},
     "output_type": "execute_result"
    }
   ],
   "source": [
    "sentence2.find('boy')"
   ]
  },
  {
   "cell_type": "code",
   "execution_count": 32,
   "id": "73032cc5",
   "metadata": {},
   "outputs": [
    {
     "data": {
      "text/plain": [
       "'good food good life'"
      ]
     },
     "execution_count": 32,
     "metadata": {},
     "output_type": "execute_result"
    }
   ],
   "source": [
    "p1=\"good food good life\"\n",
    "p1"
   ]
  },
  {
   "cell_type": "code",
   "execution_count": 33,
   "id": "121fd3e2",
   "metadata": {},
   "outputs": [
    {
     "data": {
      "text/plain": [
       "28"
      ]
     },
     "execution_count": 33,
     "metadata": {},
     "output_type": "execute_result"
    }
   ],
   "source": [
    "len (sentence5)"
   ]
  },
  {
   "cell_type": "code",
   "execution_count": 34,
   "id": "15648677",
   "metadata": {},
   "outputs": [
    {
     "data": {
      "text/plain": [
       "20"
      ]
     },
     "execution_count": 34,
     "metadata": {},
     "output_type": "execute_result"
    }
   ],
   "source": [
    "sentence3.find(\"bread\")"
   ]
  },
  {
   "cell_type": "code",
   "execution_count": 35,
   "id": "0995ceda",
   "metadata": {},
   "outputs": [
    {
     "data": {
      "text/plain": [
       "13"
      ]
     },
     "execution_count": 35,
     "metadata": {},
     "output_type": "execute_result"
    }
   ],
   "source": [
    "sentence3.find(\"like\",10,20)"
   ]
  },
  {
   "cell_type": "markdown",
   "id": "3645db09",
   "metadata": {},
   "source": [
    "#the count method returns the number of occurences of a substring of agiven string"
   ]
  },
  {
   "cell_type": "code",
   "execution_count": 36,
   "id": "6a031fd7",
   "metadata": {},
   "outputs": [
    {
     "data": {
      "text/plain": [
       "6"
      ]
     },
     "execution_count": 36,
     "metadata": {},
     "output_type": "execute_result"
    }
   ],
   "source": [
    "p1.count(\"o\")"
   ]
  },
  {
   "cell_type": "code",
   "execution_count": 37,
   "id": "df1952b0",
   "metadata": {},
   "outputs": [
    {
     "data": {
      "text/plain": [
       "2"
      ]
     },
     "execution_count": 37,
     "metadata": {},
     "output_type": "execute_result"
    }
   ],
   "source": [
    "sentence2.count(\"e\")"
   ]
  },
  {
   "cell_type": "code",
   "execution_count": 39,
   "id": "d8690269",
   "metadata": {},
   "outputs": [],
   "source": [
    "sentence6=\"shreyasi is good boy\""
   ]
  },
  {
   "cell_type": "code",
   "execution_count": 40,
   "id": "704fdcbe",
   "metadata": {},
   "outputs": [
    {
     "data": {
      "text/plain": [
       "'shreyasi is good girl'"
      ]
     },
     "execution_count": 40,
     "metadata": {},
     "output_type": "execute_result"
    }
   ],
   "source": [
    "sentence6.replace(\"boy\",\"girl\")"
   ]
  },
  {
   "cell_type": "code",
   "execution_count": 41,
   "id": "74588d48",
   "metadata": {},
   "outputs": [],
   "source": [
    "k=\"kgf is a not a good movie\""
   ]
  },
  {
   "cell_type": "code",
   "execution_count": 42,
   "id": "b945d31d",
   "metadata": {},
   "outputs": [
    {
     "data": {
      "text/plain": [
       "'kgf is a not a exceillent movie'"
      ]
     },
     "execution_count": 42,
     "metadata": {},
     "output_type": "execute_result"
    }
   ],
   "source": [
    "k.replace(\"good\",\"exceillent\")"
   ]
  },
  {
   "cell_type": "code",
   "execution_count": 43,
   "id": "6db36c23",
   "metadata": {},
   "outputs": [],
   "source": [
    "sentence7=\"Swan Court was be hand over by end of June\""
   ]
  },
  {
   "cell_type": "code",
   "execution_count": 51,
   "id": "11c56a69",
   "metadata": {},
   "outputs": [
    {
     "data": {
      "text/plain": [
       "'Swan Court will be hand over by end of June'"
      ]
     },
     "execution_count": 51,
     "metadata": {},
     "output_type": "execute_result"
    }
   ],
   "source": [
    "sentence7.replace(\"was\",\"will\")"
   ]
  },
  {
   "cell_type": "markdown",
   "id": "76fd926b",
   "metadata": {},
   "source": [
    "the join() string method returns a string by joining all the eliment of an iterable(list,string,tuple) separated by the string separator"
   ]
  },
  {
   "cell_type": "code",
   "execution_count": 55,
   "id": "13859419",
   "metadata": {},
   "outputs": [
    {
     "data": {
      "text/plain": [
       "['kolkata', 'is', 'a', 'big', 'city']"
      ]
     },
     "execution_count": 55,
     "metadata": {},
     "output_type": "execute_result"
    }
   ],
   "source": [
    "sentence8=\"kolkata is a big city\"\n",
    "text=sentence8.split()\n",
    "text"
   ]
  },
  {
   "cell_type": "code",
   "execution_count": 57,
   "id": "d890cd1c",
   "metadata": {},
   "outputs": [],
   "source": [
    "#join elements of text with no space"
   ]
  },
  {
   "cell_type": "code",
   "execution_count": 58,
   "id": "f3c7e63c",
   "metadata": {},
   "outputs": [
    {
     "data": {
      "text/plain": [
       "'kolkataisabigcity'"
      ]
     },
     "execution_count": 58,
     "metadata": {},
     "output_type": "execute_result"
    }
   ],
   "source": [
    "''.join(text)"
   ]
  },
  {
   "cell_type": "code",
   "execution_count": 60,
   "id": "a693c114",
   "metadata": {},
   "outputs": [],
   "source": [
    "#join elements of text with space"
   ]
  },
  {
   "cell_type": "code",
   "execution_count": 61,
   "id": "8a602167",
   "metadata": {},
   "outputs": [
    {
     "data": {
      "text/plain": [
       "'kolkata is a big city'"
      ]
     },
     "execution_count": 61,
     "metadata": {},
     "output_type": "execute_result"
    }
   ],
   "source": [
    "' '.join(text)"
   ]
  },
  {
   "cell_type": "code",
   "execution_count": 65,
   "id": "5dbc1eef",
   "metadata": {},
   "outputs": [
    {
     "data": {
      "text/plain": [
       "['kolkata', 'known', 'as', 'a', 'city', 'of', 'joy', 'to', 'us']"
      ]
     },
     "execution_count": 65,
     "metadata": {},
     "output_type": "execute_result"
    }
   ],
   "source": [
    "sentence9=\"kolkata known as a city of joy to us\"\n",
    "text2=sentence9.split()\n",
    "text2"
   ]
  },
  {
   "cell_type": "code",
   "execution_count": 66,
   "id": "da6cb594",
   "metadata": {},
   "outputs": [
    {
     "data": {
      "text/plain": [
       "'kolkataknownasacityofjoytous'"
      ]
     },
     "execution_count": 66,
     "metadata": {},
     "output_type": "execute_result"
    }
   ],
   "source": [
    "\"\".join(text2)"
   ]
  },
  {
   "cell_type": "code",
   "execution_count": 67,
   "id": "6aa14618",
   "metadata": {},
   "outputs": [
    {
     "data": {
      "text/plain": [
       "'kolkata known as a city of joy to us'"
      ]
     },
     "execution_count": 67,
     "metadata": {},
     "output_type": "execute_result"
    }
   ],
   "source": [
    "\" \".join(text2)"
   ]
  },
  {
   "cell_type": "markdown",
   "id": "312efb2a",
   "metadata": {},
   "source": [
    "#matching lowercase and upercase using case fold"
   ]
  },
  {
   "cell_type": "code",
   "execution_count": 68,
   "id": "80488a49",
   "metadata": {},
   "outputs": [
    {
     "name": "stdout",
     "output_type": "stream",
     "text": [
      "The strings are matching\n"
     ]
    }
   ],
   "source": [
    "string1='RAJDEEP'\n",
    "string2='rajdeep'\n",
    "\n",
    "if string1.casefold()==string2.casefold():\n",
    "    print(\"The strings are matching\")\n",
    "else:\n",
    "    print(\"The Strings are Not Matching\")"
   ]
  },
  {
   "cell_type": "code",
   "execution_count": 71,
   "id": "f1c8bb99",
   "metadata": {},
   "outputs": [
    {
     "name": "stdout",
     "output_type": "stream",
     "text": [
      "The Strings are not matching\n"
     ]
    }
   ],
   "source": [
    "string3=\"Kolkata\"\n",
    "string4=\"kashmir\"\n",
    "if string3.casefold()==string4.casefold():\n",
    "    print(\"The Strings are Matching\")\n",
    "else:\n",
    "    print(\"The Strings are not matching\")"
   ]
  },
  {
   "cell_type": "code",
   "execution_count": 73,
   "id": "532ef25b",
   "metadata": {},
   "outputs": [
    {
     "name": "stdout",
     "output_type": "stream",
     "text": [
      "the strings are not matching\n"
     ]
    }
   ],
   "source": [
    "strings5=\"ladakh\"\n",
    "strings6=\"london\"\n",
    "if strings5.casefold()==strings6.casefold():\n",
    "    print(\"the strings are matching\")\n",
    "else:\n",
    "    print(\"the strings are not matching\")"
   ]
  },
  {
   "cell_type": "markdown",
   "id": "2db126d2",
   "metadata": {},
   "source": [
    "String Concatination"
   ]
  },
  {
   "cell_type": "code",
   "execution_count": 76,
   "id": "75a8e49e",
   "metadata": {},
   "outputs": [
    {
     "name": "stdout",
     "output_type": "stream",
     "text": [
      "RajdeepShreyasi\n",
      "Rajdeep Shreyasi\n"
     ]
    }
   ],
   "source": [
    "str1=\"Rajdeep\"\n",
    "str2=\"Shreyasi\"\n",
    "\n",
    "print(str1+str2)\n",
    "print(str1+ ' ' +str2)"
   ]
  },
  {
   "cell_type": "code",
   "execution_count": 78,
   "id": "07cd4ff6",
   "metadata": {},
   "outputs": [
    {
     "name": "stdout",
     "output_type": "stream",
     "text": [
      "LionTigerBear\n",
      "Lion Tiger Bear\n"
     ]
    }
   ],
   "source": [
    "str3=\"Lion\"\n",
    "str4=\"Tiger\"\n",
    "str5=\"Bear\"\n",
    "print(str3+str4+str5)\n",
    "print(str3+ ' ' +str4+ ' ' +str5)"
   ]
  },
  {
   "cell_type": "markdown",
   "id": "ded112ea",
   "metadata": {},
   "source": [
    "C style formating"
   ]
  },
  {
   "cell_type": "code",
   "execution_count": 92,
   "id": "25462996",
   "metadata": {},
   "outputs": [
    {
     "name": "stdout",
     "output_type": "stream",
     "text": [
      "hello, shreyasi!\n"
     ]
    }
   ],
   "source": [
    "name=\"shreyasi\"\n",
    "print(\"hello, %s!\" %name)"
   ]
  },
  {
   "cell_type": "code",
   "execution_count": 91,
   "id": "2c807c56",
   "metadata": {},
   "outputs": [
    {
     "name": "stdout",
     "output_type": "stream",
     "text": [
      "hello shreyasi !\n"
     ]
    }
   ],
   "source": [
    "print(\"hello\" ,name,\"!\")"
   ]
  },
  {
   "cell_type": "code",
   "execution_count": 100,
   "id": "4a4a6ce2",
   "metadata": {},
   "outputs": [
    {
     "name": "stdout",
     "output_type": "stream",
     "text": [
      "shreyasi is 23 years old\n"
     ]
    }
   ],
   "source": [
    "name=\"shreyasi\"\n",
    "age=23\n",
    "print(\"%s is %d years old\" %(name,age))"
   ]
  },
  {
   "cell_type": "code",
   "execution_count": 103,
   "id": "f7fe5f36",
   "metadata": {},
   "outputs": [
    {
     "name": "stdout",
     "output_type": "stream",
     "text": [
      "rajdeep is 25 years old his salary is 578.62\n"
     ]
    }
   ],
   "source": [
    "name1=\"rajdeep\"\n",
    "age=25\n",
    "salary=578.62\n",
    "print(\"%s is %d years old his salary is %0.2f\" %(name1,age,salary))"
   ]
  },
  {
   "cell_type": "code",
   "execution_count": 106,
   "id": "1ca0cae0",
   "metadata": {},
   "outputs": [
    {
     "name": "stdout",
     "output_type": "stream",
     "text": [
      "i like to eat apple, banana, graphs\n"
     ]
    }
   ],
   "source": [
    "fruit1=\"apple\"\n",
    "fruit2=\"banana\"\n",
    "fruit3=\"graphs\"\n",
    "print(\"i like to eat %s, %s, %s\" %(fruit1,fruit2,fruit3))"
   ]
  },
  {
   "cell_type": "markdown",
   "id": "08d760a3",
   "metadata": {},
   "source": [
    "String Formating .format()"
   ]
  },
  {
   "cell_type": "code",
   "execution_count": 109,
   "id": "f68cd065",
   "metadata": {},
   "outputs": [
    {
     "name": "stdout",
     "output_type": "stream",
     "text": [
      "Today I made prawn Malaikari its just awsome in the middle of noon\n"
     ]
    }
   ],
   "source": [
    "print(\"Today I made {} Malaikari its just {} in the middle of {}\".format('prawn','awsome','noon'))"
   ]
  },
  {
   "cell_type": "code",
   "execution_count": 110,
   "id": "030a5d1c",
   "metadata": {},
   "outputs": [
    {
     "name": "stdout",
     "output_type": "stream",
     "text": [
      "Today I made prawn Malaikari its just awsome in the middle of noon\n"
     ]
    }
   ],
   "source": [
    "print(\"Today I made {0} Malaikari its just {1} in the middle of {2}\".format('prawn','awsome','noon'))"
   ]
  },
  {
   "cell_type": "code",
   "execution_count": 112,
   "id": "8f9ac0f0",
   "metadata": {},
   "outputs": [
    {
     "name": "stdout",
     "output_type": "stream",
     "text": [
      "Today I made at noon is prawn Malaikari its just awsome in taste\n"
     ]
    }
   ],
   "source": [
    "print(\"Today I made at {2} is {0} Malaikari its just {1} in taste\".format('prawn','awsome','noon'))"
   ]
  },
  {
   "cell_type": "code",
   "execution_count": 114,
   "id": "7bdac91e",
   "metadata": {},
   "outputs": [
    {
     "name": "stdout",
     "output_type": "stream",
     "text": [
      "shreyasi and shreetama are sisters they are just 22 and 20 years old symontenously\n",
      "shreetama and shreyasi are sisters they are just 20 and 22 years old symontenously\n"
     ]
    }
   ],
   "source": [
    "n1='shreyasi'\n",
    "n2='shreetama'\n",
    "age1=22\n",
    "age2=20\n",
    "\n",
    "print(\"{} and {} are sisters they are just {} and {} years old symontenously\".format(n1,n2,age1,age2))\n",
    "print(\"{1} and {0} are sisters they are just {3} and {2} years old symontenously\".format(n1,n2,age1,age2))"
   ]
  },
  {
   "cell_type": "code",
   "execution_count": 120,
   "id": "e40d2914",
   "metadata": {},
   "outputs": [
    {
     "name": "stdout",
     "output_type": "stream",
     "text": [
      "kgf1 is too much popular than kgf2\n",
      "atfirst i saw this two movie kgf2 and kgf1 1months ago\n"
     ]
    }
   ],
   "source": [
    "movie1=\"kgf1\"\n",
    "movie2=\"kgf2\"\n",
    "print (\"{} is too much popular than {}\".format(movie1,movie2))\n",
    "print(\"atfirst i saw this two movie {1} and {0} 1months ago\".format(movie1,movie2))\n"
   ]
  }
 ],
 "metadata": {
  "kernelspec": {
   "display_name": "Python 3 (ipykernel)",
   "language": "python",
   "name": "python3"
  },
  "language_info": {
   "codemirror_mode": {
    "name": "ipython",
    "version": 3
   },
   "file_extension": ".py",
   "mimetype": "text/x-python",
   "name": "python",
   "nbconvert_exporter": "python",
   "pygments_lexer": "ipython3",
   "version": "3.9.7"
  }
 },
 "nbformat": 4,
 "nbformat_minor": 5
}
